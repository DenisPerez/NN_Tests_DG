{
 "cells": [
  {
   "cell_type": "code",
   "execution_count": 14,
   "metadata": {},
   "outputs": [
    {
     "data": {
      "image/png": "[encoded data removed]",
      "text/plain": [
       "<Figure size 432x288 with 1 Axes>"
      ]
     },
     "metadata": {
      "needs_background": "light"
     },
     "output_type": "display_data"
    }
   ],
   "source": [
    "import numpy as np\n",
    "import matplotlib.pyplot as plt\n",
    "\n",
    "# Función de Rosenbrock\n",
    "def rosenbrock(x, y):\n",
    "    return (1 - x) ** 2 + 100 * (y - x ** 2) ** 2\n",
    "\n",
    "# Gradiente de la función de Rosenbrock\n",
    "def gradient_rosenbrock(x, y):\n",
    "    return np.array([-2 * (1 - x) - 400 * x * (y - x ** 2), 200 * (y - x ** 2)])\n",
    "\n",
    "# Método de gradiente descendente con Momentum\n",
    "def momentum(x0, y0, alpha, beta, num_iters):\n",
    "    x = x0\n",
    "    y = y0\n",
    "    v = np.zeros((2,))\n",
    "    history = np.zeros((num_iters, 2))\n",
    "    for i in range(num_iters):\n",
    "        grad = gradient_rosenbrock(x, y)\n",
    "        v = beta * v + (1 - beta) * grad\n",
    "        x -= alpha * v[0]\n",
    "        y -= alpha * v[1]\n",
    "        history[i, :] = [x, y]\n",
    "    return history\n",
    "\n",
    "# Método de gradiente descendentecon RMSProp\n",
    "def rmsprop(x0, y0, alpha, beta, epsilon, num_iters):\n",
    "    x = x0\n",
    "    y = y0\n",
    "    s = np.zeros((2,))\n",
    "    history = np.zeros((num_iters, 2))\n",
    "    for i in range(num_iters):\n",
    "        grad = gradient_rosenbrock(x, y)\n",
    "        s = beta * s + (1 - beta) * grad ** 2\n",
    "        x -= alpha * grad[0] / np.sqrt(s[0] + epsilon)\n",
    "        y -= alpha * grad[1] / np.sqrt(s[1] + epsilon)\n",
    "        history[i, :] = [x, y]\n",
    "    return history\n",
    "\n",
    "# Método de gradiente descendente con Adam\n",
    "def adam(x0, y0, alpha, beta1, beta2, epsilon, num_iters):\n",
    "    x = x0\n",
    "    y = y0\n",
    "    m = np.zeros((2,))\n",
    "    v = np.zeros((2,))\n",
    "    history = np.zeros((num_iters, 2))\n",
    "    for i in range(num_iters):\n",
    "        grad = gradient_rosenbrock(x, y)\n",
    "        m = beta1 * m + (1 - beta1) * grad\n",
    "        v = beta2 * v + (1 - beta2) * grad ** 2\n",
    "        m_hat = m / (1 - beta1 ** (i + 1))\n",
    "        v_hat = v / (1 -beta2 ** (i + 1))\n",
    "        x -= alpha * m_hat[0] / (np.sqrt(v_hat[0]) + epsilon)\n",
    "        y -= alpha * m_hat[1] / (np.sqrt(v_hat[1]) + epsilon)\n",
    "        history[i, :] = [x, y]\n",
    "    return history\n",
    "\n",
    "# Parámetros\n",
    "alpha = 0.001\n",
    "beta = 0.9\n",
    "beta1 = 0.9\n",
    "beta2 = 0.999\n",
    "epsilon = 1e-8\n",
    "num_iters = 9000\n",
    "# Punto inicial\n",
    "x0 = -1.5\n",
    "y0 = 1.5\n",
    "\n",
    "# Ejecución de los métodos\n",
    "# momentum_history = momentum(x0, y0, alpha, beta, num_iters)\n",
    "rmsprop_history = rmsprop(x0, y0, alpha, beta, epsilon, num_iters)\n",
    "# adam_history = adam(x0, y0, alpha, beta1, beta2, epsilon, num_iters)\n",
    "\n",
    "# Gráfica\n",
    "# plt.plot(momentum_history[:, 0], momentum_history[:, 1], label='Momentum')\n",
    "plt.plot(rmsprop_history[:, 0], rmsprop_history[:, 1], label='RMSProp')\n",
    "# plt.plot(adam_history[:, 0], adam_history[:, 1], label='Adam')\n",
    "plt.legend()\n",
    "plt.show()"
   ]
  }
 ],
 "metadata": {
  "kernelspec": {
   "display_name": "Python 3",
   "language": "python",
   "name": "python3"
  },
  "language_info": {
   "codemirror_mode": {
    "name": "ipython",
    "version": 3
   },
   "file_extension": ".py",
   "mimetype": "text/x-python",
   "name": "python",
   "nbconvert_exporter": "python",
   "pygments_lexer": "ipython3",
   "version": "3.10.2"
  },
  "orig_nbformat": 4
 },
 "nbformat": 4,
 "nbformat_minor": 2
}
