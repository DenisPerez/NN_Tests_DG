{
  "cells": [
    {
      "cell_type": "markdown",
      "metadata": {
        "colab_type": "text",
        "id": "view-in-github"
      },
      "source": [
        "<a href=\"https://colab.research.google.com/github/DenisPerez/NN_Tests_DG/blob/main/Experimento1.ipynb\" target=\"_parent\"><img src=\"https://colab.research.google.com/assets/colab-badge.svg\" alt=\"Open In Colab\"/></a>"
      ]
    },
    {
      "cell_type": "markdown",
      "metadata": {
        "id": "hjAzjEYyZdeB"
      },
      "source": [
        "# Experimento 1: Estudio de todos los métodos"
      ]
    },
    {
      "cell_type": "markdown",
      "metadata": {
        "id": "G5BsElnuhMMO"
      },
      "source": [
        "**Propósito:** Estudiar el desempeño y la velocidad de convergencia basado en epochs de los métodos cíclicos y el método decreciente (propio) combinados con la estrategia de Momentum\n",
        "\n",
        "\n",
        "> **Nota:** Si se utilizará Google Colab como ambiente para las pruebas, se debe tomar la referencia al repositorio para que la libreta tenga acceso a los archivos que requiere\n"
      ]
    },
    {
      "cell_type": "code",
      "execution_count": 116,
      "metadata": {
        "colab": {
          "base_uri": "https://localhost:8080/"
        },
        "id": "VQc6T5wylcvf",
        "outputId": "94e00873-49a1-409b-b8e7-05b0c3d80ad6"
      },
      "outputs": [],
      "source": [
        "# !git clone https://github.com/DenisPerez/NN_Tests_DG.git\n",
        "# %cd NN_Tests_DG\n",
        "# %ls"
      ]
    },
    {
      "cell_type": "markdown",
      "metadata": {
        "id": "eDBoEOe9hDan"
      },
      "source": [
        "Al tener disponible los archivos a referenciar, se realizan las importaciones necesarias"
      ]
    },
    {
      "cell_type": "code",
      "execution_count": 117,
      "metadata": {
        "id": "F4gP7LPQTtg7"
      },
      "outputs": [],
      "source": [
        "import numpy as np\n",
        "import matplotlib.pyplot as plt\n",
        "from get_images import get_images\n",
        "from classes import CyclicLRGiselt_Denis\n",
        "\n",
        "# PyTorch \n",
        "import torch\n",
        "import torch.nn as nn\n",
        "import torch.nn.functional as F\n",
        "torch.manual_seed(0) # => importante para replicar los experimentos. Setea la semilla para la generacion de numeros aleatorios\n",
        "\n",
        "import random"
      ]
    },
    {
      "cell_type": "markdown",
      "metadata": {
        "id": "5-mULGvWTthB"
      },
      "source": [
        "### Extracción del conjunto de datos: MNIST"
      ]
    },
    {
      "cell_type": "markdown",
      "metadata": {
        "id": "sTSn33p6aEQ4"
      },
      "source": [
        "Este conjundo de datos esta basado en 60.000 imágenes en el conjunto de entrenamiento y 10.000 en el conjunto de prueba de 28x28 píxeles\n",
        "que representan dígitos del 0 al 9 escritos a mano y es considerado el \"Hola Mundo\" en el\n",
        "área de la ciencia de datos. Sin embargo, **10.000  de las muestras del conjunto de entrenamiento serán destinadas al conjunto de validación** con el que se te tomará la precisión en el entrenamiento."
      ]
    },
    {
      "cell_type": "code",
      "execution_count": 118,
      "metadata": {
        "id": "9vdIQd58TthD"
      },
      "outputs": [],
      "source": [
        "MNIST_PATH = './Dataset/'"
      ]
    },
    {
      "cell_type": "code",
      "execution_count": 119,
      "metadata": {
        "id": "slQPSqQeTthE"
      },
      "outputs": [],
      "source": [
        "x_train_num, y_train_num, x_test_num, y_test_num = get_images(MNIST_PATH)"
      ]
    },
    {
      "cell_type": "code",
      "execution_count": 120,
      "metadata": {
        "id": "HFnaRwd-TthE"
      },
      "outputs": [],
      "source": [
        "# Segmento para el conjunto de entrenamiento\n",
        "x_train = x_train_num[:50000].reshape(50000,-1).astype(np.float32)/255 ##Convert the traint set into a (50000, 28x28) matrix normalized\n",
        "y_train = y_train_num[:50000].reshape(50000,1)\n",
        "\n",
        "# Segmento para el conjunto de validacion\n",
        "x_val = x_train_num[50000:].reshape(10000,-1).astype(np.float32)/255\n",
        "y_val = y_train_num[50000:].reshape(10000,1)\n",
        "\n",
        "# Segmento para el conjunto de prueba\n",
        "x_test = x_test_num.copy().reshape(10000,-1).astype(np.float32)/255\n",
        "y_test = y_test_num.copy().reshape(10000,1)"
      ]
    },
    {
      "cell_type": "markdown",
      "metadata": {
        "id": "zZz8hG0OTthF"
      },
      "source": [
        "### Normalización de la muestra"
      ]
    },
    {
      "cell_type": "code",
      "execution_count": 121,
      "metadata": {
        "id": "_kFtDZs6TthG"
      },
      "outputs": [],
      "source": [
        "def normalize(x_mean, x_std, x_data):\n",
        "    return (x_data - x_mean) / x_std"
      ]
    },
    {
      "cell_type": "markdown",
      "metadata": {
        "id": "tn6S5bBIaKxH"
      },
      "source": [
        "Se toma la desviación estandar y la media de cada conjunto de datos y se llama a la función *normalize*"
      ]
    },
    {
      "cell_type": "code",
      "execution_count": 122,
      "metadata": {
        "id": "KYhJenIZTthG"
      },
      "outputs": [],
      "source": [
        "# Calculo para el conjunto de entrenamiento\n",
        "x_mean = x_train.mean()\n",
        "x_std = x_train.std()\n",
        "x_train = normalize(x_mean, x_std, x_train)\n",
        "\n",
        "# Calculo para el conjunto de validación\n",
        "x_mean = x_val.mean()\n",
        "x_std = x_val.std()\n",
        "x_val = normalize(x_mean, x_std, x_val)\n",
        "\n",
        "# Calculo para el conjunto de prueba\n",
        "x_mean = x_test.mean()\n",
        "x_std = x_test.std()\n",
        "x_test = normalize(x_mean, x_std, x_test)"
      ]
    },
    {
      "cell_type": "code",
      "execution_count": 123,
      "metadata": {
        "colab": {
          "base_uri": "https://localhost:8080/"
        },
        "id": "RRx3THErTthH",
        "outputId": "c6b2ab37-c232-4ad5-fa79-7fdea49d898e"
      },
      "outputs": [
        {
          "data": {
            "text/plain": [
              "(8.5686665e-08, 0.9999983)"
            ]
          },
          "execution_count": 123,
          "metadata": {},
          "output_type": "execute_result"
        }
      ],
      "source": [
        "x_train.mean(), x_train.std()"
      ]
    },
    {
      "cell_type": "markdown",
      "metadata": {
        "id": "OMAv3EVXTthJ"
      },
      "source": [
        "### Visualización de la muestra"
      ]
    },
    {
      "cell_type": "code",
      "execution_count": 124,
      "metadata": {
        "colab": {
          "base_uri": "https://localhost:8080/"
        },
        "id": "SHHAe687TthJ",
        "outputId": "02321b8c-7152-4c47-c846-98c76582b7dc"
      },
      "outputs": [
        {
          "data": {
            "text/plain": [
              "(10000, 784)"
            ]
          },
          "execution_count": 124,
          "metadata": {},
          "output_type": "execute_result"
        }
      ],
      "source": [
        "# Dimensiones del conjunto de datos de entrenamiento\n",
        "x_test.shape"
      ]
    },
    {
      "cell_type": "code",
      "execution_count": 125,
      "metadata": {
        "colab": {
          "base_uri": "https://localhost:8080/"
        },
        "id": "u_FPmhofTthK",
        "outputId": "b1eb16b6-c223-4e60-f67d-ebb8bbd14f13"
      },
      "outputs": [
        {
          "data": {
            "text/plain": [
              "(50000, 1)"
            ]
          },
          "execution_count": 125,
          "metadata": {},
          "output_type": "execute_result"
        }
      ],
      "source": [
        "# Dimensiones del conjunto de datos de prueba:\n",
        "y_train.shape"
      ]
    },
    {
      "cell_type": "code",
      "execution_count": 126,
      "metadata": {
        "id": "w4HfkSTqTthK"
      },
      "outputs": [],
      "source": [
        "def plot_number(image):\n",
        "    plt.figure(figsize=(5,5))\n",
        "    plt.imshow(image.squeeze(), cmap=plt.get_cmap('gray'))\n",
        "    plt.axis('off')\n",
        "    plt.show()"
      ]
    },
    {
      "cell_type": "code",
      "execution_count": 127,
      "metadata": {
        "colab": {
          "base_uri": "https://localhost:8080/",
          "height": 320
        },
        "id": "7TQtWTpZTthL",
        "outputId": "b08d0ae9-11e1-4713-8c45-d787f243e4a3"
      },
      "outputs": [
        {
          "name": "stdout",
          "output_type": "stream",
          "text": [
            "La imagen muestreada representa un: 4\n"
          ]
        },
        {
          "data": {
            "image/png": "[encoded data removed]",
            "text/plain": [
              "<Figure size 360x360 with 1 Axes>"
            ]
          },
          "metadata": {
            "needs_background": "light"
          },
          "output_type": "display_data"
        }
      ],
      "source": [
        "rnd_idx = np.random.randint(len(y_test))\n",
        "print(f'La imagen muestreada representa un: {y_test[rnd_idx, 0]}')\n",
        "plot_number(x_test_num[rnd_idx])"
      ]
    },
    {
      "cell_type": "markdown",
      "metadata": {
        "id": "eVo-PF6cTthM"
      },
      "source": [
        "### Creación de mini lotes"
      ]
    },
    {
      "cell_type": "code",
      "execution_count": 128,
      "metadata": {
        "id": "Ym639R_PTthM"
      },
      "outputs": [],
      "source": [
        "def create_minibatches(x, y, mb_size, shuffle = True):\n",
        "    '''\n",
        "    x  #muestras, input_layer\n",
        "    y #muestras, 1\n",
        "    '''\n",
        "    assert x.shape[0] == y.shape[0], 'Error en cantidad de muestras'\n",
        "    total_data = x.shape[0]\n",
        "    if shuffle: \n",
        "        idxs = np.arange(total_data, dtype=float)\n",
        "        np.random.shuffle(idxs)\n",
        "        x = x[idxs]\n",
        "        y = y[idxs]  \n",
        "    return ((x[i:i+mb_size], y[i:i+mb_size]) for i in range(0, total_data, mb_size))"
      ]
    },
    {
      "cell_type": "markdown",
      "metadata": {
        "id": "K5Ypqe6nTthN"
      },
      "source": [
        "### Conversión de arreglo a tensores para todos los conjuntos de datos"
      ]
    },
    {
      "cell_type": "code",
      "execution_count": 129,
      "metadata": {
        "id": "6quE_eQ9TthO"
      },
      "outputs": [],
      "source": [
        "# Conversion para el conjunto de entrenamiento\n",
        "x_train_tensor = torch.Tensor(x_train.copy())\n",
        "y_train_tensor = torch.Tensor(y_train.copy())\n",
        "\n",
        "# Conversion para el conjunto de validación\n",
        "x_val_tensor = torch.Tensor(x_val.copy())\n",
        "y_val_tensor = torch.Tensor(y_val.copy())\n",
        "\n",
        "# Conversion para el conjunto de prueba\n",
        "x_test_tensor = torch.Tensor(x_test.copy())\n",
        "y_test_tensor = torch.Tensor(y_test.copy())"
      ]
    },
    {
      "cell_type": "markdown",
      "metadata": {
        "id": "YqPgXB1DTthP"
      },
      "source": [
        "### Habilitar el uso del CPU"
      ]
    },
    {
      "cell_type": "markdown",
      "metadata": {
        "id": "QedBceD4c-SO"
      },
      "source": [
        "Primero se consulta si se tiene la plataforma CUDA disponible para la utilización de los recursos de GPU"
      ]
    },
    {
      "cell_type": "code",
      "execution_count": 130,
      "metadata": {
        "colab": {
          "base_uri": "https://localhost:8080/"
        },
        "id": "e1oc0PTWTthQ",
        "outputId": "c235088b-06ec-43e7-d1c5-2eb12450abfc"
      },
      "outputs": [
        {
          "data": {
            "text/plain": [
              "True"
            ]
          },
          "execution_count": 130,
          "metadata": {},
          "output_type": "execute_result"
        }
      ],
      "source": [
        "torch.cuda.is_available()"
      ]
    },
    {
      "cell_type": "markdown",
      "metadata": {
        "id": "qhsDToTedAlu"
      },
      "source": [
        "En caso de no tenerse, se asigna el trabajo de computo al CPU"
      ]
    },
    {
      "cell_type": "code",
      "execution_count": 131,
      "metadata": {
        "colab": {
          "base_uri": "https://localhost:8080/"
        },
        "id": "ZebY-iBHTthQ",
        "outputId": "df88dceb-bac9-46cd-b594-4e1882afa1c3"
      },
      "outputs": [
        {
          "name": "stdout",
          "output_type": "stream",
          "text": [
            "Estamos usando: cuda\n"
          ]
        }
      ],
      "source": [
        "if torch.cuda.is_available():\n",
        "    device = torch.device('cuda')\n",
        "else:\n",
        "    device = torch.device('cpu')\n",
        "print(f'Estamos usando: {device}')"
      ]
    },
    {
      "cell_type": "markdown",
      "metadata": {
        "id": "EHO4wesKdDzV"
      },
      "source": [
        "# Funciones "
      ]
    },
    {
      "cell_type": "markdown",
      "metadata": {
        "id": "L66abJ9WTthR"
      },
      "source": [
        "### Precisión"
      ]
    },
    {
      "cell_type": "code",
      "execution_count": 132,
      "metadata": {
        "id": "Zt6iiZyuTthR"
      },
      "outputs": [],
      "source": [
        "def accuracy(model: nn.Sequential, x: torch.tensor, y: torch.tensor, mb_size: int):\n",
        "    num_correct = 0\n",
        "    num_total = 0\n",
        "    model.eval()\n",
        "    model = model.to(device=device)\n",
        "    with torch.no_grad():\n",
        "        for (xi, yi) in create_minibatches(x, y, mb_size):\n",
        "            xi = xi.to(device=device, dtype = torch.float32)\n",
        "            yi = yi.to(device=device, dtype = torch.long)\n",
        "            scores = model(xi) # mb_size, 10\n",
        "            _, pred = scores.max(dim=1) #pred shape (mb_size )\n",
        "            num_correct += (pred == yi.squeeze()).sum() # pred shape (mb_size), yi shape (mb_size, 1)\n",
        "            num_total += pred.size(0)\n",
        "\n",
        "            return float(num_correct)/num_total  "
      ]
    },
    {
      "attachments": {},
      "cell_type": "markdown",
      "metadata": {},
      "source": [
        "### Find LR"
      ]
    },
    {
      "cell_type": "code",
      "execution_count": 170,
      "metadata": {},
      "outputs": [],
      "source": [
        "def find_lr(model, optimiser, start_val = 1e-6, end_val = 1, beta = 0.99, mb_size = 512):\n",
        "    n = round(len(x_train_tensor) / mb_size)\n",
        "    factor = (end_val / start_val)**(1/n)\n",
        "    print(factor)\n",
        "    lr = start_val\n",
        "    optimiser.param_groups[0]['lr'] = lr #this allows you to update the learning rate\n",
        "    avg_loss, loss, acc = 0., 0., 0.\n",
        "    lowest_loss = 0.\n",
        "    i = 1\n",
        "    losses = []\n",
        "    log_lrs = []\n",
        "    accuracies = []\n",
        "    model = model.to(device=device)\n",
        "    for (xi, yi) in create_minibatches(x_train_tensor, y_train_tensor, mb_size):\n",
        "\n",
        "        xi = xi.to(device = device, dtype = torch.float32)\n",
        "        yi = yi.to(device = device, dtype = torch.long)\n",
        "        scores = model(xi)\n",
        "        cost = F.cross_entropy(input=scores, target=yi.squeeze())\n",
        "        loss = beta*loss + (1-beta)*cost.item()\n",
        "        #bias correction\n",
        "        avg_loss = loss/(1 - beta**i)\n",
        "        \n",
        "        acc_ = ((torch.argmax(scores, dim=1) == yi).sum()/scores.size(0))\n",
        "#         acc = beta*acc + (1-beta)*acc_.item()\n",
        "#         avg_acc = acc/(1 - beta**i)\n",
        "        #if loss is massive stop\n",
        "        if i > 1 and avg_loss > 4 * lowest_loss:\n",
        "            print(f'from here{i, cost.item()}')\n",
        "            return log_lrs, losses, accuracies\n",
        "        if avg_loss < lowest_loss or i == 1:\n",
        "            lowest_loss = avg_loss\n",
        "        \n",
        "#         accuracies.append(acc.item())\n",
        "        accuracies.append(acc_.item())\n",
        "#         accuracies.append(avg_acc)\n",
        "        losses.append(avg_loss)\n",
        "        log_lrs.append(lr)\n",
        "        #step\n",
        "        optimiser.zero_grad()\n",
        "        cost.backward()\n",
        "        optimiser.step()\n",
        "        #update lr\n",
        "        print(f'[{i}]cost:{cost.item():.4f}, lr: {lr:.4f}, acc: {acc_.item():.4f}')\n",
        "        lr *= factor\n",
        "        optimiser.param_groups[0]['lr'] = lr\n",
        "        i += 1\n",
        "        \n",
        "    return log_lrs, losses, accuracies"
      ]
    },
    {
      "cell_type": "markdown",
      "metadata": {
        "id": "LR4DuKf3TthR"
      },
      "source": [
        "### Entrenamiento"
      ]
    },
    {
      "cell_type": "code",
      "execution_count": 134,
      "metadata": {
        "id": "HtRDD6Nu0507"
      },
      "outputs": [],
      "source": [
        "def train(model, optimizer, scheduler: None, mb_size):\n",
        "    model = model.to(device=device)\n",
        "    unregistered = True\n",
        "    epoch_acc = 0.0\n",
        "    iter_found = 0\n",
        "    i = 0\n",
        "    #plot lists\n",
        "    acc_list = [0.0]\n",
        "    cost_list = [0.0]\n",
        "    lr_list = [0.0]\n",
        "    while (i < 100):\n",
        "        if (epoch_acc >= 0.95 and unregistered):\n",
        "          iter_found = i\n",
        "          unregistered = False\n",
        "        for (xi, yi) in create_minibatches(x_train_tensor, y_train_tensor, mb_size):\n",
        "            model.train()\n",
        "            xi = xi.to(device=device, dtype=torch.float32)\n",
        "            yi = yi.to(device=device, dtype=torch.long)\n",
        "            scores = model(xi)\n",
        "            # cost function\n",
        "            cost = F.cross_entropy(input= scores, target=yi.squeeze())\n",
        "            optimizer.zero_grad()\n",
        "            cost.backward()\n",
        "            for name, param in model.named_parameters():\n",
        "              ik = str(name)+'_'+str(i)\n",
        "              prev_ik = str(name)+'_'+str(i-1)\n",
        "            optimizer.step()\n",
        "        if (scheduler != None):\n",
        "          scheduler.step()\n",
        "          lr = scheduler.get_last_lr()\n",
        "          lr_list.append(lr[0])\n",
        "        else: \n",
        "          lr = optimizer.param_groups[0]['lr']\n",
        "          lr_list.append(lr)\n",
        "        i+=1\n",
        "        epoch_acc = accuracy(model, x_val_tensor, y_val_tensor, mb_size)\n",
        "        epoch_cost = cost.item()\n",
        "\n",
        "        #append\n",
        "        acc_list.append(epoch_acc)\n",
        "        cost_list.append(epoch_cost)\n",
        "        print(f'Epoch: {len(acc_list) - 1}, learning_rate:{lr},costo: {epoch_cost}, accuracy: {epoch_acc}')\n",
        "    return acc_list, cost_list, lr_list, iter_found"
      ]
    },
    {
      "cell_type": "markdown",
      "metadata": {
        "id": "bgICBmLcfGaN"
      },
      "source": [
        "### Operaciones en las trazas"
      ]
    },
    {
      "cell_type": "code",
      "execution_count": 135,
      "metadata": {
        "id": "3CrTwzYWfGaO"
      },
      "outputs": [],
      "source": [
        "def SumList(first: list, second: list) -> list:\n",
        "    return [x + y for x, y in zip(first[::-1], second[::-1])][::-1]"
      ]
    },
    {
      "cell_type": "code",
      "execution_count": 136,
      "metadata": {
        "id": "wtgpbpnufGaO"
      },
      "outputs": [],
      "source": [
        "def DivideList(dic_list: list, number: int) -> list:\n",
        "    return [x / number for x in dic_list]"
      ]
    },
    {
      "cell_type": "code",
      "execution_count": 137,
      "metadata": {
        "id": "wIPWRLiJfGaO"
      },
      "outputs": [],
      "source": [
        "def DeleteZerosFromList(dic_list: list) -> list:\n",
        "    return list(filter(lambda num: num != 0, dic_list))"
      ]
    },
    {
      "cell_type": "markdown",
      "metadata": {
        "id": "015SGTIaTthS"
      },
      "source": [
        "# Experiments"
      ]
    },
    {
      "cell_type": "markdown",
      "metadata": {
        "id": "KZ2qa3c-eS1L"
      },
      "source": [
        "### Variables globales"
      ]
    },
    {
      "cell_type": "code",
      "execution_count": 138,
      "metadata": {
        "id": "WBDuey1VQTm4"
      },
      "outputs": [],
      "source": [
        "MAX_ITERATIONS = 1\n",
        "\n",
        "layer1 = 1000 \n",
        "layer2 = 1000\n",
        "lr = 1e-2\n",
        "epochs = 100\n",
        "mb_size = 4096\n",
        "input_layer = 784\n",
        "first_i = 0\n",
        "dropout = 0.25\n",
        "\n",
        "start = torch.cuda.Event(enable_timing=True)\n",
        "end = torch.cuda.Event(enable_timing=True)\n",
        "resultados = {}\n"
      ]
    },
    {
      "cell_type": "markdown",
      "metadata": {
        "id": "VKKLswGF1fN2"
      },
      "source": [
        "## Tasa de aprendizaje fija"
      ]
    },
    {
      "cell_type": "markdown",
      "metadata": {
        "id": "8_K2LxlTdfwm"
      },
      "source": [
        "Mantiene un $\\alpha$ constante durante todo el entrenamiento"
      ]
    },
    {
      "cell_type": "markdown",
      "metadata": {
        "id": "hVbs8IkEdy-1"
      },
      "source": [
        "![fija.png](data:image/png;base64,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)"
      ]
    },
    {
      "cell_type": "code",
      "execution_count": 139,
      "metadata": {
        "id": "MVrJ7coqfGaQ"
      },
      "outputs": [],
      "source": [
        "def Fixed():\n",
        "    modelFixed = nn.Sequential(nn.Linear(in_features=input_layer, out_features=layer1), nn.ReLU(), nn.Dropout(dropout),\n",
        "                       nn.Linear(in_features=layer1, out_features=layer2), nn.ReLU(), nn.Dropout(dropout),\n",
        "                       nn.Linear(in_features=layer2, out_features=10))\n",
        "    optimizer = torch.optim.SGD(modelFixed.parameters(), lr=lr)\n",
        "\n",
        "\n",
        "    start.record()\n",
        "    fixed_acc_list, fixed_cost_list, fixed_lr_list, fixed_epochs = train(modelFixed, optimizer,None, mb_size)\n",
        "    end.record()\n",
        "\n",
        "    torch.cuda.synchronize()\n",
        "    fixed_time = start.elapsed_time(end)\n",
        "\n",
        "    fixed_acc = accuracy(modelFixed, x_test_tensor,  y_test_tensor, mb_size)\n",
        "\n",
        "    return fixed_acc_list, fixed_cost_list, fixed_lr_list, fixed_time, fixed_acc, fixed_epochs\n"
      ]
    },
    {
      "cell_type": "code",
      "execution_count": 140,
      "metadata": {
        "colab": {
          "base_uri": "https://localhost:8080/"
        },
        "id": "ipwfv9PgTthT",
        "outputId": "db668725-72d2-49f6-8070-62fcddb6a29d"
      },
      "outputs": [
        {
          "name": "stdout",
          "output_type": "stream",
          "text": [
            "Epoch: 1, learning_rate:0.01,costo: 2.25014328956604, accuracy: 0.361572265625\n",
            "Epoch: 2, learning_rate:0.01,costo: 2.1934285163879395, accuracy: 0.5966796875\n",
            "Epoch: 3, learning_rate:0.01,costo: 2.1124110221862793, accuracy: 0.653564453125\n",
            "Epoch: 4, learning_rate:0.01,costo: 2.0248398780822754, accuracy: 0.70458984375\n",
            "Epoch: 5, learning_rate:0.01,costo: 1.9506199359893799, accuracy: 0.734619140625\n",
            "Epoch: 6, learning_rate:0.01,costo: 1.835248351097107, accuracy: 0.729736328125\n",
            "Epoch: 7, learning_rate:0.01,costo: 1.727689504623413, accuracy: 0.7509765625\n",
            "Epoch: 8, learning_rate:0.01,costo: 1.6122424602508545, accuracy: 0.76708984375\n",
            "Epoch: 9, learning_rate:0.01,costo: 1.5121411085128784, accuracy: 0.77099609375\n",
            "Epoch: 10, learning_rate:0.01,costo: 1.349745750427246, accuracy: 0.78662109375\n",
            "Epoch: 11, learning_rate:0.01,costo: 1.2477949857711792, accuracy: 0.801513671875\n",
            "Epoch: 12, learning_rate:0.01,costo: 1.1479226350784302, accuracy: 0.809814453125\n",
            "Epoch: 13, learning_rate:0.01,costo: 1.0675790309906006, accuracy: 0.833740234375\n",
            "Epoch: 14, learning_rate:0.01,costo: 0.9869211316108704, accuracy: 0.825927734375\n",
            "Epoch: 15, learning_rate:0.01,costo: 0.9243508577346802, accuracy: 0.84765625\n",
            "Epoch: 16, learning_rate:0.01,costo: 0.8940014839172363, accuracy: 0.852783203125\n",
            "Epoch: 17, learning_rate:0.01,costo: 0.8124194741249084, accuracy: 0.8505859375\n",
            "Epoch: 18, learning_rate:0.01,costo: 0.7032719850540161, accuracy: 0.8583984375\n",
            "Epoch: 19, learning_rate:0.01,costo: 0.6995458006858826, accuracy: 0.869384765625\n",
            "Epoch: 20, learning_rate:0.01,costo: 0.7213971614837646, accuracy: 0.865966796875\n",
            "Epoch: 21, learning_rate:0.01,costo: 0.702495276927948, accuracy: 0.865478515625\n",
            "Epoch: 22, learning_rate:0.01,costo: 0.6093340516090393, accuracy: 0.86669921875\n",
            "Epoch: 23, learning_rate:0.01,costo: 0.6459729671478271, accuracy: 0.87646484375\n",
            "Epoch: 24, learning_rate:0.01,costo: 0.6302847266197205, accuracy: 0.873291015625\n",
            "Epoch: 25, learning_rate:0.01,costo: 0.5777139663696289, accuracy: 0.871337890625\n",
            "Epoch: 26, learning_rate:0.01,costo: 0.5785704255104065, accuracy: 0.87744140625\n",
            "Epoch: 27, learning_rate:0.01,costo: 0.591376006603241, accuracy: 0.883056640625\n",
            "Epoch: 28, learning_rate:0.01,costo: 0.5312016606330872, accuracy: 0.882080078125\n",
            "Epoch: 29, learning_rate:0.01,costo: 0.5191382169723511, accuracy: 0.8798828125\n",
            "Epoch: 30, learning_rate:0.01,costo: 0.5232099890708923, accuracy: 0.885986328125\n",
            "Epoch: 31, learning_rate:0.01,costo: 0.5201287269592285, accuracy: 0.8837890625\n",
            "Epoch: 32, learning_rate:0.01,costo: 0.5036064982414246, accuracy: 0.88916015625\n",
            "Epoch: 33, learning_rate:0.01,costo: 0.5324568152427673, accuracy: 0.892578125\n",
            "Epoch: 34, learning_rate:0.01,costo: 0.500510036945343, accuracy: 0.89990234375\n",
            "Epoch: 35, learning_rate:0.01,costo: 0.4936216473579407, accuracy: 0.89599609375\n",
            "Epoch: 36, learning_rate:0.01,costo: 0.47642982006073, accuracy: 0.888671875\n",
            "Epoch: 37, learning_rate:0.01,costo: 0.4681360423564911, accuracy: 0.892578125\n",
            "Epoch: 38, learning_rate:0.01,costo: 0.4582531750202179, accuracy: 0.901611328125\n",
            "Epoch: 39, learning_rate:0.01,costo: 0.4588267505168915, accuracy: 0.892333984375\n",
            "Epoch: 40, learning_rate:0.01,costo: 0.4566294550895691, accuracy: 0.8984375\n",
            "Epoch: 41, learning_rate:0.01,costo: 0.43926098942756653, accuracy: 0.9013671875\n",
            "Epoch: 42, learning_rate:0.01,costo: 0.4673762917518616, accuracy: 0.8994140625\n",
            "Epoch: 43, learning_rate:0.01,costo: 0.4238329529762268, accuracy: 0.898193359375\n",
            "Epoch: 44, learning_rate:0.01,costo: 0.4402077794075012, accuracy: 0.897216796875\n",
            "Epoch: 45, learning_rate:0.01,costo: 0.4785260260105133, accuracy: 0.9013671875\n",
            "Epoch: 46, learning_rate:0.01,costo: 0.4320824146270752, accuracy: 0.90185546875\n",
            "Epoch: 47, learning_rate:0.01,costo: 0.4203200936317444, accuracy: 0.90673828125\n",
            "Epoch: 48, learning_rate:0.01,costo: 0.4503670036792755, accuracy: 0.90283203125\n",
            "Epoch: 49, learning_rate:0.01,costo: 0.3960869312286377, accuracy: 0.9052734375\n",
            "Epoch: 50, learning_rate:0.01,costo: 0.4713059961795807, accuracy: 0.900634765625\n",
            "Epoch: 51, learning_rate:0.01,costo: 0.41651710867881775, accuracy: 0.90576171875\n",
            "Epoch: 52, learning_rate:0.01,costo: 0.4017640948295593, accuracy: 0.912841796875\n",
            "Epoch: 53, learning_rate:0.01,costo: 0.3599011301994324, accuracy: 0.911376953125\n",
            "Epoch: 54, learning_rate:0.01,costo: 0.42028364539146423, accuracy: 0.907958984375\n",
            "Epoch: 55, learning_rate:0.01,costo: 0.43317580223083496, accuracy: 0.912841796875\n",
            "Epoch: 56, learning_rate:0.01,costo: 0.4141068458557129, accuracy: 0.90576171875\n",
            "Epoch: 57, learning_rate:0.01,costo: 0.3596595227718353, accuracy: 0.90869140625\n",
            "Epoch: 58, learning_rate:0.01,costo: 0.39734354615211487, accuracy: 0.906982421875\n",
            "Epoch: 59, learning_rate:0.01,costo: 0.4161798655986786, accuracy: 0.915283203125\n",
            "Epoch: 60, learning_rate:0.01,costo: 0.3587554097175598, accuracy: 0.90625\n",
            "Epoch: 61, learning_rate:0.01,costo: 0.38718193769454956, accuracy: 0.916748046875\n",
            "Epoch: 62, learning_rate:0.01,costo: 0.3808998465538025, accuracy: 0.9150390625\n",
            "Epoch: 63, learning_rate:0.01,costo: 0.41915464401245117, accuracy: 0.91064453125\n",
            "Epoch: 64, learning_rate:0.01,costo: 0.3435799181461334, accuracy: 0.910400390625\n",
            "Epoch: 65, learning_rate:0.01,costo: 0.3415982723236084, accuracy: 0.91259765625\n",
            "Epoch: 66, learning_rate:0.01,costo: 0.37283796072006226, accuracy: 0.913818359375\n",
            "Epoch: 67, learning_rate:0.01,costo: 0.34185680747032166, accuracy: 0.91455078125\n",
            "Epoch: 68, learning_rate:0.01,costo: 0.3306402862071991, accuracy: 0.913330078125\n",
            "Epoch: 69, learning_rate:0.01,costo: 0.3526376187801361, accuracy: 0.920654296875\n",
            "Epoch: 70, learning_rate:0.01,costo: 0.32737886905670166, accuracy: 0.9140625\n",
            "Epoch: 71, learning_rate:0.01,costo: 0.38515061140060425, accuracy: 0.916748046875\n",
            "Epoch: 72, learning_rate:0.01,costo: 0.34909987449645996, accuracy: 0.915771484375\n",
            "Epoch: 73, learning_rate:0.01,costo: 0.3624851703643799, accuracy: 0.913330078125\n",
            "Epoch: 74, learning_rate:0.01,costo: 0.35593917965888977, accuracy: 0.91259765625\n",
            "Epoch: 75, learning_rate:0.01,costo: 0.3172050714492798, accuracy: 0.920654296875\n",
            "Epoch: 76, learning_rate:0.01,costo: 0.4152531921863556, accuracy: 0.919921875\n",
            "Epoch: 77, learning_rate:0.01,costo: 0.33247873187065125, accuracy: 0.91650390625\n",
            "Epoch: 78, learning_rate:0.01,costo: 0.34668922424316406, accuracy: 0.92041015625\n",
            "Epoch: 79, learning_rate:0.01,costo: 0.31165918707847595, accuracy: 0.92578125\n",
            "Epoch: 80, learning_rate:0.01,costo: 0.3576344847679138, accuracy: 0.9189453125\n",
            "Epoch: 81, learning_rate:0.01,costo: 0.3345024883747101, accuracy: 0.918212890625\n",
            "Epoch: 82, learning_rate:0.01,costo: 0.3055279552936554, accuracy: 0.917724609375\n",
            "Epoch: 83, learning_rate:0.01,costo: 0.30173343420028687, accuracy: 0.9228515625\n",
            "Epoch: 84, learning_rate:0.01,costo: 0.3003392815589905, accuracy: 0.922119140625\n",
            "Epoch: 85, learning_rate:0.01,costo: 0.3404589891433716, accuracy: 0.9208984375\n",
            "Epoch: 86, learning_rate:0.01,costo: 0.3071393668651581, accuracy: 0.923583984375\n",
            "Epoch: 87, learning_rate:0.01,costo: 0.3120208978652954, accuracy: 0.920654296875\n",
            "Epoch: 88, learning_rate:0.01,costo: 0.3700317144393921, accuracy: 0.9189453125\n",
            "Epoch: 89, learning_rate:0.01,costo: 0.31626906991004944, accuracy: 0.921630859375\n",
            "Epoch: 90, learning_rate:0.01,costo: 0.3454612195491791, accuracy: 0.923583984375\n",
            "Epoch: 91, learning_rate:0.01,costo: 0.3193370997905731, accuracy: 0.920166015625\n",
            "Epoch: 92, learning_rate:0.01,costo: 0.293180376291275, accuracy: 0.92333984375\n",
            "Epoch: 93, learning_rate:0.01,costo: 0.34043651819229126, accuracy: 0.918701171875\n",
            "Epoch: 94, learning_rate:0.01,costo: 0.35526829957962036, accuracy: 0.921630859375\n",
            "Epoch: 95, learning_rate:0.01,costo: 0.29914528131484985, accuracy: 0.927001953125\n",
            "Epoch: 96, learning_rate:0.01,costo: 0.3406902551651001, accuracy: 0.920654296875\n",
            "Epoch: 97, learning_rate:0.01,costo: 0.30014559626579285, accuracy: 0.925048828125\n",
            "Epoch: 98, learning_rate:0.01,costo: 0.29872986674308777, accuracy: 0.923828125\n",
            "Epoch: 99, learning_rate:0.01,costo: 0.32673367857933044, accuracy: 0.92578125\n",
            "Epoch: 100, learning_rate:0.01,costo: 0.3519420325756073, accuracy: 0.921630859375\n"
          ]
        }
      ],
      "source": [
        "\n",
        "resultados['fixed'] = {}\n",
        "resultados['fixed']['val_acc_list'] = [0] * epochs\n",
        "resultados['fixed']['test_acc'] = 0\n",
        "resultados['fixed']['cost'] = [0] * epochs\n",
        "resultados['fixed']['time'] = 0\n",
        "resultados['fixed']['epochs'] = 0\n",
        "\n",
        "\n",
        "for _ in range(MAX_ITERATIONS):\n",
        "    fixed_acc_list, fixed_cost_list, fixed_lr_list, fixed_time, fixed_acc, fixed_epochs = Fixed()\n",
        "    resultados['fixed']['val_acc_list'] = SumList(resultados['fixed']['val_acc_list'], fixed_acc_list)\n",
        "    resultados['fixed']['test_acc'] += fixed_acc\n",
        "    resultados['fixed']['cost'] = SumList(resultados['fixed']['cost'], fixed_cost_list)\n",
        "    resultados['fixed']['time'] += fixed_time\n",
        "    resultados['fixed']['epochs'] += fixed_epochs\n",
        "\n",
        "#Saving results\n",
        "resultados['fixed']['name'] = 'Fijo'\n",
        "resultados['fixed']['lr'] = fixed_lr_list\n",
        "resultados['fixed']['test_acc'] = resultados['fixed']['test_acc'] / MAX_ITERATIONS\n",
        "resultados['fixed']['val_acc_list'] = DeleteZerosFromList(DivideList(resultados['fixed']['val_acc_list'], MAX_ITERATIONS))\n",
        "resultados['fixed']['cost'] = DeleteZerosFromList(DivideList(resultados['fixed']['cost'], MAX_ITERATIONS))\n",
        "resultados['fixed']['time'] = resultados['fixed']['time']/ MAX_ITERATIONS\n",
        "resultados['fixed']['epochs'] = resultados['fixed']['epochs'] / MAX_ITERATIONS\n"
      ]
    },
    {
      "cell_type": "markdown",
      "metadata": {
        "id": "EybNcRix9Krm"
      },
      "source": [
        "## Tasa de aprendizaje decreciente (PyTorch)"
      ]
    },
    {
      "cell_type": "markdown",
      "metadata": {
        "id": "5QJ1SWKZeDxO"
      },
      "source": [
        "Inicia con un $\\alpha$ inicial y va decreciendo en por un factor $gamma$. El decrecimiento se da un numero $l$ de epochs definidos\n",
        "\n",
        "$\\alpha: 1x10^{-2}$\n",
        "\n",
        "$gamma: 7x10^{-1}$\n",
        "\n",
        "$l: 10$ epochs\n",
        "\n",
        "![pytorch.png](data:image/png;base64,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)"
      ]
    },
    {
      "cell_type": "code",
      "execution_count": 141,
      "metadata": {
        "id": "ZkQsuESPfGaR"
      },
      "outputs": [],
      "source": [
        "def Decay():\n",
        "    modelDecay = nn.Sequential(nn.Linear(in_features=input_layer, out_features=layer1), nn.ReLU(), nn.Dropout(dropout),\n",
        "                       nn.Linear(in_features=layer1, out_features=layer2), nn.ReLU(), nn.Dropout(dropout),\n",
        "                       nn.Linear(in_features=layer2, out_features=10))\n",
        "    optimizer = torch.optim.SGD(modelDecay.parameters(), lr=lr)\n",
        "    scheduler = torch.optim.lr_scheduler.StepLR(optimizer, step_size=10, gamma=0.7, last_epoch=-1, verbose=False)\n",
        "\n",
        "    start.record()\n",
        "    decay_acc_list, decay_cost_list, decay_lr_list, decay_epochs = train(modelDecay,optimizer, scheduler, mb_size)\n",
        "    end.record()\n",
        "\n",
        "    torch.cuda.synchronize()\n",
        "    decay_time = start.elapsed_time(end)\n",
        "\n",
        "    decay_acc = accuracy(modelDecay, x_test_tensor,  y_test_tensor, mb_size)\n",
        "    \n",
        "    return decay_acc_list, decay_cost_list, decay_lr_list, decay_time, decay_acc, decay_epochs"
      ]
    },
    {
      "cell_type": "code",
      "execution_count": 142,
      "metadata": {
        "colab": {
          "base_uri": "https://localhost:8080/"
        },
        "id": "C69-CXmo9N3L",
        "outputId": "7f38e113-a43d-4892-865e-b21243f2e1c9"
      },
      "outputs": [
        {
          "name": "stdout",
          "output_type": "stream",
          "text": [
            "Epoch: 1, learning_rate:[0.01],costo: 2.2480053901672363, accuracy: 0.384765625\n",
            "Epoch: 2, learning_rate:[0.01],costo: 2.174898624420166, accuracy: 0.572265625\n",
            "Epoch: 3, learning_rate:[0.01],costo: 2.111240863800049, accuracy: 0.648193359375\n",
            "Epoch: 4, learning_rate:[0.01],costo: 2.026242971420288, accuracy: 0.6962890625\n",
            "Epoch: 5, learning_rate:[0.01],costo: 1.9211196899414062, accuracy: 0.730712890625\n",
            "Epoch: 6, learning_rate:[0.01],costo: 1.8247511386871338, accuracy: 0.7431640625\n",
            "Epoch: 7, learning_rate:[0.01],costo: 1.698157787322998, accuracy: 0.752685546875\n",
            "Epoch: 8, learning_rate:[0.01],costo: 1.5703805685043335, accuracy: 0.767578125\n",
            "Epoch: 9, learning_rate:[0.01],costo: 1.479306936264038, accuracy: 0.771484375\n",
            "Epoch: 10, learning_rate:[0.006999999999999999],costo: 1.3319995403289795, accuracy: 0.797119140625\n",
            "Epoch: 11, learning_rate:[0.006999999999999999],costo: 1.2712591886520386, accuracy: 0.80029296875\n",
            "Epoch: 12, learning_rate:[0.006999999999999999],costo: 1.1953129768371582, accuracy: 0.820556640625\n",
            "Epoch: 13, learning_rate:[0.006999999999999999],costo: 1.1293433904647827, accuracy: 0.8271484375\n",
            "Epoch: 14, learning_rate:[0.006999999999999999],costo: 1.0850889682769775, accuracy: 0.822509765625\n",
            "Epoch: 15, learning_rate:[0.006999999999999999],costo: 0.9876470565795898, accuracy: 0.837158203125\n",
            "Epoch: 16, learning_rate:[0.006999999999999999],costo: 0.9815975427627563, accuracy: 0.82958984375\n",
            "Epoch: 17, learning_rate:[0.006999999999999999],costo: 0.9182795882225037, accuracy: 0.849365234375\n",
            "Epoch: 18, learning_rate:[0.006999999999999999],costo: 0.8486230969429016, accuracy: 0.849853515625\n",
            "Epoch: 19, learning_rate:[0.006999999999999999],costo: 0.860492467880249, accuracy: 0.8427734375\n",
            "Epoch: 20, learning_rate:[0.004899999999999999],costo: 0.787187397480011, accuracy: 0.8486328125\n",
            "Epoch: 21, learning_rate:[0.004899999999999999],costo: 0.7715409994125366, accuracy: 0.8583984375\n",
            "Epoch: 22, learning_rate:[0.004899999999999999],costo: 0.7842701077461243, accuracy: 0.857177734375\n",
            "Epoch: 23, learning_rate:[0.004899999999999999],costo: 0.7427433729171753, accuracy: 0.8671875\n",
            "Epoch: 24, learning_rate:[0.004899999999999999],costo: 0.7209289073944092, accuracy: 0.86181640625\n",
            "Epoch: 25, learning_rate:[0.004899999999999999],costo: 0.7015137076377869, accuracy: 0.856689453125\n",
            "Epoch: 26, learning_rate:[0.004899999999999999],costo: 0.7244009971618652, accuracy: 0.870849609375\n",
            "Epoch: 27, learning_rate:[0.004899999999999999],costo: 0.6665232181549072, accuracy: 0.863525390625\n",
            "Epoch: 28, learning_rate:[0.004899999999999999],costo: 0.6650686264038086, accuracy: 0.86865234375\n",
            "Epoch: 29, learning_rate:[0.004899999999999999],costo: 0.6830950379371643, accuracy: 0.868896484375\n",
            "Epoch: 30, learning_rate:[0.003429999999999999],costo: 0.6584684252738953, accuracy: 0.8681640625\n",
            "Epoch: 31, learning_rate:[0.003429999999999999],costo: 0.6728365421295166, accuracy: 0.868408203125\n",
            "Epoch: 32, learning_rate:[0.003429999999999999],costo: 0.6878496408462524, accuracy: 0.879638671875\n",
            "Epoch: 33, learning_rate:[0.003429999999999999],costo: 0.6637915372848511, accuracy: 0.878662109375\n",
            "Epoch: 34, learning_rate:[0.003429999999999999],costo: 0.6651539206504822, accuracy: 0.876953125\n",
            "Epoch: 35, learning_rate:[0.003429999999999999],costo: 0.6151155233383179, accuracy: 0.877197265625\n",
            "Epoch: 36, learning_rate:[0.003429999999999999],costo: 0.6202166676521301, accuracy: 0.87744140625\n",
            "Epoch: 37, learning_rate:[0.003429999999999999],costo: 0.5782119035720825, accuracy: 0.87646484375\n",
            "Epoch: 38, learning_rate:[0.003429999999999999],costo: 0.6147773265838623, accuracy: 0.8837890625\n",
            "Epoch: 39, learning_rate:[0.003429999999999999],costo: 0.5717946290969849, accuracy: 0.882080078125\n",
            "Epoch: 40, learning_rate:[0.002400999999999999],costo: 0.5891535878181458, accuracy: 0.88427734375\n",
            "Epoch: 41, learning_rate:[0.002400999999999999],costo: 0.5772879719734192, accuracy: 0.87841796875\n",
            "Epoch: 42, learning_rate:[0.002400999999999999],costo: 0.5522692799568176, accuracy: 0.888671875\n",
            "Epoch: 43, learning_rate:[0.002400999999999999],costo: 0.6159934401512146, accuracy: 0.8818359375\n",
            "Epoch: 44, learning_rate:[0.002400999999999999],costo: 0.5473076105117798, accuracy: 0.88671875\n",
            "Epoch: 45, learning_rate:[0.002400999999999999],costo: 0.5420934557914734, accuracy: 0.8896484375\n",
            "Epoch: 46, learning_rate:[0.002400999999999999],costo: 0.5501051545143127, accuracy: 0.891845703125\n",
            "Epoch: 47, learning_rate:[0.002400999999999999],costo: 0.5831379890441895, accuracy: 0.880615234375\n",
            "Epoch: 48, learning_rate:[0.002400999999999999],costo: 0.5641049146652222, accuracy: 0.892578125\n",
            "Epoch: 49, learning_rate:[0.002400999999999999],costo: 0.5550816059112549, accuracy: 0.893310546875\n",
            "Epoch: 50, learning_rate:[0.0016806999999999992],costo: 0.5542005896568298, accuracy: 0.8876953125\n",
            "Epoch: 51, learning_rate:[0.0016806999999999992],costo: 0.5270349383354187, accuracy: 0.886962890625\n",
            "Epoch: 52, learning_rate:[0.0016806999999999992],costo: 0.5357405543327332, accuracy: 0.885986328125\n",
            "Epoch: 53, learning_rate:[0.0016806999999999992],costo: 0.5372936725616455, accuracy: 0.889892578125\n",
            "Epoch: 54, learning_rate:[0.0016806999999999992],costo: 0.5191270709037781, accuracy: 0.885009765625\n",
            "Epoch: 55, learning_rate:[0.0016806999999999992],costo: 0.55756676197052, accuracy: 0.893798828125\n",
            "Epoch: 56, learning_rate:[0.0016806999999999992],costo: 0.554332435131073, accuracy: 0.887939453125\n",
            "Epoch: 57, learning_rate:[0.0016806999999999992],costo: 0.5442561507225037, accuracy: 0.888916015625\n",
            "Epoch: 58, learning_rate:[0.0016806999999999992],costo: 0.5567898154258728, accuracy: 0.89453125\n",
            "Epoch: 59, learning_rate:[0.0016806999999999992],costo: 0.5402252078056335, accuracy: 0.89697265625\n",
            "Epoch: 60, learning_rate:[0.0011764899999999994],costo: 0.5354090929031372, accuracy: 0.889892578125\n",
            "Epoch: 61, learning_rate:[0.0011764899999999994],costo: 0.5014485716819763, accuracy: 0.887939453125\n",
            "Epoch: 62, learning_rate:[0.0011764899999999994],costo: 0.5352368354797363, accuracy: 0.888916015625\n",
            "Epoch: 63, learning_rate:[0.0011764899999999994],costo: 0.5518065690994263, accuracy: 0.88720703125\n",
            "Epoch: 64, learning_rate:[0.0011764899999999994],costo: 0.5404632687568665, accuracy: 0.88916015625\n",
            "Epoch: 65, learning_rate:[0.0011764899999999994],costo: 0.5196152925491333, accuracy: 0.889892578125\n",
            "Epoch: 66, learning_rate:[0.0011764899999999994],costo: 0.5632966756820679, accuracy: 0.88818359375\n",
            "Epoch: 67, learning_rate:[0.0011764899999999994],costo: 0.5577744245529175, accuracy: 0.8896484375\n",
            "Epoch: 68, learning_rate:[0.0011764899999999994],costo: 0.4952510595321655, accuracy: 0.888671875\n",
            "Epoch: 69, learning_rate:[0.0011764899999999994],costo: 0.4999668598175049, accuracy: 0.888427734375\n",
            "Epoch: 70, learning_rate:[0.0008235429999999996],costo: 0.5467214584350586, accuracy: 0.88623046875\n",
            "Epoch: 71, learning_rate:[0.0008235429999999996],costo: 0.5442032814025879, accuracy: 0.894775390625\n",
            "Epoch: 72, learning_rate:[0.0008235429999999996],costo: 0.49364224076271057, accuracy: 0.890869140625\n",
            "Epoch: 73, learning_rate:[0.0008235429999999996],costo: 0.5148643851280212, accuracy: 0.88818359375\n",
            "Epoch: 74, learning_rate:[0.0008235429999999996],costo: 0.5512044429779053, accuracy: 0.890380859375\n",
            "Epoch: 75, learning_rate:[0.0008235429999999996],costo: 0.5021896958351135, accuracy: 0.88916015625\n",
            "Epoch: 76, learning_rate:[0.0008235429999999996],costo: 0.48500022292137146, accuracy: 0.889404296875\n",
            "Epoch: 77, learning_rate:[0.0008235429999999996],costo: 0.49939265847206116, accuracy: 0.8994140625\n",
            "Epoch: 78, learning_rate:[0.0008235429999999996],costo: 0.5184664130210876, accuracy: 0.8935546875\n",
            "Epoch: 79, learning_rate:[0.0008235429999999996],costo: 0.5419400930404663, accuracy: 0.891845703125\n",
            "Epoch: 80, learning_rate:[0.0005764800999999997],costo: 0.508403480052948, accuracy: 0.88720703125\n",
            "Epoch: 81, learning_rate:[0.0005764800999999997],costo: 0.48808252811431885, accuracy: 0.89453125\n",
            "Epoch: 82, learning_rate:[0.0005764800999999997],costo: 0.48731285333633423, accuracy: 0.893310546875\n",
            "Epoch: 83, learning_rate:[0.0005764800999999997],costo: 0.499004989862442, accuracy: 0.89208984375\n",
            "Epoch: 84, learning_rate:[0.0005764800999999997],costo: 0.5217043161392212, accuracy: 0.892333984375\n",
            "Epoch: 85, learning_rate:[0.0005764800999999997],costo: 0.4945816993713379, accuracy: 0.893310546875\n",
            "Epoch: 86, learning_rate:[0.0005764800999999997],costo: 0.5112738609313965, accuracy: 0.89599609375\n",
            "Epoch: 87, learning_rate:[0.0005764800999999997],costo: 0.5166974067687988, accuracy: 0.900390625\n",
            "Epoch: 88, learning_rate:[0.0005764800999999997],costo: 0.5663073658943176, accuracy: 0.895751953125\n",
            "Epoch: 89, learning_rate:[0.0005764800999999997],costo: 0.5224117040634155, accuracy: 0.8994140625\n",
            "Epoch: 90, learning_rate:[0.00040353606999999974],costo: 0.4990187883377075, accuracy: 0.89501953125\n",
            "Epoch: 91, learning_rate:[0.00040353606999999974],costo: 0.5504000782966614, accuracy: 0.8876953125\n",
            "Epoch: 92, learning_rate:[0.00040353606999999974],costo: 0.5008346438407898, accuracy: 0.892333984375\n",
            "Epoch: 93, learning_rate:[0.00040353606999999974],costo: 0.5647683143615723, accuracy: 0.8896484375\n",
            "Epoch: 94, learning_rate:[0.00040353606999999974],costo: 0.5184559226036072, accuracy: 0.894775390625\n",
            "Epoch: 95, learning_rate:[0.00040353606999999974],costo: 0.5228070020675659, accuracy: 0.894287109375\n",
            "Epoch: 96, learning_rate:[0.00040353606999999974],costo: 0.5028294920921326, accuracy: 0.8916015625\n",
            "Epoch: 97, learning_rate:[0.00040353606999999974],costo: 0.4923129677772522, accuracy: 0.886962890625\n",
            "Epoch: 98, learning_rate:[0.00040353606999999974],costo: 0.5186043381690979, accuracy: 0.894287109375\n",
            "Epoch: 99, learning_rate:[0.00040353606999999974],costo: 0.4929514229297638, accuracy: 0.89453125\n",
            "Epoch: 100, learning_rate:[0.0002824752489999998],costo: 0.5242873430252075, accuracy: 0.895263671875\n"
          ]
        }
      ],
      "source": [
        "\n",
        "resultados['decay'] = {}\n",
        "resultados['decay']['val_acc_list'] = [0] * epochs\n",
        "resultados['decay']['test_acc'] = 0\n",
        "resultados['decay']['cost'] = [0] * epochs\n",
        "resultados['decay']['time'] = 0\n",
        "resultados['decay']['epochs'] = 0\n",
        "\n",
        "\n",
        "for _ in range(MAX_ITERATIONS):\n",
        "    decay_acc_list, decay_cost_list, decay_lr_list, decay_time, decay_acc, decay_epochs = Decay()\n",
        "    resultados['decay']['val_acc_list'] = SumList(resultados['decay']['val_acc_list'], decay_acc_list)\n",
        "    resultados['decay']['test_acc'] += decay_acc\n",
        "    resultados['decay']['cost'] = SumList(resultados['decay']['cost'], decay_cost_list)\n",
        "    resultados['decay']['time'] += decay_time\n",
        "    resultados['decay']['epochs'] += decay_epochs\n",
        "\n",
        "#Saving results\n",
        "resultados['decay']['name'] = 'Decreciente'\n",
        "resultados['decay']['lr'] = decay_lr_list\n",
        "resultados['decay']['test_acc'] = resultados['decay']['test_acc'] / MAX_ITERATIONS\n",
        "resultados['decay']['val_acc_list'] = DeleteZerosFromList(DivideList(resultados['decay']['val_acc_list'], MAX_ITERATIONS))\n",
        "resultados['decay']['cost'] = DeleteZerosFromList(DivideList(resultados['decay']['cost'], MAX_ITERATIONS))\n",
        "resultados['decay']['time'] = resultados['decay']['time']/ MAX_ITERATIONS\n",
        "resultados['decay']['epochs'] = resultados['decay']['epochs'] / MAX_ITERATIONS\n"
      ]
    },
    {
      "cell_type": "code",
      "execution_count": 143,
      "metadata": {},
      "outputs": [
        {
          "name": "stdout",
          "output_type": "stream",
          "text": [
            "0\n"
          ]
        }
      ],
      "source": [
        "print(fixed_epochs)"
      ]
    },
    {
      "cell_type": "markdown",
      "metadata": {
        "id": "-mAWn11Vmc6-"
      },
      "source": [
        "## Tasa de aprendizaje cíclica"
      ]
    },
    {
      "cell_type": "markdown",
      "metadata": {
        "id": "DNhEa7B6eoVt"
      },
      "source": [
        "Oscila entre una $base\\_ta$ y un $max\\_ta$ cada $n$ epochs en una proporción igual a \n",
        "\n",
        "$$\n",
        "proporción\\_de\\_cambio = \\frac{max\\_ta - base\\_ta}{n}\n",
        "$$\n",
        "\n",
        "Esta implementación facilitada por PyTorch, está basada en la publicación de Tasas de aprendizaje cíclico para la red neuronal de entrenamiento (*Cyclical Learning Rates for Training Neural Networks* o por sus siglas CLR) de Leslie Smith, 2017.\n",
        "\n",
        "$\\alpha: 1x10^{-2}$\n",
        "\n",
        "$beta: 0.9$\n",
        "\n",
        "\n",
        "\n",
        "\n",
        " "
      ]
    },
    {
      "cell_type": "markdown",
      "metadata": {
        "id": "m3o9wO0qfWfU"
      },
      "source": [
        "![CLR.png](data:image/png;base64,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)"
      ]
    },
    {
      "cell_type": "code",
      "execution_count": 144,
      "metadata": {
        "id": "XQlDjhUFfGaS"
      },
      "outputs": [],
      "source": [
        "def Cyclic():\n",
        "    modelCyclic = nn.Sequential(nn.Linear(in_features=input_layer, out_features=layer1), nn.ReLU(), nn.Dropout(dropout),\n",
        "                       nn.Linear(in_features=layer1, out_features=layer2), nn.ReLU(), nn.Dropout(dropout),\n",
        "                       nn.Linear(in_features=layer2, out_features=10))\n",
        "    optimizer = torch.optim.SGD(modelCyclic.parameters(), lr=lr)\n",
        "\n",
        "    scheduler = torch.optim.lr_scheduler.CyclicLR(optimizer, base_lr=0.01, max_lr=0.1,step_size_up=3,cycle_momentum=False )\n",
        "\n",
        "    start.record()\n",
        "    cyclic_acc_list, cyclic_cost_list, cyclic_lr_list, cyclic_epochs= train(modelCyclic, optimizer,scheduler, mb_size)\n",
        "    end.record()\n",
        "\n",
        "    torch.cuda.synchronize()\n",
        "    cyclic_time = start.elapsed_time(end)\n",
        "\n",
        "    cyclic_acc = accuracy(modelCyclic, x_test_tensor,  y_test_tensor, mb_size)\n",
        "\n",
        "    return cyclic_acc_list, cyclic_cost_list, cyclic_lr_list, cyclic_time, cyclic_acc, cyclic_epochs"
      ]
    },
    {
      "cell_type": "code",
      "execution_count": 145,
      "metadata": {
        "colab": {
          "base_uri": "https://localhost:8080/"
        },
        "id": "qWp659FGmhDK",
        "outputId": "ff8bbc6c-d3bc-4c21-dad2-353c96980953"
      },
      "outputs": [
        {
          "name": "stdout",
          "output_type": "stream",
          "text": [
            "Epoch: 1, learning_rate:[0.040000000000000015],costo: 2.2316181659698486, accuracy: 0.3125\n",
            "Epoch: 2, learning_rate:[0.06999999999999999],costo: 1.9464735984802246, accuracy: 0.7392578125\n",
            "Epoch: 3, learning_rate:[0.1],costo: 1.2044966220855713, accuracy: 0.8193359375\n",
            "Epoch: 4, learning_rate:[0.07000000000000003],costo: 0.6717137694358826, accuracy: 0.830810546875\n",
            "Epoch: 5, learning_rate:[0.03999999999999998],costo: 0.5572817325592041, accuracy: 0.8818359375\n",
            "Epoch: 6, learning_rate:[0.01],costo: 0.4877021610736847, accuracy: 0.884521484375\n",
            "Epoch: 7, learning_rate:[0.040000000000000056],costo: 0.5227959156036377, accuracy: 0.89453125\n",
            "Epoch: 8, learning_rate:[0.06999999999999995],costo: 0.4838169813156128, accuracy: 0.897705078125\n",
            "Epoch: 9, learning_rate:[0.1],costo: 0.4231463670730591, accuracy: 0.90478515625\n",
            "Epoch: 10, learning_rate:[0.06999999999999995],costo: 0.40578508377075195, accuracy: 0.897705078125\n",
            "Epoch: 11, learning_rate:[0.040000000000000056],costo: 0.3993113934993744, accuracy: 0.908447265625\n",
            "Epoch: 12, learning_rate:[0.01],costo: 0.38165172934532166, accuracy: 0.91064453125\n",
            "Epoch: 13, learning_rate:[0.03999999999999998],costo: 0.39284664392471313, accuracy: 0.914794921875\n",
            "Epoch: 14, learning_rate:[0.07000000000000003],costo: 0.3618043065071106, accuracy: 0.912841796875\n",
            "Epoch: 15, learning_rate:[0.1],costo: 0.2917805314064026, accuracy: 0.915771484375\n",
            "Epoch: 16, learning_rate:[0.07000000000000003],costo: 0.31840112805366516, accuracy: 0.916748046875\n",
            "Epoch: 17, learning_rate:[0.03999999999999998],costo: 0.32840976119041443, accuracy: 0.917236328125\n",
            "Epoch: 18, learning_rate:[0.01],costo: 0.3130461275577545, accuracy: 0.923095703125\n",
            "Epoch: 19, learning_rate:[0.0399999999999999],costo: 0.35435593128204346, accuracy: 0.925537109375\n",
            "Epoch: 20, learning_rate:[0.07000000000000012],costo: 0.28449809551239014, accuracy: 0.9228515625\n",
            "Epoch: 21, learning_rate:[0.1],costo: 0.296190083026886, accuracy: 0.927978515625\n",
            "Epoch: 22, learning_rate:[0.07000000000000012],costo: 0.27967745065689087, accuracy: 0.925537109375\n",
            "Epoch: 23, learning_rate:[0.0399999999999999],costo: 0.2643517851829529, accuracy: 0.92724609375\n",
            "Epoch: 24, learning_rate:[0.01],costo: 0.30960217118263245, accuracy: 0.928466796875\n",
            "Epoch: 25, learning_rate:[0.040000000000000056],costo: 0.27768242359161377, accuracy: 0.9375\n",
            "Epoch: 26, learning_rate:[0.06999999999999995],costo: 0.28597891330718994, accuracy: 0.9296875\n",
            "Epoch: 27, learning_rate:[0.1],costo: 0.2913779020309448, accuracy: 0.93212890625\n",
            "Epoch: 28, learning_rate:[0.06999999999999995],costo: 0.24653878808021545, accuracy: 0.934814453125\n",
            "Epoch: 29, learning_rate:[0.040000000000000056],costo: 0.25747066736221313, accuracy: 0.9375\n",
            "Epoch: 30, learning_rate:[0.01],costo: 0.2563389241695404, accuracy: 0.935302734375\n",
            "Epoch: 31, learning_rate:[0.040000000000000056],costo: 0.22179293632507324, accuracy: 0.93701171875\n",
            "Epoch: 32, learning_rate:[0.06999999999999995],costo: 0.25373128056526184, accuracy: 0.943359375\n",
            "Epoch: 33, learning_rate:[0.1],costo: 0.23154738545417786, accuracy: 0.938720703125\n",
            "Epoch: 34, learning_rate:[0.06999999999999995],costo: 0.2431030571460724, accuracy: 0.946044921875\n",
            "Epoch: 35, learning_rate:[0.040000000000000056],costo: 0.26383787393569946, accuracy: 0.945068359375\n",
            "Epoch: 36, learning_rate:[0.01],costo: 0.19918718934059143, accuracy: 0.94384765625\n",
            "Epoch: 37, learning_rate:[0.040000000000000056],costo: 0.19872328639030457, accuracy: 0.944091796875\n",
            "Epoch: 38, learning_rate:[0.06999999999999995],costo: 0.20855320990085602, accuracy: 0.943115234375\n",
            "Epoch: 39, learning_rate:[0.1],costo: 0.23572273552417755, accuracy: 0.945068359375\n",
            "Epoch: 40, learning_rate:[0.06999999999999995],costo: 0.2421785145998001, accuracy: 0.943359375\n",
            "Epoch: 41, learning_rate:[0.040000000000000056],costo: 0.202874556183815, accuracy: 0.9453125\n",
            "Epoch: 42, learning_rate:[0.01],costo: 0.20912028849124908, accuracy: 0.9462890625\n",
            "Epoch: 43, learning_rate:[0.040000000000000216],costo: 0.1927245408296585, accuracy: 0.94775390625\n",
            "Epoch: 44, learning_rate:[0.0699999999999998],costo: 0.23636944591999054, accuracy: 0.955078125\n",
            "Epoch: 45, learning_rate:[0.1],costo: 0.22238565981388092, accuracy: 0.950439453125\n",
            "Epoch: 46, learning_rate:[0.0699999999999998],costo: 0.21044214069843292, accuracy: 0.95263671875\n",
            "Epoch: 47, learning_rate:[0.040000000000000216],costo: 0.1718417853116989, accuracy: 0.950927734375\n",
            "Epoch: 48, learning_rate:[0.01],costo: 0.23829719424247742, accuracy: 0.95361328125\n",
            "Epoch: 49, learning_rate:[0.0399999999999999],costo: 0.1869429498910904, accuracy: 0.94482421875\n",
            "Epoch: 50, learning_rate:[0.07000000000000012],costo: 0.20366446673870087, accuracy: 0.952880859375\n",
            "Epoch: 51, learning_rate:[0.1],costo: 0.18167869746685028, accuracy: 0.957763671875\n",
            "Epoch: 52, learning_rate:[0.07000000000000012],costo: 0.19990958273410797, accuracy: 0.952392578125\n",
            "Epoch: 53, learning_rate:[0.0399999999999999],costo: 0.2267611026763916, accuracy: 0.953125\n",
            "Epoch: 54, learning_rate:[0.01],costo: 0.17291808128356934, accuracy: 0.958984375\n",
            "Epoch: 55, learning_rate:[0.0399999999999999],costo: 0.18221914768218994, accuracy: 0.955810546875\n",
            "Epoch: 56, learning_rate:[0.07000000000000012],costo: 0.18365749716758728, accuracy: 0.956298828125\n",
            "Epoch: 57, learning_rate:[0.1],costo: 0.16547039151191711, accuracy: 0.956298828125\n",
            "Epoch: 58, learning_rate:[0.07000000000000012],costo: 0.1924978345632553, accuracy: 0.953125\n",
            "Epoch: 59, learning_rate:[0.0399999999999999],costo: 0.208048477768898, accuracy: 0.95849609375\n",
            "Epoch: 60, learning_rate:[0.01],costo: 0.16641895473003387, accuracy: 0.96044921875\n",
            "Epoch: 61, learning_rate:[0.0399999999999999],costo: 0.16065511107444763, accuracy: 0.9638671875\n",
            "Epoch: 62, learning_rate:[0.07000000000000012],costo: 0.17066922783851624, accuracy: 0.95947265625\n",
            "Epoch: 63, learning_rate:[0.1],costo: 0.1445983201265335, accuracy: 0.9638671875\n",
            "Epoch: 64, learning_rate:[0.07000000000000012],costo: 0.21667061746120453, accuracy: 0.9609375\n",
            "Epoch: 65, learning_rate:[0.0399999999999999],costo: 0.1600625067949295, accuracy: 0.96337890625\n",
            "Epoch: 66, learning_rate:[0.01],costo: 0.20411072671413422, accuracy: 0.967529296875\n",
            "Epoch: 67, learning_rate:[0.0399999999999999],costo: 0.12820026278495789, accuracy: 0.9638671875\n",
            "Epoch: 68, learning_rate:[0.07000000000000012],costo: 0.13583216071128845, accuracy: 0.959228515625\n",
            "Epoch: 69, learning_rate:[0.1],costo: 0.15814964473247528, accuracy: 0.963134765625\n",
            "Epoch: 70, learning_rate:[0.07000000000000012],costo: 0.14642706513404846, accuracy: 0.966064453125\n",
            "Epoch: 71, learning_rate:[0.0399999999999999],costo: 0.14004814624786377, accuracy: 0.963134765625\n",
            "Epoch: 72, learning_rate:[0.01],costo: 0.1269247978925705, accuracy: 0.960693359375\n",
            "Epoch: 73, learning_rate:[0.0399999999999999],costo: 0.14868080615997314, accuracy: 0.962646484375\n",
            "Epoch: 74, learning_rate:[0.07000000000000012],costo: 0.15049923956394196, accuracy: 0.964599609375\n",
            "Epoch: 75, learning_rate:[0.1],costo: 0.16876021027565002, accuracy: 0.9677734375\n",
            "Epoch: 76, learning_rate:[0.07000000000000012],costo: 0.12625578045845032, accuracy: 0.96240234375\n",
            "Epoch: 77, learning_rate:[0.0399999999999999],costo: 0.12750856578350067, accuracy: 0.966064453125\n",
            "Epoch: 78, learning_rate:[0.01],costo: 0.18150323629379272, accuracy: 0.966796875\n",
            "Epoch: 79, learning_rate:[0.0399999999999999],costo: 0.17444990575313568, accuracy: 0.96728515625\n",
            "Epoch: 80, learning_rate:[0.07000000000000012],costo: 0.11511365324258804, accuracy: 0.9619140625\n",
            "Epoch: 81, learning_rate:[0.1],costo: 0.1886824071407318, accuracy: 0.962646484375\n",
            "Epoch: 82, learning_rate:[0.07000000000000012],costo: 0.12445098161697388, accuracy: 0.9609375\n",
            "Epoch: 83, learning_rate:[0.0399999999999999],costo: 0.13017527759075165, accuracy: 0.969482421875\n",
            "Epoch: 84, learning_rate:[0.01],costo: 0.1389770656824112, accuracy: 0.964111328125\n",
            "Epoch: 85, learning_rate:[0.0399999999999999],costo: 0.12587355077266693, accuracy: 0.96435546875\n",
            "Epoch: 86, learning_rate:[0.07000000000000012],costo: 0.11831588298082352, accuracy: 0.9658203125\n",
            "Epoch: 87, learning_rate:[0.1],costo: 0.132196307182312, accuracy: 0.96484375\n",
            "Epoch: 88, learning_rate:[0.07000000000000012],costo: 0.12899620831012726, accuracy: 0.96630859375\n",
            "Epoch: 89, learning_rate:[0.0399999999999999],costo: 0.13879844546318054, accuracy: 0.964599609375\n",
            "Epoch: 90, learning_rate:[0.01],costo: 0.13747526705265045, accuracy: 0.969482421875\n",
            "Epoch: 91, learning_rate:[0.03999999999999958],costo: 0.11763535439968109, accuracy: 0.9677734375\n",
            "Epoch: 92, learning_rate:[0.07000000000000044],costo: 0.11852961778640747, accuracy: 0.9638671875\n",
            "Epoch: 93, learning_rate:[0.1],costo: 0.1351313591003418, accuracy: 0.967041015625\n",
            "Epoch: 94, learning_rate:[0.07000000000000044],costo: 0.12438534200191498, accuracy: 0.9658203125\n",
            "Epoch: 95, learning_rate:[0.03999999999999958],costo: 0.13669055700302124, accuracy: 0.9658203125\n",
            "Epoch: 96, learning_rate:[0.01],costo: 0.10397152602672577, accuracy: 0.970947265625\n",
            "Epoch: 97, learning_rate:[0.040000000000000216],costo: 0.13332225382328033, accuracy: 0.968505859375\n",
            "Epoch: 98, learning_rate:[0.0699999999999998],costo: 0.11226705461740494, accuracy: 0.967041015625\n",
            "Epoch: 99, learning_rate:[0.1],costo: 0.12086447328329086, accuracy: 0.96630859375\n",
            "Epoch: 100, learning_rate:[0.0699999999999998],costo: 0.11639147251844406, accuracy: 0.9677734375\n"
          ]
        }
      ],
      "source": [
        "resultados['cyclic'] = {}\n",
        "resultados['cyclic']['val_acc_list'] = [0]* epochs\n",
        "resultados['cyclic']['test_acc'] = 0\n",
        "resultados['cyclic']['cost'] = [0] * epochs\n",
        "resultados['cyclic']['time'] = 0\n",
        "resultados['cyclic']['epochs'] = 0\n",
        "\n",
        "for _ in range(MAX_ITERATIONS):\n",
        "    cyclic_acc_list, cyclic_cost_list, cyclic_lr_list, cyclic_time, cyclic_acc, cyclic_epochs = Cyclic()\n",
        "    resultados['cyclic']['val_acc_list'] = SumList(resultados['cyclic']['val_acc_list'], cyclic_acc_list)\n",
        "    resultados['cyclic']['test_acc'] += cyclic_acc\n",
        "    resultados['cyclic']['cost'] = SumList(resultados['cyclic']['cost'], cyclic_cost_list)\n",
        "    resultados['cyclic']['time'] += cyclic_time\n",
        "    resultados['cyclic']['epochs'] += cyclic_epochs\n",
        "\n",
        "#Saving results\n",
        "resultados['cyclic']['name'] = 'Ciclico'\n",
        "resultados['cyclic']['lr'] = cyclic_lr_list\n",
        "resultados['cyclic']['test_acc'] = resultados['cyclic']['test_acc'] / MAX_ITERATIONS\n",
        "resultados['cyclic']['val_acc_list'] = DeleteZerosFromList(DivideList(resultados['cyclic']['val_acc_list'], MAX_ITERATIONS))\n",
        "resultados['cyclic']['cost'] = DeleteZerosFromList(DivideList(resultados['cyclic']['cost'], MAX_ITERATIONS))\n",
        "resultados['cyclic']['time'] = resultados['cyclic']['time']/ MAX_ITERATIONS\n",
        "resultados['cyclic']['epochs'] = resultados['cyclic']['epochs'] / MAX_ITERATIONS"
      ]
    },
    {
      "cell_type": "markdown",
      "metadata": {
        "id": "5f8ZZZ1Hcg2R"
      },
      "source": [
        "## Tasa de aprendizaje cíclica aleatoria (propuesta)"
      ]
    },
    {
      "cell_type": "markdown",
      "metadata": {
        "id": "btFiYiGVgWvF"
      },
      "source": [
        "Oscila entre una $base\\_ta$ y un $max\\_ta$ cada $n$ epochs en una proporción aleatoria.\n",
        "\n",
        "$base\\_ta: 1x10^{-2}$\n",
        "\n",
        "$max\\_ta: 1x10^{-1}$\n",
        "\n",
        "$n: 3$ epochs\n",
        "\n",
        "![random.png](data:image/png;base64,iVBORw0KGgoAAAANSUhEUgAAAZ4AAAFKCAYAAAAt0zk2AAAAAXNSR0IArs4c6QAAAARnQU1BAACxjwv8YQUAAAAJcEhZcwAACxMAAAsTAQCanBgAAFR4SURBVHhe7Z0JuBxVtbYLAiE4MhgIGS4kJGEKCCQMKjMCQRREQEBERCa54u8ACoiCoqgoGu5VvEwBA3gFBAe4jEIUkCEQBoEkEJKgZiIEEmckCeZfb1WtnEqfHqq7a9i7znqf53u6u3JyTndX1f72WnvtvQPDMAzDMAzDMAzDMAzDMAzDMAzDMJzg06ILo6fOs5lopWit8FV1+Ljod9HTkL+LRkRPO2aaaK/oaab8XPTZ6GlD/iB6b/Q0+JLoyuhpYfxWdGL0tHTK+PyG4TwDRPNEG4WvVuc/RDSCKhr9fyRe7y4qkr5iPK5yjOiG6GlTksZTBlkZz1dF10VPjbJYM340qsW/RHeIPha+Wp0/id6SELxTpK8f4EAfpGrGl5b1RSdET40U9NXrJFPMePxlsOhm0WLRi6L/J0pCD/Gg6Glq+PknRX8VzRXRO1SIougpvir6s+gx0cYiOF40Q/Q30RzRKaJG9BNdJHpFxM/Wvse3iyaKFormi74h4v/UY2fRwyLeDz//Q1F/kUIkxffC3+HvfVek1zwRyYOiCSI+E591HRHvDXNeJLpUtK4ISHERRZ4uelnE3+NzKxuKbhHx3T0q2lyUhPcyUsR5S0ac/xTxb8D/mSzi/fB+fyJaT6Qkow4+x1mi2SJ+/kbRBqJGHCJ6SsT74/+MF8HhoqOipyEnifRcThftKKqlNmrYTfSQiPPAdcN3C82up1owwP8TcT0vjZ8PFTXiEyLeJz97l2hTkfJfIv4ef/dxkUbxfGbSZEeK+O5/LwLOCeduiWiWiO9A4T3fJOLz8vv4bLWf/2eil0R/Ed0v2kZkGJWDRocb6lwRDS1jBzSuB4gUGgxupFZogwg0rtuK+P3biWh8PygCzORW0ZtEGMFY0dtEQANDo7mGaE8RjWm9Bgs+KXpONExEQ/kbUTLV9gvRZaI3i0gV0og3MjLew64i/i8pOxqi5FgFv5ffz98hxThTpOkaGpAVIsbD+P8YDCZEA8TPv1XE5/2WCPhu+PnzRWuL3ific9JgwvUiGn/e9xgRpplMtSW/5ySYy0+jp+G/7yfCAAeKaMQuFilJ4/mM6BERjTM/z3emv6cWDJpGkd/NuR0i2lIEyRTWESLe904iziXvRxv05N9ONrz8OyZ1tIjvBQPeXgTNrqda+H+Hibi++O5pzH8pUpLvExPFILYSce6+LML4lI+K+H38Gx0FTIGOE9SaBvA9/0jEz/DeMb99RMDPLxfxvvkcXCe1vwMT5D1zHjhfGLxhVI5dRPTKk5wtujp6GjJK9Eb0tCmNGkTgJqIxBm4ubm4akFbQYNAw1oMePeaj7C9S4yGCel2kUQbQoGEeacB0MC6F36s9e/hP0b3R09B4kt8hDS1jXclI5V0iokmgEX1NxPtUiHwwPoyYxkkbc/imqJXxnCmiA5H8vElo7IgYlGTjj8nuGz0N2UTEe0i+PwVT0vNYS7JBJ3JodN4aGQ/XXfI7b0byemoFBkA0oyTfJ2nkZHoQQ6ATkIx6kvB7SCdDrWnQAeI+wTgUOhs/jp6GP48xJan9HUmIUDnXRO5GAzhhhn9wg5EeILWhIoWgqS/gRqKX2w4YGo08PT7+LwbxDhFcK6Jhome/QPQdET1cOFBE75sIi/dCNKD/rxbeN2kQ5Y/xI/C5+J2ksfRz0WjWK5KA0SJSMvRoSYPQ2Nf+3dq/xd9Xkv9GhEFvGyPQv32niOMKKS2iHoXGjnExfoYGv9HnqgffGY085oKhAeeP75eog89D49boe+S7osHX94oR0YAmrwGFxpX0WivS/lySZv+n2fVUC98955rvjc9OY08jXi/NymcnnaafneuOjgORHJwh4vvgb/LvmECz65H/T9Sm8B70d0HyvNbC+/u2iO+A941BQ6O/ZwhmPH7CjUBPnBtThdHQ4CukITSHnZb/FZFqojHhZmWMgxsa6E1/TbS16N2i94soXiC9wFgTYyM0eryX20X6/2rBVPj9Cikwhc9FxMNNq5+LdF6jnPn/iEjbEd3xc5hv7d+t/VuYpkLPVGFMBQPgb+nf5jvQAoxm0LBiSI0+Vy1biCaJPixKNmoYJ++J9BSfh5RRo++R/4d56XtFpIowrVr42doxp3qk/bkkzf5Ps+upFlJifC+YFZ99DxHU+3n+JunX5GcnaiQiZzzniyK+W9Kg/BsGpL8nec6B60FTqwrnLvk91v6fJB8RkfojGuQzkvKFRp/TEMx4/IRxD3popGq44eh1Ma5Abl5hrIWURDtw89H7oyqOcQFuKmVvEQ0if4ueHUb0bxFjTJiPNr40hqTPGsE4CAP+jE3QMDBArmBKd4u+J6Lx4fqkUeOz1IP3y3thoJg016miWr4g4u/Q+BFhNCod5rNcISIVpBEWvd7kuFkjiDSYC0MKhp475nycqB58rl+JzhHVllvzefgsNJT8bd57I2jELxBpeomoiwawHhRrUAhBao7vNDnGk4S5KUQLjJ3RcCbHeBrBGBWNLg09UV9yjKfZ9VQLP4vxE6FgBOeJGsFnJ8WnHRIafMangN/Ddcj1yPthHJTvXGGcCXPQtg8Tw7BIr2HcpJJJ4zVKpdXC36OzRDTMuafzYLTAjMdPaOiIOLjBiXzordNocAMCNxDRD73qdmAMhMFzTI0bFpNQBomo7qGhJ41xn4j0Gz+LkfCz5NJpXOjlNoLGnZQd0dgTIhrsJERRmBkVVfw+/ibjF/WgkeTv8R74vfVMhUae9BkDvreJaIQbgZEzaE3akM95j4heeBpOExEdkfZjfCA53paEogt+JwanlW0IiCj5d4yH91r73SQh1cT3jFHz+XnPRAv1oKOC8fA3+d2cu3qGwoA+Zkakwu9krA4TaAbjZFxrRCyYDN+zjqc0u55qYfyHThTXMp+FNGcjSDEyQZq0JOfpWREdHuDa4v9SSELKDNPDXBQ+I2AUXH/AOCJmRPTD78b0OPdpuEbE3yFC4prlvRtGn4RKLcZg+jqkSBoVTvgIjbymoAzDMAwHqZLxkEojFdVs7MgwDMMomaoYD2N3jH1YFGsYhmEYhmEYhmEYTlOJWvMDDjhg5Z13NiuCMQzDMPJmDSF+2pRKlFO/8goVmIZhGIYP2DwewzAMo1DMeAzDMIxCMeMxDMMwCsWMxzAMwygUMx7DMAyjUPI0Hjbgel7EoovJFYgV1pxikT5WkmX73SSs7PtCrEar/BqGYRgekpfxsHT+JSJWjGWJeFZ/5TEJCx6yCyQr4SbRJdFZaZel1Hmu2wsbhmEYnpOX8WAYRDpzRMtELF9eu1cIO/U9LWIflCTsf/JrEUussyw+z5PbFxuGYfR5fvKTnwSbbbZZsOaaa4aPvPaFvIyHjaaSe2DMEyW3km1G2v97smgqWryYPZ8MwzD6BpjMySefHPzxj38MVq5cGT7y2hfz8bm44HLRODRwYHJbfMMw+jo+RwNpOOecc4J//vOf8asIXnPcB/IyHnbjS+4/zzbH9faCr0c3/9cwjD6O79FAGv70J4bIe9PouGvkZTyPiUaJhovYxvgoUbPtkJOwdS179lNQgHjOMcMwMsCiAf8ZOpT+eG/+4z/82CcwL+OhRJo96DEM9udnr/VpIvZfP1gEbG7F+M0RostE/DtQVPB1EeaF+D8cMwyjSywa8J833ngjWH/93oW+b3rTm4ILLrggfmXkztixY+UeMgyjFZtuuim7svYSx6tC1T/jGWecEX6e448/ftVn7d+//8rrrrsu/onykPeSCp+LCwzDaJOqRwNAr3/AgAHxq4iqRAM//vGPg4suuij41Kc+FVx11VXBH/7wh+Cb3/xmsGzZsmCvvfaKf8p9zHgMow9AZ/TSSy8NH+vhy9hAGo455pjggx/8YPwqCCQqCC6//PLwuM88+OCDwSmnnBLsu+++wYQJE+KjQXDIIdEUyVtuSTuMXj5mPEZqqj4oXVX+8pe/BEcddVRw6qmnBttuu22w7rrrxv8SUcWxgX/84x/xsyCYM2eO96bDWNyHPvShsINw4403BmuvvXb8L0Gw1VZbBSNHjvTKeCqBjfHkD/ljaaDCfLKK1y7klY3GPPbYYytHjBixsl+/fiu/9a1vrXzjjTfCcyYNWHgO3/zmN1fuHPIZ119//ZVrrLFG+Bn//ve/x//iJ3/7299WvvOd71z59re/feWMGTPio6tz+umnh+M8f/3rX+Mj5SDfd9/BBePh5mWgj4udx6rdzDqIWSuOG+6QvA5pfCU6XTls2LCVv/vd7+Kf6OEDH/jAyi233DJ+VR2eeeaZ8NrcaaedwsdFixbF/+IfmKhEOuF5vOOOO+Kjvbn//vvDzyrRUHykHOQ99B3KNh5u9qpHA9p7rBXHDTeodx0S6Vx66aXxT6zO17/+9fD8/fnPf46PVINLLrkk/Oxf+cpXwsc5c+bE/+IP2oHQ83jMMcfE/1KfFStWrHzHO97R8ufyRt5r36Fs46lyNLB06dLwBm5kPBbxuEO71+Gdd94Z/vu9994bH6kGRx111MrBgwevvOGGG8LPRwTkE512ZD/+8Y+vXG+99VYuW7YsPlI88l5TYcUFGVCFEtXawoGJEyeGA87Dhw8PpGccjBs3rrIlqlWh3etwp52Ywx0Ejz3GPO1qQNv3wAMPBHvssUfwlre8JTyWLDTwgU5XXqC6TaLX8PO7jhlPBjQqRfWlRLXebPYTTzwx+PKXvxzsvvvuwRNPPBE8+uijwZVXXhmWpirMH/C9WqhKtHsdbrDBBsHmm28entuqwLyW+fPnh9ftm9/85vDY3//+9/DRFzrtyO63335h5/BXv/pVfMRdzHgygF6/zyWq9XpYMGjQoLBEc4cddghfYzLc2GiNNdYI/vrXv4bHDTf4xje+ET/rodV1uPPOO1cq4tHeftJ4fIt4hg1LrpHcQ6uOLJ/3ve99b2g8bWS9SsGMJwNokM8444z4VRAMHjzYqwlrjXpSixYtip+tDlHPPvvsE86i/ve/a/fxM8qC+Ryw4YYbhh0DzlOr6xDjmTt3brBw4cL4iN/cf//94Tpm22yzjbfGc+ihh8bPekjbkSXdRsbi6afZY9NdzHgygptdufXWW71KQXWSKvz4xz8eTsz73e9+Fx8xyubOO+8MH6dNmxZ2CIhMW12HVRvnIeJ5z3veE45V+mo8M2fODNZbb73w/kvbgVA+8IEPhP/H9XSbGU9GMA6iMFPcJ+hJ9evXL34V0aqHxSzqt771rWHUY7jBHXfcQYVnsPHGG8dHWkMalXNfBeMhQqfRprAAfDQesg90ID796U+HkUvaDoTCud91113NePoKGM8mm2wSPvdt7IPlVNZZZ53wRk3bw8KYjjzyyHD5Dt8Gb6vI0qVLg4cffjg48MAD4yPp4DyOGTOmEgUGGn0zvgM+Gs/VV18dPn7iE58IHzuBdBvt0bx57DrjJmY8GcDA/PTp01etDuub8Tz11FPhZ7jsssva6mGRbuOmvvnmm+MjRln8+te/Ds9du8YDWmDg+oB0K0izUeSz4447hq/pTJFy88V42GeHaQxUpzGloVN8WDTUjCcDGMjjpvfVeO69997wkYKBdnj3u98djBo1alUvzSgP0myMC2Ai7cI4DxHT7Nmz4yN+gvGQZurfn02PgzB6J+rxxXjuvvvusNDjpJNOio90xpZbbhmMHj3a6XSbGU8G6PiOz8az9dZbr0oVpoUbm6jnvvvuCwsNjHKg08O4wP777x+stdZa8dH0qFn5PM7DPUfkrmk2xSfjYZ7cwIEDg4MP1k2aO4eo5ze/+Y2z481mPBnw+OOPB+94xzvC3j/LlftkPK+//nrYU2SPj0449thjQwO65ppr4iNG0fz+978PXnrppY7SbEDpMSkqn8d5HnroodCAfTUeCiNIjR133HGrIrZuwHiWL1++qtLRNcx4MoCIh7wyDfDb3vY2r4znkUceCV577bWOjYfJbkxaq8qcHh/3HCLNBuPHjw8f24UoievX54iHzhOf413veld8JMIX4+H+WbFiRXDCCSfER7qDlCPRk6vpNjOeLiFiePbZZ1cNaL797W/3ynhIs9HI7rnnnvGR9jn++OPD0k9Sbj5Tb+kgXrtuPvRqKYtmpYlOId1GB4peso9gPNyDWsmm+GA8XGuk2YjWGJ/JAkrkmdNz++23O3lOzXi6BNOhp8L8CfAt4sF4WACUgelOYZthPrfvRQadLs5YJiwKSZqp0zSbQoEBkS+TT33jX//6V5gmrE2zgQ/GQ4dt1qxZXRcV1EK6jTEeFzuEZjxdwvgOaMTjk/H87W9/C2/YTtNsCuMDzAW66aabvDLdJCwZQ4RTj1aLM5bJPffcE5bhdms8PhcY8J7JPPhqPEQ7ZEoOO+yw+Eg2kALn3nQx3Zan8ZBwfl40S3QWB2pYR3SDiH+fItLCdUbW6Do/I/q9KCoVcxTSE0QLbB8APhkP61oRrXVrPEC6jR4z5uMq9cZvJk+eHBxxxBFNlwdqtThjmWgZNTn9bhgxYkS4WrWPBQak2WC33XYLH5OwNYLLxrNkyZLwnvnoRz8aTubNEn4flY4Yj2tztPIyHtZfuUREN2xr0dHxYxJG0ZaKRoomiC4Ugcab24r2E31P5GxkliwsAJ+MhzQbk+yYj9Mtu+yyS7DFFls4m26rN35DRR6mi/l85jOfCS666KJeNz+vXV1lnM/B+A4TDjspo07C9Uu6zceIB+OhMi+5XqLiesRz3XXXhdFa1mk2hXQbc4MoNXeJvBp04nYiGSZ3LBNdL4qm0/bA60nR04BuMt1uWm8MarIIXhb9WTQufOUYDNoxeVTTbIDx+LJWG8bDgoq1Wzp0gs7pYdkS8tWuUW/8hoabxoqlRTCd008/PVwqSBsw11cZ59pbsGBBx9VstWA8jFnWfk8uQ5qRMa56aTbAeFxd0onr74orrgjHWN/5znfGR7PloIMOCh/33ntvpyo18zKeIaK50dMQFg3iWJLkz6wQ0Vpzx5NeYwYVXTjyV4za19ug4mTRVLR48eLwQNGwTA69lVrj8SHiefnll8OGK4s0m0IEwcXt4sKhjcZpSHUkjReTuSaek/Tzn//cWdOBbsuoa2Gch4b8ySefjI+4D9cw91sz48FIXUs1AWlNjD6vaAdYSol7ks6wRvouVGq6mMK6SoRRYSoXix4SvSGq5XIRkdA46tXLQFcs0Io2wHgwI+QyzGqGLI1nyJAhYU550qRJYQPmEu1s/aARzyuvvBI+ugrGQ0+ZyCwLdIsEn8Z5dHynmfHQ4DL+6BpEO6RyKczJCyL92vl1LlRq5mU880XJKGWoiGNJkj9DdPN20asiop/PibYXkY6jznemyDmoaGPwcuRIhqkiMB6gYsxlSLPxXpOmmQUUGZC6UmNzBcZpasdBGo3fsAoFuGw89GCzKKNOwjwgJgT7NM5DgQyrqTfatRPjAdfGeWgfrr/++tB0tM3Ig0aRftmVmnkZD1fuKBGpMqrUsPTapVJ5fVz0NDhcxLgO8TCjuzoLjOICjGh6+MoxiHiYuEcoq+hF5Hq6DeNhbbluB6VrYZ0pUlcMarqUUyZlRvEDy5EwHtVs6weNeF59lX6Qm3D+qEjM0niAdJsvEQ+RDBGP7r9TD1eNB9PhPeWZZoN2Iv0iyct4MIvTRHeJZohuFDEz7XyRroA3UcQdzkj050Vacr2RiBwW/+9M0bEi5yCVRKVIcnwHfDAetj1gUU/q/LOGLRIoutC8ukuz/xkLpGyV1EOzrR+YU8HMb5cjHtJsXGu1S8R0C+k2Vql22XSVF154IRyrbJRmA9eMh/uAzhj3BOs65r0iOBF9bfGQy5WaXjF27Fhp44rl2WefJTpbec0118RHIu65557w+H333RcfcY8rr7wyfI/Tpk2Lj2SHRBLh764Vx8tk4cKF4fu4+OKL4yPN2XjjjVdK4xC/cgsxzpVDhgxZedhhh8VHsmPy5Mnh93TnnXfGR9xFr+MZM2bER3pz6623hj8zZcqU+Eh5XHfddSul0Q/fj4rXHM+Tq666atXf4z7M8+/J30iFi8UFXqCFBbURD71lcDniIU3DFghbbbVVfCQ7XM0pU/0EactWSbe5GvFQCTV//vzM02zAmB+pSB/SbaTZKCwihdoIlyKespZkYpoDKfWzzz67rW2088SMp0MwHkLY2ove9VQbnRImTLLpm056zRJXc8psHQDbbbdd+NgKCgxcNR4toz7ggAPCxyzh+mWhSh8KDCgsYLWCZtexS8ZTVqeM74fz6lKbZMbTIVS0bb/99r0G5103HhaBZO+PLMuok5A7JoecxIWcMhHP0KFDw2Vh0oDxuDrOgfFsu+224efJA8Z5iHjayJwUDhHfiy++2LSwAFwynjI7ZWY8FYDBaSbZ1abZwHXjIc0GeRkPYTzVYnozDRgwwInZ/0Q8aaMdcDXVRhkuq0PkkWZTqGyjc0JZvKu0mr+juGQ8ZXbKzHgqAEvCsAxHPeMh/UZFlMvGw7yjPHtZmAzVbF/60peCZcuWhZNKy4T3MGPGjLaMRyMe13r9eZVRJ3F9IimVYVqG/KEPfahpxaRLxqOdMtoHaFbSnzWu7RNmxtMBuhVCvcmXmk91cb02Gqzf/va3uUU7tXz4wx8Oo8Nf/OIX8ZFyeO6558LP3s56WEQ8/B/XOhCk2d761reGa+zlBd8Tpb4uGg8mQymyrr/G+Eizcn2XjAcwmfXXXz849dRTCx3ot4inAlBYwETErbeuXXA7wrWTrDBgTKqmKOMhwhg9enRw441M4yqPdgsLwLXVC2hYtYeMIeb5nbJiOeOXLhYYtFsZRgaCzqArxgOYphpiUbjWGTbj6QCMh0aMXmE9XDUeHd9hpdoi4IZnrxuWz2GiX1lQWEBjigmmRY3HhQID7eVr9RPrjjXr5WcB6bapU6f2WuerbNqtDOMapJF3xXjoNLBjKkttFYlFPJ5Dzh/jabbGmcvGQ09WG9UicCHdRsTDfi3tLA/k0kKhZcz/oMCA6Pj559nL0R06qQxzyXj0fZjxGG1BCSf73NcrLFBcNB4aKhaVLCrNplD2y1ynMtNtRDzt7nfiUqqt3V5+FrhaYEAFGGnuJK0qw1wyHh2bKsN4iLQotHEBM542abRiQRIXjefBBx8ML7qijUfTbRQ1lJFuoywYtTO+Ay6l2jrp5XcLnQWKGFwb52Ew/mMf+1j4nGsrTWUYxuPKZnBlRjzgyqr5ZjxtgvGQsqEn3wgXjYc0G++71byHPNB0GxurFU27S+UoLi0UWsb8Dz47E1TZM8alVcaBlRWAzEOayjCLeNxbysuMp00opR4zZkw4WN0I12rmAeNhJeOiL3jg+6KxKCPdpsbTrKNQD3rTrkwipWGlV69jVEXM/8BkWP2ZKJlxTZdWGcdwMMO017IZT0/EY8bjIVpY0CzNBpxkxlSoYCkbGgo2yaJCiUa4jIZD02333XdfmPYqEgoL2KGzk4IK/o8ry+ZgMnRoipr/QeFC7fWbd0FDWjAevovkPljNMOPpMR5XSqrNeNqAJUToAbfatdOVfComQy9Vlz7hoiur11pWuq2TwgLFpWVz6PTQ4DL5sAjKKGhIC9fxeuuxMXE6zHgs4vEaXbEgTcQDZZ/kMspwG0E5c9HpNtJE06dPb7uwQCHiccV46MSw+WBRxlNGQUNaNOJJixmPGY/XkGYjvG/VkLlykl3qtZJuI+phKfuXXnopPpovzEFhN9RuIh5XUm1Lly4NH4synjIKGtKC8VjE0x5mPB6D8bBMTu0NWYue5LLzqa71WotOt3WyVE4SjXhcWCi0aOPRggadSMvGgXkXNKSlU+Nx4Tya8USY8bQBqbZWaTZw5SS71msl3caupz/72c/iI/nC+A6TDZvtUNkMjIcBdhfmPhRtPIDJUJQCrDTugulAJ2M8dHhef/31+Eh5YDxUJ9ZOgs0b7nuXVs0340nJwoULwxSRT8ajvVYt/S5yGfZGEPVQ3VZEug3jaXepnCQuLZtThvEA83eIkDlnrtDJGA+4kG7DeHg/pJ6LhL9Hu2TG4xlpVixQXAprMRmijIMPPtiJ/dYpqyblcfPNN8dH8qPdzd9q0RLsvmw8sOeee4bG40KqigIL7qt2Ix5wxXiKTrMptEt9oZx6vIgVBmeJzuJADXTDbxDx71NEm4mAJZ8niZ4RzRCdLSoVyo+1weaxVTmyS8YDZV7stRCBME6Wd7qN5XmIqjotLAA1HhcKDMo0nr322itYvHhxuJle2eg91Y7x6LVvxlP9iIct9i4RsU0im9YcHT8mOUHE3TRSNEF0oQiOEGFKTDVnwswpIjWlwtG5MNpTmDt3bsu5MBpKu3KSGaNwxXhAq9tIX+aFrljQTcTjWqqNHD3rpxUNEQ+4kG7T+9DXiIf3YMaTn/HsLCKSmSNiOdTrRYeIkvCayAZuErF6JYlP4nmuFBLz64r4/6V9W53MhaHkmgbCpYinjAarEZpuy7O6LQvjcS3VRmNb9NgAjBgxIhgyZIgTxsP4Dvg8xmPGk5/xDBHNjZ6GMHWeY0mSP8PaHHRl6GJiQlwhdIeZcHKRaImolpNFlNxMJQ2QF53OheHGcOEkU81TZi+rHqTaSLnlOZmU8R1KgAcOHBgfaR9dlsWVVFsZaTbA7Ih6WGG87HEeNR4b42mfvmA83UC09IZosGi46HTRCFEtl4vGoW4al1Z0OhfGlZOsN5tLxgOUOJNuo2HPY+XjbpbKUXhvriybU6bxAOM8rLM3c+bM+Eg5mPF0jiudYcjLeOaLhkVPQ4aKOJYk+TOk1Yid6Vp+RHSnaLmIDVweFGEwpcCcl9py3DRzYVwxHi50cCnVhsncfvvt4XN60FmvfMxqBd0slZOEdFtfj3jAlXGebsZ49F4oE4t4IvIyHnaPGiUiYmGm1FGiW0RJeH1c9DQ4XDRZRBxPDmsfEXDF7Cp6LnxVAlSxDR8+PJzwRcoh7VwY14zHpYiH8TF2Q0yS5RpyLJXDOm3dRjxgEU/EqFGjgkGDBpVuPDbG0zm0SdxndMzKJi/jYczmNNFdImowSeZPE50vOlgEE0WM6VCE8HmRllxTDceZ4ecxsKtF0UhxCdCAMZ5z2mmnheMlaefCuGI8OuvepYgn7zXksigsUIh4zHjcGedR4+H+SosrxsP3VrbxgAsrceQ5xkMuZbRoc5Hmpc4VaeRDl5fSacqpGdehAg7oonN8GxEl2N8VlcaTTz4ZLrXx7ne/Oz6SDk6yC5O1XIx48l5DjsKCbpbKSeJCqo0Gq2zjAcZ5FixYEMyePTs+UjwYD52odlajWHddimPLNx6ifDqvZRuPCx1iF4sLnOKhhx4KH9m9sx1ciXhcNJ6815Aj4qFybu21mYvcHZpqK7OXzzksckuERrgwzkNnrp3xHaBIhOurbOMp+1404/GIhx9+OBzXYRfLduAka4NRJi6m2khVMk5GuTMQVWS5hly3S+Uk4b2REy8zPUG0A2UbD/spbbTRRqUaDxFPO+M7Cuk2Mx4zHm8g4mk3zQZ6kvViK4uyL/ZGYDK6BMuZZ56Zmekwp4sVEbIoLACMB8pMt7liPIzz7LHHHqWO82A87UY84JLx6JhT0ahhm/E4DsvjzJ8/v+00G7jSu3DVeIAbAVFOnRXPPMMSf9kUFoALy+a4YjzAOA/3BUU2ZVAF47GIx4ynKTq+003EU/ZJ1hSRi8YDpDGzNB7d/M0innwoe5ynkzEeMOPpaZNcKHoy42kCxsOgZCe9Z5ciHvbjyWKgPQ+yNh4KC5hvktVqFhbxrA5FG3wnZRmPz2M8+vct4jHjaQqFBTvttFNHjbYr+VQiHlejHcgj4skqzQYa8ZjxRFAhpuM8RcO4UqepNu6Bvh7xYL6M05nxOAwzfJnD00maDVyKeFyqaKsF4yH0zyL8Z5vqadOmZZZmAxq5shcKxXh4D66cR8Z5GOPJasJvWriWmQdjqbbOwHRol8x4HIa95mnIqmA8Lkc8LBAKWUQ9ulROlhEPDf4GG2xQesSjBugCZY3zaOfEjKdzzHgchzQb7LorS8W1jyvG40OqDbKoktKlcrKMeIB0W9nG40KaTdl2223D91N0uo00G/g6xqPGUzt5ukjMeByHwoLRo0evyvG3izb2LkQ8rqfaIIuIB+NhPC6LpXKScA2UnWpzyXiIvHbffffCIx41Hp8jHkyHnWTLAtP2xXhoGd4bPQ13BHW3FcsIBjE7nTiqcHFhPmWXLrqeaqP6jLW0sjAeCguoumKdtiwpe4Vq14wHGOdhzTbmuRVFt8ZD6pxUbFm4cC8S8fhQTn2SiB1BLwtfRfvq/DJ6Wl24oWhoOpk4msSFsNb1VBsDniwOmlXEk+X4jmIRT2/KGOfpdowHNN1VBq4Yjw8Rz6dE7xHpO31BtFH0tLp0M3E0iQsnmYvd5VQbdFtSzQZyw4YNC3vft956a+a7mZa9UKiLxsM4GmmbIsd5uh3jgTLTbWY8PbQyntdFydiUtcjLW6a3ICgs4ASRtukGV4zH5YgHujEeTIbdS+fNmxe+pnHKcjdTIOIhRVNGbxmzc9F4SCUXPc5jxtM9vhgPV9WXRIzt7Cf6mehWUaUh4qGardvy1bJPMjlt9gBx3XgoqX755ZeD1157LT6SHnYtZc5Vkix3MwUtMCkj3UZDyXl0zXiAdNvMmTPDRVmLAONhPJCVONrFjCeCNonvoOxV81u1rOwKuljEyouniNjc7cuiyoJRsNBkt2k2KNt4tIfuQ6oNOol68t7NFMpcNodoB1w1Hrj//vvDx7xhjKeT8R1wxXj0fZQFbRKUuc0HtDKef4uuELEj6OHx80qn2h599NEwvVEl4/Eh1QadGE/eu5mCRjxmPKuzww47hJ2aosZ5iHg6SbOBC8bD3y77XtTvr+x0WyPjuTF+JNJhVl5SLP/7G9EhospBmo1Kq1122SU+0jmc5DJPsOsrUyvdGE/eu5lCmak2l42H7ad32223wsZ5MB7fIx4XUm1Qdkl1I+P5TPz4ftEHanSw6AzRhaLKgfGMGTNm1QnqBo14yqqG8iXVxu6uNGKdGA8byH33u9+NX0UmluVupmCptsaQbmNDP8bo8saMp3u0XXM14tHRQlqCenpclN2d7QgsQPjII49kkmYDTjKmU9bF7kuqjQqpoUOHdlzZptWHd999d7j0TpamAzR2FJqY8fSG4hVgKwqKRLIuZU/SzRiP3gNl3YuuFPq4bjwKC5U9JqIFo6yaUgh9x5hPpaDnxsXd7cRRpeyT7EuqDbopqdYttLfaaqvwMWswRhYKtVTb6mAy3/nOd8LndLA4f1mXsifxeYxH/64ZT0Qr4/mh6GgRE0cpqT5RdIkoDeNFz4tmiaiOq4WayBtE/PsUUbRMcRRJPZUQBQ7bi3Inq4mjStkn2ZdUG2A8nS4UivHwGYcMGRIfyZ6yls3BeHQ5e9coopRdwdi6SbXpOGBfzz74YjyAMbCqHdHO1SIMpRX8PAZ1oIg8COZVOxvzBBHduZGiCSIdM6K7hNGgY0UvijCg3GHiKAPJI0fylrpHT3JZA3m+pNqANM2CBQuC5cuXx0fSg/FsueWWYQOdF1wXZUU8mupzjSJK2RXSVEzi7dR4+P6YA2TG44fx0J1hxUUafmLqz4nS3AE7izCsOSJSdNeLaqvgeD0pehquB7evqLblwLD4v4VAxEOaLasGrOyT7FuqjTE2XYGgHdR48qTMiMfV8Z0iStkV7bx1ajxAuq2vGw9/n/bNdeMh4uBnThNxxoaJDhO1gpzH3OhpCK1JbR4k+TMrRFxZUflQD0eKfho97cXJoqlo8WLmuHYHvVk2EssqzQZlG49e7JrfdplOS6oxV9Zoy2t8RyHiMeNZnSJK2RXSbNDpGA+Y8USRH2lpV8uplT1Ea4toOb8m+rwo365lD0ykIeJ6NnzVm8tF4xBL63cL1WxQNeOhIShz/4+0dGo8zz33XPhYhPHQOSm6NN5l46F6kNJ1fX9UJmZdyq6o8VjE0z20S65HPD8QPSBK3tXnx4/NYJMOoiOF7RRqN+5I/gyLj9KVSSbRjxI1inYyhzQbc0nGjcPLssGFVJsPaTZgdWlo13jyrmhTSLW9/vrrhTdcLhsPYDITJjBEG22RkIfpgBlPdvhgPAzsf0LEGAzL5kCaARBKsEeJhosYI8JEbhEl4fVx0dNwOZ7JIu1O8r4+LCpsfIfCgu23375X6qAbtJqszIjHh4o2YOHHTTbZpCPjocMwYsSI+Eg+6OoFRafbXDce0PRXnukbG+PJDh+MByN4QsRqgIypXCRKk7dhzIZxobtEdElZgmeaiGiJlQ9googxHYoQSOElS65J8TH+Q3FC7jC5a8qUKZmm2YBtmKmkKdN4fIl4oJOSalJto0aNCr/rPFHjKbKyTUuIXTceNQONSvIgqzEeNYCiUcPjPZSND8ajKxjQzTtAhBGN4UAKWMl6tGhzkY42nivSyIcpz0RR1C5TBZc0GVYdZPJqIbBzJfMPspo4mqTM9dp8SrUBJdWdRDx5p9mgjGVz2CaCEmKLeCzVliU+GM9B8SMwkfMLolb/xztIs0HWEQ+UeZJ9SrUBEc/cuXPDsuo00CjPmjWrEOMpI+IhzQYW8US/WzMInVK28ZAS7t+fkYdyKbMzrDQykYvjRzZ9I0KpVaWgsIBZ7zrAnSVlGo9vEQ/Gg5m89NJL8ZHmYDpsaJX3HB4oI+LxxXiKGuPB4LqZY1e28XAv5jnJOS20SXmeqzQ0Mp5r40fGdL5XR5Ui64mjSSziSU+7JdVFlVIDjT/XhxlPb7jGIe9UWzfjO+CC8bgA54v3U+YupI2MRxcAZaONeqoELGbI3AMGtO+9995cFjcs23h8i3ggrfFoKXUREU8ZC4X6YjykkLjO8k61dTO+AxgPSzJ1sixTt7hmPMB7KotGxlNvA7ikvAeTYSVdZr0DN3keK+tykssIa6mI8jHVBu0YD8uz0KAUQdHL5qjxdNvgFgHRSN4RT7ffg94LZUQ9LhpPmeM8jYxHN4C7MxazwtAdIqrVvKeolXXLingYK6FM3KdUGzcmUUXakmqMp4hoRyl62RxfIh7AFPKMeHSMpxu0g2LG467x0OVE+4m+KCICQmeK9hd5T1Er66rxFL3UiobRPkU8kLakmso3xniKGN9RdNmcolDj6XZsowiKiHiyGOMBMx53jUdhtP090dMQ6o1b/R8vKGplXU4yg3jMySgS0mzgm/GQbktjPKxiTYRapPGUkWqjsfVhrT0fUm1mPBE+GA975vxIRO6D1oDnLKHjPUWtrFvWSdaIx6dUG6jxtIoQtbCgjIinqOgV4/EhzQZ5ptooBqCTYcaTDRo5ljH2rLQyHqrb3hlrOxGbs7GEjvfoyro0dJTJ8pjHyrplG4+PEQ8Nw5IlS+Ij9Smyok3BeNiQrHZsMC98Mp48Ix79vWY82eBDxMP21B8RfUr0GRFL3qBKgMkwkM14AY95rKxb1kn2OdUGrdJtjO9QiJDFlhhpKXoSqY8RTx7RoEZSvo7x8J3wN814emhlPL8SsVMoi35ytlRGSvRmsVRbOtIaDxEPabYiZ4IXvWyObxEPKTEiwqxR4/E14uE7oXOrf79s1ABdNh720WEXULa9ruzKBXliqbb2UONpVVKtxlMkFvE0Js9xA9+Nx7V7kWIV3ovLxvOQaNvoqdEJlmprD9JnNBDNIh4iDrY7L3J8BzTiMePpjZpCHgUGvo/xuNgJpF1y2Xh2E1Fg8LyIFQt0RQMjJWVHPL6l2kidtZrLU+QabUmKTLVRfs+OpxbxZD/Go/dGUZjx9KaV8RwoYidRJo2ykoGuaGCkRBv+MoyHRrybZeTLgnRbM+Mpo5QaMIGiFgol2gGLeLJLtZFiYqdbi3giE8+rCjENrYyHu5+9AvaJn1NH2ur/GAm40FHRJ1nXaSty8D0r0hjPgAEDVo0HFQUNF0ZQRMTjm/HkHfGsueaamTTcRD1mPO5HPOeJWCbn7PBVELC/8HXRUyMtZZxkLnbf0mwKhsI8Hh2nqgXj2WKLLcLGqGhIt1nE05s8jYffye/P4nyb8US4bjyHig4W6ZlaIPKzNSuRsozHpQu9HTSSaRT1FL1GW5Kils2xVFsP/M5ux3cUM54I141nmYgZYTorzI1CdM8o4yRrqs1HmhkPg+6UWpdlPEQ8lmrrDQ06qci8Um3dju8o3BNmPO4bz42iy0Sc9ZNE94iuEBltUFbE43OqDeoZz/PPPx/OBC/TeCzi6Q1jiUQleUU8WRmPRTwRtEl0TpnYWgbNjIdR6RtEN4luFm0hYrmcH4iMNijLeHyNeAYNGhT079+/rvFoRVvRc3iUolNtWTW4RYDx5DXGUwXjqV2UuExok3QpnzJoZjyk19j07deiL4jOiJ+nZbyI+T+zRGdxoAbWgcPY+Pcpos1ECguSPiyaJmLu0ACRt5RhPD6n2hhEZnuKesbD+A7/Pnr06PhIsRDxFLFQKMbDdePDlghKXsbj+xgPf4+/W0YxTCP0+8zjfKWh1TfBStQ7RU/bgrvlEhHzgLYWHR0/JmHLBbp1I0UTRBeKYC0RlXOfFG0j2ktU/CbpGcJJtlRbe5BuaxTxjBgxIixRL4Oils3BeHxJsylEJZZq642L2Qc6NVDWOE8r49lF9IhotqidlQt2FhHJzBFRoHC9iMVGk/B6UvQ0TOftKyK9x2RV/sbvRcBI7hvRUz+xVFv7NDOessZ3oKjVC3w0njwiHjZR5N7x3Xj4uy7huvEcIBohYgJpOysXDBHNjZ6GzBNxLEnyZ1j9miuW7iQ5FNJ8d4mIuNh6ux4ni6Yi1u1yGU7ysmXLwiVQioDcbRWMZ+HChautdrxixYpg5syZpY3vgBqPRTy9ySPi0blcFvFki+vGQ5cTMyA6YT4Pz3t3Q7OFVBtrxLE5Do/MJSIaquVy0ThU5J4snVD0SabkmGoV31NtMHduT/+FMmoMvMyIx1Jtjckj4lEjy3KMhw4gkVRRmPH0ppXxUMVGOoy7ja7e1aIvi1oxX8RSOwrbK3AsSfJnMBuuLPIXREf3i7izGcGlwGFHkbcUfZK1l+h7xAPJdJtWtFmqzU10LDPLEl01niwjHigy6jHj6U0r4yHqoLiApXPQrqJjRa14TMTiosNF/UVHiW4RJeH1cdHT4HDRZJGm2NiKgdpDDGlP0XSRt+hJLqqChAsdfDYeVqiGesZTZqoNMyhioVBfU22kebXjkwVmPPnguvGwRE6ylJlSotrIpR6M2ZwmwkRoLZiISmn0+SJSdjBRRCRFEcLnRVpyTaXb90WY11MixnluE3lL0SdZjcfnVNuQIUPC8tNa42GOT1aNUCestdZa4d/P03gY10I+RjyQZQdLf5cZT7YU3RmupZXx8K4wjB+LSLM9K6IL8t+xmkGKjEKBzUUXcEAgdaeRD6PGR4gop6YKjgo4hXJqSqnHiBoVF3hD0cZThVTb2muvHZpPrfGUmWZTSLflmWoj2gEfIx7IssAgjzEe0M5ZEbhoPMwP47twNeL5hehLot+Ifis6R/QrEZvDISMFZUU8PhsPJEuqSeGUuThokrxXL/DVePKIeCzVlh+0S64aD4UFzWSkwFJtnYHxUMkGL730UtiguRLxmPH0Ro0nj4hH76FuKdp4li9fHlbRmfGsTivjoUCAyZ0M7pMKUxltULTxVCHVBhjPvHnzwvk7LhQWKJZqq49GJVmP8dCBYmwtC4o2Hv07Zjyr08p4GNf5HxHFAnuLrhHZRnBtwm6Z3DhFRzxVMB7mWyxYsMCJUmrFUm31ySvVltX4Dug9YcbjtvGwYf+9IpayIdn+VdFBIqMNdMn4oo2nCqk2YJyH8R0+z+DBg8NjZULEwyTdvBYKtVRbD/yurMZ3oOiIx+VOoMvGwxov/MwLIsqjWUXA7250SRR5kkm1EWGxtYDPJOfyaEUbJl42eU8iVePJssEtAhZuJbrPOuIx48kHOgpZnqt2aGU8nxExkfP/icaKPirSSZ9GGxRpPFzsRAcuNNLdwNYIoMbjwvgO5L1sDsaT5bhGkdCYZRnx0DBWwXj077qEyxEPkzj55ljG5njRYSJWqzbapGjj8X18B9Zdd91go402Cp5++ulwnMeF8R0oIuLxLc2mYBIuj/FoJsAinp42iakKRdPKeIyMKDrVVgXjAcZ57rmHHdfdKCwANZ48Ix5fjSfr9E3WqTYg+jDjidqksnYhNeMpCE5yUflUTbVVAYxnyZIl4XNXjKeIVJvPEU9WqTYaxaxTbWDGE0GbBGWk28x4CqLIiKcqqTbQyjaW0GHnURfYYIMNwkdLtfUmy4gHc6Cc3ownH1w2HtZao5yaNdpgO1GabRGMGoo0niql2l5++eXwkRngI0eODH7yk5+Er8uEcQIaQ4t4epNlcYH+nizHeMCMJ8Jl47lCdLZoefgq2pKaLQ6MNuEks+IwG5nlTVVSbZjMjTeysHkE1W0nn3yyE+aT5+oFVlwQocbje8RDtO7i1AY1nqKGAJK0Mh5KqR+Nnq6CVQyMNtGTrMvZ5ElVUm3nnHNOr+3CmbTJ8bLBePKIePi8TE71OeLh/WfRwaqK8bh6L2ok6WLEw53FtgZab8eGbQujp0Y7FBnWViXV9qc//Sl+tjqNjhdJXsvmEO2AzxEPZNGL1t9hxpMPLqfaPiW6TMTMPTaA+6zoVJHRJkWdZAZjiQqqkGrTCaS1NDpeJHml2nw3Hu1FZ2E8VRjj4e+Y8fSmlfGwEvV7RQNFmM9uomideqMtigprdf2wKkQ8F1xwQfCmN5Ht7YHXHC+bvFJtVTGeLAoM8ky1EYkUgcsRj3ZOXTIetqJO6hTRSYnXRpsU1bvQMaQqGM8xxxwTXH755WFJNcv/8MhrjpcNqTZMnvGMLLFUWw9ViHhcNh6KHlgdxCXjwQrROBGptSGxPinaUWS0SVHGoz25qkwgxWTYDO7f//53+OiC6YCuXpB1us1SbT3wO2gYWXw0SzACKkxJS+eNy8YDtEsuGc/XYg0VYTSnx2Kh0PIT7B5StPFUIeJxmWnTpoWPjDexinZWJd5ViXiySrVlHe0AEQ/kta1FEu5H/XsuQruURSehXVqN8WwsStZF8pxjRptYqq06YDKXXnpp+JxlXbKcX6TGk/W4RlFkGfFgPHl8D2oERaTbXI94OF8uRTwKO44yj4cN4NAU0Y9FRpswKL7mmmvm3ruoWqrNRfKcX4Tx0FCRf/cRve6yinjMePLFtVSbQvkQ2yHQDUM8/5YoDeNFz4tmic7iQA0kbm8Q8e8YWrTrV/TIiO1TsaKupecwOF7ESbaIJ3/ynF+E8fiaZoN+/fpllr7hd/hsPETDZjz1aWU88ITov2I9yYEU9BNdIjpQtLXo6PgxyQkizGykaILoQpEyW7R9LAoaKkERJ1kjHjOe/MhzfpHvxgOkb7JKteU5xpO38VDxiPmY8fQmjfF0ws4iIhnmATEudL3oEFESXk+KngY3ifYV+b1lZguKNB5LteVHvflFbPmcxfyiKhgPUYql2vzoBFbNeCi9nhs9DWEHU44lSf4M67/RRYo2OgmC4SKiq/tEu3OgDieLpqLFixeHB1yniJOsqTa9uYzsqZ1fxNjdJptsEhx55JHxT3SORTw9mPHkj7ZJRGZFkpfxdANrwZGz2EHEZNX/FUUlYatzuYh5RuMGDmRhBfcpKuJh3oOvg9O+kJxf9NOf/jR48cUXgwkTyBh3R1WMp9uIR1dyN+PJF9okXWarSFoZz66ix0R8g6TMmHGVpuVkXbdh0dMQ5gNxLEnyZ9YSkcxlNh7lQjor73ER4z3sC+Q9RRmPpdmK5YgjjggOPfTQ4Ctf+Urw/PPU03ROVVJt3UY8alw+j/Ho73fZePT7LTrd1sp4fiiiMOAF0bqiE0UUDbQCsxolImXGRhTs4XOLKAmvj4uehqteTxYR7xG+UJwAbDnJ72GsyHuKSrW5fKFXEdJtl1xySTjuc8IJJ4RRUCfQw6fnaam2HuOxiCdfaJPANeMBigQwAqKdq0WUSbeCMZvTRHeJZojYzYup3ueLDhbBRBFjOvx+Umpacr2HiA3nKKWm6ICqtmjTfc/hhiwi4jHjKR7GeC6++OLgwQcfDE2oE4h2oCrFBd2MG5jxFIOrxkPij4gFE/iO6HOitONCt4tIkbGfj5b7nCvSyOdfoiNElFNTBadRzc2ibUSUUrNcz62iSsBJ5mLPc40oS7WVx7HHHhsceOCBwVlnnRWO+bRLVYyHDla34wYaMeVhPOwGyvblZjzuGs+xIn6G6IWzxJjMYSKjA/Qka+VZHliqrTxIuV122WXhJMoTTzyx7R5/lYwHuikwyDPiAaIeMx53jeePIiIT3tV/i1guh9SY0QFFnGRLtZXLsGHDgosuuiiYPHlycOWVV8ZH01GlVBt0M86jxqMmljUYjxpDXpjxNKaV8fxWxDvbQMQKBleIvi8yOkBPchZzHBrBxW6ptnI56aSTgn322Sc4/fTTg7lzk9PZmlO1iCcL48kr4sEMiop42NrBVYpok+rRyni4grDCD4lYMHQXETuSGh1QRO/CUm3lQ8rtiiuuCOeijB49OpxgmmbrhKpFPN2k2mgIdaOyPCgq1cbf4fy7iqsRD/NrNhF9WPR/HDA6p4iTzMVuxlM+Dz/8cPiI+TDWk2brBIt4esC0MDBMPA+KMh7X70UKLVjuyTXjofyZkmjGdZibw7wa5vQYHZC38Sxfvjxcrt9SbeXDFgmcjySttk7AeGgQfV91IqvigrzGd8CMpwfaJdeM52ei7UT/Gb6KSp6tqq1D8jYezSlbxFM+nWydgPH4Hu1AVsUFeY3vgBlPDy4azwDRp0Q/El2VkNEBZjx9h062TqiK8TAuwzyZboyH/2vGUwwuGs+1okGiA0SsFM2aa/lNQqk4ehHmbTyWaiufelsn0CA32zqhKsbDuAym0W2qzXfj4feb8dSnkfFQVACsKvAVEWeIvXMOElHZZnQA1S2YQl4nWSemWsRTPrVbJ8B+++0XHm9EVYwHGJ/pNtVmYzzFgPF0c646oZHxPBo/6ugoXZcxIq6EjThgdAY3k6Xa+gbJrRMOPvjgYMqUKb0KDpJUzXhcj3go9uh0Qdc0WKqtMa1Sbex5w53wZRFrrE0XJbeoNtokz5NsqTZ3YVLpokWLgltvbbz0YJWMB9PotBeNOWMKeRsPsD11XvhiPHl2hhvRyHiIalgxmtHw40VsuMaSu5hOdMaMjsjTeCzV5i7jx48Phg4dGqbf6kFjS+rHUm091XBFGE+e6TbfIp4idyFtZDxsg8A3RtdZxWuV0SEW8fRNqPJir56777677srVRDtQpYin01Sb/r+8x3ggL+PROXW+GM+KFSvCyc5F0ch42H6ayaNfqyOOGx3CSc5rIE+NxyIeN/nEJz4RUGgwcSJbUa1O1Yynm4hHjcfniEd/ry/GA0Wm2xoZTz7rVBi5RjyaatObynAL5vCwX89VV10V9jCTVNF4uB472XuqCqk27QT6cC+6ZDz7xo9GxuRpPFzsXOguL0rY12G9toULFwa33XZbfCSiiqk26ORar0LE41P2QY0nr0xMPRq1UJXYatpFOMn0BPMo4+T3WprNbd73vvcFgwcP7lVkUMWIBzppzIoY49H7RA0ia3w0HhciHiMn9CTnccHzO8143EaLDO64447V1m2rasTTSYGBRTzFogZvxlNh8uxdcLFbRZv7YDyQLDKwiKcH/g/p4jwbbTOeHizi6QPkeZIt1eYHLKPDvB6MR4sMMB7WdmN/lCqgxtNpxMP/z3OsMm/j0d9rxlOfPI1nvOh5EXv5nMWBGtYR3SDi36eINhMlYRlfug1nhK8qQt4RjxmPH7CSwfz588OUG2A8VYl2QNNknY7x5Dm+Axbx9FAl42ECKisdHCjaWnR0/JiEfAP5BRYinSCqXYrn+6LorqwQeeZTLdXmD+9///uDQYMGrSoyqJrxdJNqw3jyHN8BIst+/fqZ8QjrrLNO+H1UwXh2FhHJsHHcMtH1okNESXjNitdwk4gSbp0/9EER07unha8qxAMPPBA+kmpJsw9/O1iqzR/YZZQJpbfffnswd+7cyhpPJ6k2zCpv42EiL1FP3sajkZXrEPV00knolLyMZ4hobvQ0ZJ6IY0mSP0Oim0+9oYiW80wRqyQ042TRVLR48eLwgOtgMl/7WvSx0u7D3w6WavOLE088MSyrZ0Jp1YwHY2XMytWIB/I2HqIIX8bsMJ6qjPF0yldFpN6iLkNjyFGweOm4gQMHhgdch/32a1fDbbUPf1owMku1+cXw4cOD/fffPywyePXVVytlPEDU00nEU8QYD+RtPD51Avm+q2A880XDoqch7FzKsSTJn2HjOa60V0VsNPcd0R9EnxV9SXSayHs62Yc/LSxISIWURTx+QcRLqo1Cg0mTJmWefi0Topa+HPH4dC9WJeJ5TDRKNFxErHmUiP18kvD6uOhpcLhosoh1uXcXUeGGLhZ9U/RDkfc02m+fmezdwoUOZjx+UdvwZZ1+LRN60e0aD6lHxirNeIqlKsbDmA1Ryl2iGaIbRRQKsLL1wSJg9hxjOhQhsPdPvZLrSlFvH37g4n/qqafiV52hxmOpNr8499xz42c9ZJV+LRvMo91UG40faeMqGA+/3xeqNMZzu2i0aHPRBRwQuMs08mHzhyNElFNTBUcFXC2M91wUPfWf2n34efz2t78d9ox23333cK+WTqGXCBbx+EWe6dey6STiUaOyMZ5iseKCipPch5/HM888M3jkkUeCESNGBAcddFBw9dVXxz/ZHpZq85NG6ddGx30C82g34tGft1RbsWA8dBKK2oXUjMcBhgwZEs7v2XvvvcO5HYcddlgYDbFkSNrBZku1+Um99CuvOe47mEe7EY/+vBlPsWA8umtqEZjxOAInnj1aSLn9/Oc/D1Mt7cz1sVSbn9RLv/Ka475DxEND1s6WykVGPNwreRkPv9ene1FTm0Wl28x4HIJJdxhNLWkGmy3V5i+16dcqmA6oebQT9ZQxxpNHesnHiAfMePoozOmoR6vBZku1Ga6h5tGJ8RSVasN0aid1dwu/04ynOWY8jtHpYLOl2gzXUONJW2BAOvm8884Ln++www65z2XCeCDrdBtGhvmY8TTGjMcxOh1spodFMcK6664bHzGMcmkn1YbJMJapP0uEn/dE2ryMx8e0txlPH0cHmzXCIXWWZrBZQ3sGqA3DBdpJtTGGyVhmkrwn0prx9KDG005atBvMeBwEk6HIYOzYscGuu+6aarDZtkQwXEMjnjSptjIm0prx9GARj7GKMWPGBM8++2z8qjka8RiGK7QT8ZQxkdaMpwc9V2Y8Rmg8CxcuDJYsWRIfaQwXu1W0GS5Bw0vqN03Ewxhm7fhk3hNpzXh6YBdSpnOY8Rih8cC0aa03YrVUm+EaFLvQk04T8ZBOPu20aPeToibS5m08+vt9gO+cdJsZjxFss8024WOadJul2gwXSWs8oGNC7MZaxERai3h6oHqQyPRHP/pRIXtCmfE4zNChQ8NeSFrjsVSb4RqYSdp5PE8++WSw+eabrxpvyBsznggtZX/jjTfC10XsCWXG4zCEv2kLDCzVZrhIOxHPE088EU4cLYq8jEd/ny/3Yxml7GY8jqPG02o9KUu1GS6C8aSJePiZOXPmBDvuuGN8JH8GDBgQdu7yiHj4vb5M5i6jlN2Mx3EwHqraFi1aFB/pja4NZak2wzVItaWJeHQH3iIjHsyBqCcP4+H3UlzhA2WUspvxOI5WtjVLtxEW+7Y2lNE3SBvxML4DRRoPcM/kYTw+3YudLtPVDWY8jpOmso0LHSziMVyDiIcS3VapYsZ3Bg8eHGy88cbxkWLIK+LxyXioHix6TygzHsfZaKONgoEDBzY1HluZ2nAVIh72GdLOUSOIeIoc31HMeCIwmSL3hDLj8YBWlW16U5vxGK6hpdHN0m2kimfMmFF4mg0wnlam2C4+Gk/RmPF4AMbD6gWN0hV641iqzXANnRTarMDgmWeeCXvaFvH0HfI0nvGi50WzRGdxoIZ1RDeI+Pcpos1EsLOIEhf0e9Ghoj4NxsPF3Ki80VJthqukiXgY34GyIh4znuLJy3j6iS4RHSjaWnR0/JjkBNFS0UjRBNGFIiCnNE60vQjzuky0lqjP0qrAQCMeu9gN10gT8TC+s8EGG+RavtsIM55yyMt4iFqIZOaIlomuFx0iSsLrSdHT4CbRviJ2MWMK7QoRDBA1L4fpA6Q1Hku1Ga6hEU8z49EVC6ioKpq8jIffazQmL+MZIpobPQ2ZJ+JYkuTPYDRcmRuGr4JgFxFLMj8j+qRIjSjJyaKpaPHixeGBqkKvkXXbGhmPpdoMV2mValu+fHk4xlPG+A5YxFMOrhYXMOZDN38n0dkiIp9aLheRkhtHuXHVaVbZZqk2w1VapdqmT58eLFu2rJTxHVDjaTXPKC0YKZ/H7sXm5GU880XDoqchQ0UcS5L8GcZw6Bq9Gr7qYYaIVjWavt+HwXgoOdUVZJNgPGzixGZOhuESrIfWv3//hhGPrlhQZsRDRd3rr78eH+kOjZ7MeJqTl/E8JholGi7qLzpKdIsoCa+Pi54Gh4smi+h28H+0mGBT0ZaiP4Sv+jAYDzfH7Nmz4yM92MrUhssQ9TSKeBjfofEfNYrmonh0LCardJtlH9KRl/EwJsN2gneJiFpuFDFmc77oYBFMFDGmQxHC50Vacr2biDJqyql/IfpP0SuiPk2zAgPLKRsuwzhPI+Mh4tl+++1LW1DTjKcc8jzbt4tGizYX6Wpz54o08vmX6AgR5dRUwVEBB9eKaGUppyb+/qWoz7PVVlsFVP00Mh6raDNcBeOpl2ojxcWq1GWN74AZTzmU080w2oYbZMSIEXWNx1Jthss0SrXNmjUrbKjLGt+BqVMpjI0yClls+WzGkw4zHo9oVNnGxW4XuuEqjSKeMlcsAEzmhz/8YficqrYstnw240mHGY9HYDwvvPBCrwocLnZLtRmu0ijiYXyHirett65d1KQY2Nq59l7qdstnM550mPF4BMazYsWKYObMmfGRCEu1GS7TqLiAiIdrGvMpgzy2fDbjSYcZj0c0qmyzVJvhMhgPg/dMrlRIbZW1B4/SaG04injOP//84NVXo2mFpN4Y/6HyrtU4kBlPOsx4PGKLLbYI1lprrbrGY6k2w1V09QJ2IlXmzp0bNuxlVrTV2/KZSdjbbbddcN5554XGNH78+OCkk04Kx3/SjAOp8Wi1nFEfMx6PICUxevTo1YyHlQzIS1sPy3AVIh5IFhiUvWIB1NvyeeLEieF7Y/24ww8/PLjrrruC1157Lf4fEc3GgTAe7lNWEjEaY8bjGbWVbbZEh+E69dZro3EndUV0USaNtnzmPps0aVJoSPVoNA7E/Wj3YmvMeDyDG+LFF19cZTga2luqzXAVjXiSxkNhwZZbbtkr1eUajcaBGh3nfjTjaY0Zj2dgPOSaWTAUbEsEw3UapdrKHN9JS71xINJoHK+HGU86zHg8o7ayTSMeu9gNV6lNtbF/1rx580od30lL7TgQq22TlmN9uXqY8aTDjMczNt9887DyRo1HIx5LtRmuUhvxaGGBDxEP1I4DsU33Rz7ykbpbKZjxpMOMxzP69esXzvS2iMfwhbe97W3ho0Y8ZS+V0w0bb7xxcNVVVwVPP/103co2M550mPF4SLKyzYzHcB3mnnF9qvEQ8QwfPnxVCs433v/+9wef/OQng+9973vBvffeGx+NMONJhxmPh2A88+fPD1MXlmozfIB0m6baiHh8GN9pBqbDhO7jjjsuWLJkSXzUjCctZjwegvHAtGnTLOIxvEAXCmX1ArZD8DHNloRKN1YvWLRoUXDKKaeElaZgxpMOMx4PSVa2mfEYPqARDxu/ge8RD4wdOzb4+te/Htx0003hZFOKD2wCaTrMeDyEyWtc3BgPqTZKPMmjG4araMTjW0VbK77whS8Ee+yxR/DpT386vB+JfMx4WmPG4yHMJ9ACAwvtDR8g4sF4GN/ZZJNNgkGDBsX/4jdUmV577bXh44EHHhge++IXv5jJbqZVxozHU8x4DJ/QVJsvKxa0AxkI5vosWLAgPhJksptplTHj8RSM55VXXglmz55tFW2G85BqW7p0aTB9+vRKjO/Uctttt8XPeuh2N9MqY8bjKVrZ9vjjj1vEYzgPEQ9beKCqRTyQx26mVSZP4xkvel40S3QWB2pYR3SDiH+fItpMBPuJHhc9Ez/uIzJq0Mo2lu2wiMdwneRk0SpGPO2uYt3Xyct4+okuETHatrXo6PgxyQmipaKRogmiC0XwiugDom1Fx4muFRk1sHTHhhtuGD63iMdwHSIeWH/99cMFN6tGvVWsed1oFeu+Tl7Gs7OISGaOaJnoetEhoiS8nhQ9DW4S7Sti1yXqLXWUbppoXRHRkZFAK9vAjMdwHV2fjXEelsup2qB77SrWPPJaN5YzVicv4xkimhs9DZkn4liS5M+sELGQU9SF7+EwEVds72Vgg+Bk0VTEMut9EbbYhWuuucbKNw1n4br8wQ9+EL+qbsVX7SrWZjqNcbm4gEEM0m+nhK96c7loHBo4cGB4oC/BTXvffffFr6x803AXKrtqtxCwiq++TV7GM180LHoaMlTEsSTJn2HaPUngV8NX0c//QvQx0WwOGKvDTbtsGVnMHuxmNlzEKr6MWvIynsdEo0TDReSDjhLdIkrCa4oH4HDRZBEr7VH+QlE8lXAPiow62M1s+IJVfBm15GU8jNmcJrpLNEN0o4hCgfNFB4tgoogxHYoQPi/Skmv+H5Vu54pYURBtJDIS2M1s+IJVfBmVZOzYsSv7Gtddd91KuXmJEFeJ1xw3DNfgutx0001XrrHGGuGjXafVhPY4DZQvew/GM3UqBW59CwoJGNMhvUakQw/SKmkMwygL6Vik8hQzHsMwDCMT0hqPy+XUhmEYRgUx4zEMwzAKxYzHMAzDKBQzHsMwDKNQzHgMwzCMQjHjMQzDMArFjMcwDMMoFDMewzAMo1AqMYFUYEOeP0ZPe/EOEbua+ojP7x3suy8P++7Loy9/9/zf8dHTvo3PSxr4vhyDffflYd99edh33wJLtRmGYRiFYsZjGIZhFEq/+LHqPB4/+ojP7x3suy8P++7Lw757wzAMwzAMwzAMwzAMwzCMzqGW/HnRLNFZHPCMP4ieET0lcr088yrRy6Jnw1cRG4h+LXohflxf5Cr13v9XRfNFfP/ofSIXGSb6jWi6aJroMyLw4ftv9N59+e4HiB4V/V7E+/+aCIaLpohoe24Q9Re5RqP3/mPRiyL97rcXGSmhaGK2aISIk86Xu7XIJzAeJnP5wB6iHUXJhvs7IjV8Hi+MnjpJvfdP43dG9NRpNhHx3uGtopkirnUfvv9G792X754J+G+JngZrizCbXUU3io4SwaWiU6OnTtHovWM8h4typarl1DuL6G3MES0TXS86RGTkw/2iJdHTVfB9T4qeho8fjJ46Sb337wsLRU9ET4O/iWaIhoh8+P4bvXdfWCn6e/Q0bLwRx/YR3SQCV7/7Ru+9EKpqPFy8c6OnIfNEPl3QwEVwt4jSxpM54Bkbi2hY4CURr33jNNHTIlJxLqcKlc1EO4jovfr2/SffO/jy3ZNdISVFqpaUJpmWP4tWiMDltqf2vet3f4GI736CaB0OZI1NIHWX3USkIQ4UfUpEOshXMNHCelMZ8T+izUXkuGnAvydyGdImN4s+K/orBxK4/v3Xvnefvvs3RLzPoSIyLVuKfKH2vY8RnS3iM+wkYpzwTFHmVNV4GJhk4FLhi+WYT+j7pTfyCxEXhk8sEpHDBx75HD7B++fG/LfoCpHL3z9pEhrun4h+zgHBl++/0Xv35btXiHIolHiXaD3RWiLwoe3R905BFkZPJ+V10dWiXL77qhrPY6JRIqpLKC5goO8WkS+8WcRgK/B8f1Fy4NsH+L6Pi56Gj7+KnnqDNtpwqMjV759B4okixke+z4EYH77/Ru/dl+9+oAiTgXVF+4n4LDTiOkDv6ndf770/J9LvnnPD2JRv7U7pUIJJlQw513M44BFU41GJp6WOrr//n4roKS0XkdM+QbSh6F4R5bz3iAjbXaXe+79WRDk7uW4a8WRj6BKkZOmh8j61BJZr34fvv9F79+W73070pIj3SQN9rgi4fylVpsDpZ6Jcxkm6pNF7nyziu+fYdSKtfDMMwzAMwzAMwzAMwzAMwzAMwzAMwzAMwzAMwzAMwzCMBN8S7S1irgOzvetRu8oy0rkTWVDIgo6GkTW2ZI5hdMYuokdEe4pYZLQRrHfFsiQqZokbRp/GjMcw2uO7IibdsZbVw6ITRawtphPw0vBxEbPZfytigud5IuXzIibvIdYuUz4m4u8yqZgJlgpr+D0kYiV2jX6YcIkZEmHxe3YXGYZhGB6D6fxAxDpjD3KgAbWpNpZSAYyHlRJYXYDlSjCHcaKxImaNs0wSM8ZZtYIVm7cRsQqH7s+kqxCQamNmPB1I9rFhpjycLtLVLliBWJdfMgwnsIjHMNqHVcOJPFjFl7W5mpFMtTEmpLAM/aui10QsjsnyMYgFYf8hYq8UjhOtsL8LBvOKCJJ7B/1SxGKa7OKpWx+wVuHxIoxvWxF73RiGM5jxGEZ6MA8iF/YrYYfM20QHxMeIXNqhdpuCTrctYBVhhYUdgTQbKTiiLaIi0nSG4QxmPIaRHgwG89EtmllQEePhGJFLO7AaMCkzDIvKOFJ2D8TP3yQi3cbKzBzj7xwhIjUHrRb83FTE1gJsKXClSLeXNgwnMOMxjPZgOfmlItJbpNpIcTXjcyId40HstAmsXsw+NBQM8DhVxDbQRCj8G7tBYhqsIMxYD1HWfSJSfMktBOqxl4if4/8eKfovkWEYhtGHobjgh9FTw+h7WMRjGIZhGIZhGIZhGIZhGIZhGIZhGIZhGIZhGIZhGIZhGIZhGIZhGHkTBP8fdJvJtyK05KsAAAAASUVORK5CYII=)"
      ]
    },
    {
      "attachments": {},
      "cell_type": "markdown",
      "metadata": {},
      "source": [
        "### Find LR"
      ]
    },
    {
      "cell_type": "code",
      "execution_count": 177,
      "metadata": {},
      "outputs": [],
      "source": [
        "modelRandomCyclicT = nn.Sequential(nn.Linear(in_features=input_layer, out_features=layer1), nn.ReLU(), nn.Dropout(dropout),\n",
        "                        nn.Linear(in_features=layer1, out_features=layer2), nn.ReLU(), nn.Dropout(dropout),\n",
        "                        nn.Linear(in_features=layer2, out_features=10))\n",
        "optimizer = torch.optim.SGD(modelRandomCyclicT.parameters(), lr=lr)\n",
        "\n"
      ]
    },
    {
      "cell_type": "code",
      "execution_count": 178,
      "metadata": {},
      "outputs": [
        {
          "name": "stdout",
          "output_type": "stream",
          "text": [
            "1.1787686347935873\n",
            "[1]cost:2.3005, lr: 0.0000, acc: 50.2031\n",
            "[2]cost:2.3099, lr: 0.0000, acc: 47.0059\n",
            "[3]cost:2.3062, lr: 0.0000, acc: 46.8418\n",
            "[4]cost:2.2873, lr: 0.0000, acc: 51.4766\n",
            "[5]cost:2.3035, lr: 0.0000, acc: 44.1309\n",
            "[6]cost:2.2977, lr: 0.0000, acc: 53.4883\n",
            "[7]cost:2.3018, lr: 0.0000, acc: 49.1465\n",
            "[8]cost:2.3003, lr: 0.0000, acc: 50.3965\n",
            "[9]cost:2.3073, lr: 0.0000, acc: 45.3906\n",
            "[10]cost:2.2964, lr: 0.0000, acc: 51.8691\n",
            "[11]cost:2.3034, lr: 0.0000, acc: 53.1426\n",
            "[12]cost:2.3088, lr: 0.0000, acc: 46.0078\n",
            "[13]cost:2.3048, lr: 0.0000, acc: 47.7871\n",
            "[14]cost:2.3060, lr: 0.0000, acc: 47.5117\n",
            "[15]cost:2.2976, lr: 0.0000, acc: 50.4805\n",
            "[16]cost:2.2971, lr: 0.0000, acc: 49.6113\n",
            "[17]cost:2.3077, lr: 0.0000, acc: 47.0527\n",
            "[18]cost:2.3091, lr: 0.0000, acc: 46.2520\n",
            "[19]cost:2.2975, lr: 0.0000, acc: 48.6406\n",
            "[20]cost:2.3016, lr: 0.0000, acc: 51.4766\n",
            "[21]cost:2.3095, lr: 0.0000, acc: 47.9766\n",
            "[22]cost:2.2958, lr: 0.0000, acc: 48.8965\n",
            "[23]cost:2.3034, lr: 0.0000, acc: 49.5879\n",
            "[24]cost:2.3007, lr: 0.0000, acc: 49.9277\n",
            "[25]cost:2.3073, lr: 0.0001, acc: 49.3242\n",
            "[26]cost:2.2973, lr: 0.0001, acc: 56.1426\n",
            "[27]cost:2.2984, lr: 0.0001, acc: 48.4688\n",
            "[28]cost:2.3069, lr: 0.0001, acc: 51.2637\n",
            "[29]cost:2.3046, lr: 0.0001, acc: 45.9141\n",
            "[30]cost:2.3045, lr: 0.0001, acc: 46.0918\n",
            "[31]cost:2.3057, lr: 0.0001, acc: 48.8066\n",
            "[32]cost:2.3013, lr: 0.0002, acc: 52.2109\n",
            "[33]cost:2.3058, lr: 0.0002, acc: 50.6172\n",
            "[34]cost:2.3002, lr: 0.0002, acc: 47.4082\n",
            "[35]cost:2.3020, lr: 0.0003, acc: 47.7266\n",
            "[36]cost:2.2962, lr: 0.0003, acc: 50.4375\n",
            "[37]cost:2.2977, lr: 0.0004, acc: 55.1367\n",
            "[38]cost:2.3045, lr: 0.0004, acc: 50.0762\n",
            "[39]cost:2.3064, lr: 0.0005, acc: 45.9590\n",
            "[40]cost:2.3019, lr: 0.0006, acc: 54.0645\n",
            "[41]cost:2.2916, lr: 0.0007, acc: 48.1387\n",
            "[42]cost:2.2966, lr: 0.0008, acc: 50.9688\n",
            "[43]cost:2.2959, lr: 0.0010, acc: 52.9590\n",
            "[44]cost:2.2984, lr: 0.0012, acc: 47.1680\n",
            "[45]cost:2.2974, lr: 0.0014, acc: 51.5020\n",
            "[46]cost:2.3027, lr: 0.0016, acc: 47.3379\n",
            "[47]cost:2.2810, lr: 0.0019, acc: 52.1328\n",
            "[48]cost:2.2954, lr: 0.0023, acc: 53.2910\n",
            "[49]cost:2.3003, lr: 0.0027, acc: 52.9277\n",
            "[50]cost:2.2933, lr: 0.0032, acc: 50.5234\n",
            "[51]cost:2.2899, lr: 0.0037, acc: 49.3887\n",
            "[52]cost:2.2789, lr: 0.0044, acc: 49.0078\n",
            "[53]cost:2.2887, lr: 0.0052, acc: 47.3047\n",
            "[54]cost:2.2836, lr: 0.0061, acc: 50.0586\n",
            "[55]cost:2.2827, lr: 0.0072, acc: 50.9883\n",
            "[56]cost:2.2825, lr: 0.0085, acc: 47.9590\n",
            "[57]cost:2.2720, lr: 0.0100, acc: 46.3398\n",
            "[58]cost:2.2614, lr: 0.0118, acc: 52.6602\n",
            "[59]cost:2.2587, lr: 0.0139, acc: 47.3633\n",
            "[60]cost:2.2481, lr: 0.0164, acc: 50.2285\n",
            "[61]cost:2.2494, lr: 0.0193, acc: 49.9141\n",
            "[62]cost:2.2277, lr: 0.0228, acc: 50.3691\n",
            "[63]cost:2.2219, lr: 0.0268, acc: 50.9805\n",
            "[64]cost:2.2081, lr: 0.0316, acc: 52.0117\n",
            "[65]cost:2.1988, lr: 0.0373, acc: 51.2051\n",
            "[66]cost:2.1650, lr: 0.0439, acc: 52.2598\n",
            "[67]cost:2.1573, lr: 0.0518, acc: 51.1348\n",
            "[68]cost:2.1211, lr: 0.0611, acc: 51.0762\n",
            "[69]cost:2.0885, lr: 0.0720, acc: 51.9414\n",
            "[70]cost:2.0537, lr: 0.0848, acc: 50.9922\n",
            "[71]cost:1.9978, lr: 0.1000, acc: 51.2852\n",
            "[72]cost:1.9440, lr: 0.1179, acc: 52.0273\n",
            "[73]cost:1.8197, lr: 0.1389, acc: 53.9922\n",
            "[74]cost:1.7179, lr: 0.1638, acc: 52.7480\n",
            "[75]cost:1.5699, lr: 0.1931, acc: 52.9180\n",
            "[76]cost:1.4073, lr: 0.2276, acc: 52.1777\n",
            "[77]cost:1.2525, lr: 0.2683, acc: 51.4766\n",
            "[78]cost:1.4027, lr: 0.3162, acc: 52.2891\n",
            "[79]cost:2.9216, lr: 0.3728, acc: 47.9980\n",
            "[80]cost:1.8818, lr: 0.4394, acc: 55.1875\n",
            "[81]cost:1.6641, lr: 0.5179, acc: 52.5137\n",
            "[82]cost:1.4230, lr: 0.6105, acc: 52.4492\n",
            "[83]cost:1.3849, lr: 0.7197, acc: 49.8379\n",
            "[84]cost:1.3576, lr: 0.8483, acc: 55.4102\n",
            "[85]cost:1.5434, lr: 1.0000, acc: 49.8906\n",
            "[86]cost:3.9486, lr: 1.1788, acc: 47.2207\n",
            "[87]cost:6.6676, lr: 1.3895, acc: 53.3145\n",
            "[88]cost:42.0835, lr: 1.6379, acc: 58.0000\n",
            "[89]cost:159.3815, lr: 1.9307, acc: 46.8203\n",
            "from here(90, 1269.9310302734375)\n"
          ]
        }
      ],
      "source": [
        "lg_lr, losses, accuracies = find_lr(modelRandomCyclicT, \n",
        "                                    optimizer,\n",
        "                                    start_val=1e-6, \n",
        "                                    end_val=10)"
      ]
    },
    {
      "cell_type": "code",
      "execution_count": 183,
      "metadata": {},
      "outputs": [
        {
          "data": {
            "image/png": "[encoded data removed]",
            "text/plain": [
              "<Figure size 1440x720 with 1 Axes>"
            ]
          },
          "metadata": {
            "needs_background": "light"
          },
          "output_type": "display_data"
        }
      ],
      "source": [
        "f1, ax1 = plt.subplots(figsize=(20,10))\n",
        "ax1.plot(lg_lr[60:-2], losses[60:-2])\n",
        "# ax1.plot(lg_lr, losses)\n",
        "ax1.set_xscale('log')\n",
        "ax1.set_xticks([1e-1,2e-1, 1, 10])\n",
        "ax1.get_xaxis().get_major_formatter().labelOnlyBase = False\n",
        "plt.show()"
      ]
    },
    {
      "cell_type": "code",
      "execution_count": 165,
      "metadata": {},
      "outputs": [
        {
          "data": {
            "image/png": "[encoded data removed]",
            "text/plain": [
              "<Figure size 1440x720 with 1 Axes>"
            ]
          },
          "metadata": {
            "needs_background": "light"
          },
          "output_type": "display_data"
        }
      ],
      "source": [
        "f1, ax1 = plt.subplots(figsize=(20,10))\n",
        "# ax1.plot(lr[60:-2], losses[60:-2])\n",
        "ax1.plot(lg_lr, accuracies)\n",
        "ax1.set_xscale('log')\n",
        "ax1.set_xticks([1e-1, 2e-1,5e-1, 7e-1, 1, 10])\n",
        "ax1.get_xaxis().get_major_formatter().labelOnlyBase = False\n",
        "plt.show()"
      ]
    },
    {
      "cell_type": "code",
      "execution_count": 186,
      "metadata": {
        "id": "3AG-ZFJ9fGaW"
      },
      "outputs": [],
      "source": [
        "def CyclicGD():\n",
        "    modelRandomCyclic = nn.Sequential(nn.Linear(in_features=input_layer, out_features=layer1), nn.ReLU(), nn.Dropout(dropout),\n",
        "                        nn.Linear(in_features=layer1, out_features=layer2), nn.ReLU(), nn.Dropout(dropout),\n",
        "                        nn.Linear(in_features=layer2, out_features=10))\n",
        "    optimizer = torch.optim.SGD(modelRandomCyclic.parameters(), lr=lr)\n",
        "\n",
        "    scheduler = CyclicLRGiselt_Denis(optimizer, base_lr=0.01, max_lr=0.1,step_size_up=3, scale_mode='chipichipi')\n",
        "\n",
        "    start.record()\n",
        "    random_cyclic_acc_list, random_cyclic_cost_list, random_cyclic_lr_list, random_cyclic_epochs= train(modelRandomCyclic, optimizer,scheduler, mb_size)\n",
        "    end.record()\n",
        "\n",
        "    torch.cuda.synchronize() \n",
        "    random_cyclic_time = start.elapsed_time(end)\n",
        "\n",
        "    random_cyclic_acc = accuracy(modelRandomCyclic, x_test_tensor,  y_test_tensor, mb_size) \n",
        "\n",
        "    return random_cyclic_acc_list, random_cyclic_cost_list, random_cyclic_lr_list, random_cyclic_time, random_cyclic_acc, random_cyclic_epochs"
      ]
    },
    {
      "cell_type": "code",
      "execution_count": 187,
      "metadata": {
        "colab": {
          "base_uri": "https://localhost:8080/"
        },
        "id": "acBgxgGkZdL6",
        "outputId": "258ebbfe-57b4-403d-962f-f4be515a6008"
      },
      "outputs": [
        {
          "name": "stdout",
          "output_type": "stream",
          "text": [
            "Epoch: 1, learning_rate:[0.4870298323313503],costo: 0.7040794491767883, accuracy: 0.7138671875\n",
            "Epoch: 2, learning_rate:[0.4891814181137808],costo: 0.7145323157310486, accuracy: 0.838623046875\n",
            "Epoch: 3, learning_rate:[0.48990364115711377],costo: 0.6394120454788208, accuracy: 0.8857421875\n",
            "Epoch: 4, learning_rate:[0.06608110643356635],costo: 0.2742197811603546, accuracy: 0.925537109375\n",
            "Epoch: 5, learning_rate:[0.05362322560080512],costo: 0.2788178026676178, accuracy: 0.92822265625\n",
            "Epoch: 6, learning_rate:[0.02067921402782552],costo: 0.22821871936321259, accuracy: 0.931884765625\n",
            "Epoch: 7, learning_rate:[0.25089566313804373],costo: 0.2935769557952881, accuracy: 0.93115234375\n",
            "Epoch: 8, learning_rate:[0.3623466128631724],costo: 0.23166710138320923, accuracy: 0.9404296875\n",
            "Epoch: 9, learning_rate:[0.4007784139735516],costo: 0.19487647712230682, accuracy: 0.948974609375\n",
            "Epoch: 10, learning_rate:[0.3196802315520317],costo: 0.19626010954380035, accuracy: 0.94580078125\n",
            "Epoch: 11, learning_rate:[0.08985712658011269],costo: 0.20755448937416077, accuracy: 0.95654296875\n",
            "Epoch: 12, learning_rate:[0.08778498517160763],costo: 0.20203322172164917, accuracy: 0.9599609375\n",
            "Epoch: 13, learning_rate:[0.12637718847306983],costo: 0.16850332915782928, accuracy: 0.95849609375\n",
            "Epoch: 14, learning_rate:[0.42178717668566873],costo: 0.1596023589372635, accuracy: 0.9580078125\n",
            "Epoch: 15, learning_rate:[0.4324137435585955],costo: 0.16720058023929596, accuracy: 0.953857421875\n",
            "Epoch: 16, learning_rate:[0.3396444221883706],costo: 0.18994583189487457, accuracy: 0.9609375\n",
            "Epoch: 17, learning_rate:[0.16540908323039447],costo: 0.13314871490001678, accuracy: 0.966552734375\n",
            "Epoch: 18, learning_rate:[0.07534597564062623],costo: 0.13406027853488922, accuracy: 0.967041015625\n",
            "Epoch: 19, learning_rate:[0.39334919969222776],costo: 0.14480428397655487, accuracy: 0.968017578125\n",
            "Epoch: 20, learning_rate:[0.4991107681657666],costo: 0.11979104578495026, accuracy: 0.964111328125\n",
            "Epoch: 21, learning_rate:[0.49978671396595803],costo: 0.1480960100889206, accuracy: 0.954833984375\n",
            "Epoch: 22, learning_rate:[0.46899423628613734],costo: 0.14920292794704437, accuracy: 0.96533203125\n",
            "Epoch: 23, learning_rate:[0.015567768846768044],costo: 0.11848316341638565, accuracy: 0.969482421875\n",
            "Epoch: 24, learning_rate:[0.014976044262060145],costo: 0.1005329042673111, accuracy: 0.970947265625\n",
            "Epoch: 25, learning_rate:[0.31623295216526304],costo: 0.11222902685403824, accuracy: 0.9716796875\n",
            "Epoch: 26, learning_rate:[0.47155544533701643],costo: 0.09982524812221527, accuracy: 0.971923828125\n",
            "Epoch: 27, learning_rate:[0.4774919364411055],costo: 0.11089812219142914, accuracy: 0.97314453125\n",
            "Epoch: 28, learning_rate:[0.06397302383419447],costo: 0.07939492166042328, accuracy: 0.968994140625\n",
            "Epoch: 29, learning_rate:[0.015683547207556436],costo: 0.08862338215112686, accuracy: 0.973876953125\n",
            "Epoch: 30, learning_rate:[0.011063122473764418],costo: 0.09248035401105881, accuracy: 0.974853515625\n",
            "Epoch: 31, learning_rate:[0.48809870576823355],costo: 0.09101889282464981, accuracy: 0.97216796875\n",
            "Epoch: 32, learning_rate:[0.4967047988766596],costo: 0.07270116358995438, accuracy: 0.97119140625\n",
            "Epoch: 33, learning_rate:[0.49850724331410695],costo: 0.10275647044181824, accuracy: 0.971435546875\n",
            "Epoch: 34, learning_rate:[0.4676602431696069],costo: 0.10770370066165924, accuracy: 0.9736328125\n",
            "Epoch: 35, learning_rate:[0.3285121450166544],costo: 0.06161455810070038, accuracy: 0.978515625\n",
            "Epoch: 36, learning_rate:[0.21395446345639615],costo: 0.050411395728588104, accuracy: 0.975830078125\n",
            "Epoch: 37, learning_rate:[0.4068937662926325],costo: 0.06666520982980728, accuracy: 0.976318359375\n",
            "Epoch: 38, learning_rate:[0.476859254066246],costo: 0.07316379249095917, accuracy: 0.97265625\n",
            "Epoch: 39, learning_rate:[0.4925053372309049],costo: 0.05805083364248276, accuracy: 0.978271484375\n",
            "Epoch: 40, learning_rate:[0.1240204408548057],costo: 0.05806484445929527, accuracy: 0.97900390625\n",
            "Epoch: 41, learning_rate:[0.028865349775633986],costo: 0.06970126181840897, accuracy: 0.98095703125\n",
            "Epoch: 42, learning_rate:[0.019082833527728008],costo: 0.051723964512348175, accuracy: 0.9814453125\n",
            "Epoch: 43, learning_rate:[0.4514984964744327],costo: 0.07319007813930511, accuracy: 0.97900390625\n",
            "Epoch: 44, learning_rate:[0.4823495945298479],costo: 0.06035540625452995, accuracy: 0.9755859375\n",
            "Epoch: 45, learning_rate:[0.49477631817287193],costo: 0.061031464487314224, accuracy: 0.97607421875\n",
            "Epoch: 46, learning_rate:[0.4223386132208354],costo: 0.04727989807724953, accuracy: 0.976806640625\n",
            "Epoch: 47, learning_rate:[0.3493452216781618],costo: 0.05158735066652298, accuracy: 0.977783203125\n",
            "Epoch: 48, learning_rate:[0.10916984146234793],costo: 0.05255632847547531, accuracy: 0.978759765625\n",
            "Epoch: 49, learning_rate:[0.2843853984532651],costo: 0.05660763382911682, accuracy: 0.9794921875\n",
            "Epoch: 50, learning_rate:[0.2934181081649579],costo: 0.05214637517929077, accuracy: 0.978759765625\n",
            "Epoch: 51, learning_rate:[0.37281791332192155],costo: 0.057684276252985, accuracy: 0.977294921875\n",
            "Epoch: 52, learning_rate:[0.3543130330427705],costo: 0.043080005794763565, accuracy: 0.97998046875\n",
            "Epoch: 53, learning_rate:[0.11328575219296126],costo: 0.04695041850209236, accuracy: 0.97900390625\n",
            "Epoch: 54, learning_rate:[0.014785057864492981],costo: 0.048340920358896255, accuracy: 0.981689453125\n",
            "Epoch: 55, learning_rate:[0.05002282471793545],costo: 0.031062569469213486, accuracy: 0.98388671875\n",
            "Epoch: 56, learning_rate:[0.1416878409137884],costo: 0.05018949881196022, accuracy: 0.98291015625\n",
            "Epoch: 57, learning_rate:[0.4804069033849316],costo: 0.03464020416140556, accuracy: 0.976318359375\n",
            "Epoch: 58, learning_rate:[0.28824157201844364],costo: 0.04105373099446297, accuracy: 0.976806640625\n",
            "Epoch: 59, learning_rate:[0.11475277610026663],costo: 0.032851532101631165, accuracy: 0.981689453125\n",
            "Epoch: 60, learning_rate:[0.023190714153396776],costo: 0.04430167004466057, accuracy: 0.981689453125\n",
            "Epoch: 61, learning_rate:[0.24241178852541348],costo: 0.041811201721429825, accuracy: 0.98095703125\n",
            "Epoch: 62, learning_rate:[0.39110518148581486],costo: 0.03725026547908783, accuracy: 0.9775390625\n",
            "Epoch: 63, learning_rate:[0.4011765945727335],costo: 0.051850687712430954, accuracy: 0.9775390625\n",
            "Epoch: 64, learning_rate:[0.2019439290169441],costo: 0.0447101891040802, accuracy: 0.97705078125\n",
            "Epoch: 65, learning_rate:[0.03877596648932229],costo: 0.030627062544226646, accuracy: 0.98193359375\n",
            "Epoch: 66, learning_rate:[0.019857000460984327],costo: 0.03451172634959221, accuracy: 0.981689453125\n",
            "Epoch: 67, learning_rate:[0.4569743993741324],costo: 0.02796035073697567, accuracy: 0.98046875\n",
            "Epoch: 68, learning_rate:[0.48122811535973614],costo: 0.02473108470439911, accuracy: 0.97900390625\n",
            "Epoch: 69, learning_rate:[0.484440847034941],costo: 0.03060067631304264, accuracy: 0.977783203125\n",
            "Epoch: 70, learning_rate:[0.05916099304848813],costo: 0.030507685616612434, accuracy: 0.98193359375\n",
            "Epoch: 71, learning_rate:[0.016254985278715793],costo: 0.03493795916438103, accuracy: 0.97900390625\n",
            "Epoch: 72, learning_rate:[0.012674601941401076],costo: 0.05158349871635437, accuracy: 0.981689453125\n",
            "Epoch: 73, learning_rate:[0.26165920721290187],costo: 0.024850454181432724, accuracy: 0.980712890625\n",
            "Epoch: 74, learning_rate:[0.44981656679596416],costo: 0.03806682676076889, accuracy: 0.978759765625\n",
            "Epoch: 75, learning_rate:[0.4628367247579874],costo: 0.03395724669098854, accuracy: 0.98095703125\n",
            "Epoch: 76, learning_rate:[0.046609608039675954],costo: 0.03223363682627678, accuracy: 0.982177734375\n",
            "Epoch: 77, learning_rate:[0.034678318093599],costo: 0.02607884630560875, accuracy: 0.983642578125\n",
            "Epoch: 78, learning_rate:[0.025917599290459087],costo: 0.03622429072856903, accuracy: 0.98193359375\n",
            "Epoch: 79, learning_rate:[0.43468972409370976],costo: 0.02817528136074543, accuracy: 0.982421875\n",
            "Epoch: 80, learning_rate:[0.47684070691467684],costo: 0.022798236459493637, accuracy: 0.979736328125\n",
            "Epoch: 81, learning_rate:[0.4886294694009902],costo: 0.029597727581858635, accuracy: 0.983642578125\n",
            "Epoch: 82, learning_rate:[0.3424707825868393],costo: 0.027298342436552048, accuracy: 0.9794921875\n",
            "Epoch: 83, learning_rate:[0.08979275418293192],costo: 0.03864086791872978, accuracy: 0.98095703125\n",
            "Epoch: 84, learning_rate:[0.012281685306403868],costo: 0.033367548137903214, accuracy: 0.984375\n",
            "Epoch: 85, learning_rate:[0.3745940211148829],costo: 0.027901576831936836, accuracy: 0.981201171875\n",
            "Epoch: 86, learning_rate:[0.4965136007894191],costo: 0.026933690533041954, accuracy: 0.97900390625\n",
            "Epoch: 87, learning_rate:[0.49880219777795776],costo: 0.027115102857351303, accuracy: 0.981201171875\n",
            "Epoch: 88, learning_rate:[0.20504558515040402],costo: 0.022942231968045235, accuracy: 0.9814453125\n",
            "Epoch: 89, learning_rate:[0.20477836475889455],costo: 0.028305143117904663, accuracy: 0.9814453125\n",
            "Epoch: 90, learning_rate:[0.14815489489059339],costo: 0.024081680923700333, accuracy: 0.978515625\n",
            "Epoch: 91, learning_rate:[0.18863483756379623],costo: 0.01845034956932068, accuracy: 0.98095703125\n",
            "Epoch: 92, learning_rate:[0.19490371047894797],costo: 0.019151419401168823, accuracy: 0.98193359375\n",
            "Epoch: 93, learning_rate:[0.48681645411924546],costo: 0.034825097769498825, accuracy: 0.981689453125\n",
            "Epoch: 94, learning_rate:[0.25681912890823777],costo: 0.014610481448471546, accuracy: 0.980712890625\n",
            "Epoch: 95, learning_rate:[0.013683745531366472],costo: 0.018664924427866936, accuracy: 0.97998046875\n",
            "Epoch: 96, learning_rate:[0.01350656618809514],costo: 0.018689148128032684, accuracy: 0.98291015625\n",
            "Epoch: 97, learning_rate:[0.29040895784421195],costo: 0.022584619000554085, accuracy: 0.982421875\n",
            "Epoch: 98, learning_rate:[0.41376417427430745],costo: 0.012192492373287678, accuracy: 0.98046875\n",
            "Epoch: 99, learning_rate:[0.4321661559190375],costo: 0.026109250262379646, accuracy: 0.981201171875\n",
            "Epoch: 100, learning_rate:[0.15270168527902758],costo: 0.01813463494181633, accuracy: 0.978759765625\n"
          ]
        }
      ],
      "source": [
        "resultados['random_cyclic'] = {}\n",
        "resultados['random_cyclic']['val_acc_list'] = [0] * epochs\n",
        "resultados['random_cyclic']['test_acc'] = 0\n",
        "resultados['random_cyclic']['cost'] = [0] * epochs\n",
        "resultados['random_cyclic']['time'] = 0\n",
        "resultados['random_cyclic']['epochs'] = 0\n",
        "\n",
        "for _ in range(MAX_ITERATIONS):\n",
        "    random_cyclic_acc_list, random_cyclic_cost_list, random_cyclic_lr_list, random_cyclic_time, random_cyclic_acc, random_cyclic_epochs = CyclicGD()\n",
        "    a = SumList(resultados['random_cyclic']['val_acc_list'], random_cyclic_acc_list)\n",
        "    resultados['random_cyclic']['val_acc_list'] = SumList(resultados['random_cyclic']['val_acc_list'], random_cyclic_acc_list)\n",
        "    resultados['random_cyclic']['test_acc'] += random_cyclic_acc\n",
        "    resultados['random_cyclic']['cost'] = SumList(resultados['random_cyclic']['cost'], random_cyclic_cost_list)\n",
        "    resultados['random_cyclic']['time'] += random_cyclic_time\n",
        "    resultados['random_cyclic']['epochs'] += random_cyclic_epochs\n",
        "\n",
        "#Saving results\n",
        "resultados['random_cyclic']['name'] = 'Random Ciclico'\n",
        "resultados['random_cyclic']['lr'] = random_cyclic_lr_list\n",
        "resultados['random_cyclic']['test_acc'] = resultados['random_cyclic']['test_acc'] / MAX_ITERATIONS\n",
        "resultados['random_cyclic']['val_acc_list'] = DeleteZerosFromList(DivideList(resultados['random_cyclic']['val_acc_list'], MAX_ITERATIONS))\n",
        "resultados['random_cyclic']['cost'] = DeleteZerosFromList(DivideList(resultados['random_cyclic']['cost'], MAX_ITERATIONS))\n",
        "resultados['random_cyclic']['time'] = resultados['random_cyclic']['time']/ MAX_ITERATIONS\n",
        "resultados['random_cyclic']['epochs'] = resultados['random_cyclic']['epochs'] / MAX_ITERATIONS"
      ]
    },
    {
      "attachments": {},
      "cell_type": "markdown",
      "metadata": {},
      "source": [
        "### Pruebas politicas de eleccion de LR aleatorio"
      ]
    },
    {
      "cell_type": "code",
      "execution_count": 37,
      "metadata": {},
      "outputs": [],
      "source": [
        "def CyclicGDDecrement():\n",
        "    modelRandomCyclic_Decrement = nn.Sequential(nn.Linear(in_features=input_layer, out_features=layer1), nn.ReLU(), nn.Dropout(dropout),\n",
        "                        nn.Linear(in_features=layer1, out_features=layer2), nn.ReLU(), nn.Dropout(dropout),\n",
        "                        nn.Linear(in_features=layer2, out_features=10))\n",
        "    optimizer = torch.optim.SGD(modelRandomCyclic_Decrement.parameters(), lr=lr)\n",
        "\n",
        "    scheduler = CyclicLRGiselt_Denis(optimizer, base_lr=0.01, max_lr=0.1,step_size_up=3, scale_mode='decrementar_maximo')\n",
        "\n",
        "    start.record()\n",
        "    random_cyclic_decrement_acc_list, random_cyclic_decrement_cost_list, random_cyclic_decrement_lr_list, random_cyclic_decrement_epochs= train(modelRandomCyclic_Decrement, optimizer,scheduler, mb_size)\n",
        "    end.record()\n",
        "\n",
        "    torch.cuda.synchronize() \n",
        "    random_cyclic_decrement_time = start.elapsed_time(end)\n",
        "\n",
        "    random_cyclic_decrement_acc = accuracy(modelRandomCyclic_Decrement, x_test_tensor,  y_test_tensor, mb_size) \n",
        "\n",
        "    return random_cyclic_decrement_acc_list, random_cyclic_decrement_cost_list, random_cyclic_decrement_lr_list, random_cyclic_decrement_time, random_cyclic_decrement_acc, random_cyclic_decrement_epochs"
      ]
    },
    {
      "cell_type": "code",
      "execution_count": 38,
      "metadata": {},
      "outputs": [
        {
          "name": "stdout",
          "output_type": "stream",
          "text": [
            "Epoch: 1, learning_rate:[0.09585323136821974],costo: 0.49673348665237427, accuracy: 0.91796875\n",
            "Epoch: 2, learning_rate:[0.09652896434306843],costo: 0.3085707724094391, accuracy: 0.9140625\n",
            "Proximo maxLR 0.1\n",
            "Epoch: 3, learning_rate:[0.09993861422202692],costo: 0.23004181683063507, accuracy: 0.9453125\n",
            "Epoch: 4, learning_rate:[0.06519109283115225],costo: 0.1658768504858017, accuracy: 0.947265625\n",
            "Epoch: 5, learning_rate:[0.06040130552744357],costo: 0.1439661979675293, accuracy: 0.953125\n",
            "Epoch: 6, learning_rate:[0.04465400235457032],costo: 0.1359853595495224, accuracy: 0.96484375\n",
            "Epoch: 7, learning_rate:[0.08920584269689708],costo: 0.1393164098262787, accuracy: 0.96875\n",
            "Epoch: 8, learning_rate:[0.09619630896218175],costo: 0.10159743577241898, accuracy: 0.9765625\n",
            "Proximo maxLR 0.1\n",
            "Epoch: 9, learning_rate:[0.09643411991954944],costo: 0.13434073328971863, accuracy: 0.97265625\n",
            "Epoch: 10, learning_rate:[0.03304338174749922],costo: 0.1369115561246872, accuracy: 0.970703125\n",
            "Epoch: 11, learning_rate:[0.02413243664615727],costo: 0.12212742120027542, accuracy: 0.97265625\n",
            "Epoch: 12, learning_rate:[0.023359277772976098],costo: 0.10530249029397964, accuracy: 0.978515625\n",
            "Epoch: 13, learning_rate:[0.07584571463993073],costo: 0.06843827664852142, accuracy: 0.970703125\n",
            "Epoch: 14, learning_rate:[0.08273351197791884],costo: 0.12127195298671722, accuracy: 0.970703125\n",
            "Proximo maxLR 0.1\n",
            "Epoch: 15, learning_rate:[0.08576501385085988],costo: 0.0640917420387268, accuracy: 0.97265625\n",
            "Epoch: 16, learning_rate:[0.021429603891346446],costo: 0.13149863481521606, accuracy: 0.984375\n",
            "Epoch: 17, learning_rate:[0.013017462205823161],costo: 0.09079998731613159, accuracy: 0.986328125\n",
            "Epoch: 18, learning_rate:[0.010464456570103755],costo: 0.05432260036468506, accuracy: 0.9765625\n",
            "Epoch: 19, learning_rate:[0.07098335794823572],costo: 0.08241847157478333, accuracy: 0.966796875\n",
            "Epoch: 20, learning_rate:[0.07289386591869744],costo: 0.05201366916298866, accuracy: 0.986328125\n",
            "Proximo maxLR 0.1\n",
            "Epoch: 21, learning_rate:[0.0905563616730302],costo: 0.08422229439020157, accuracy: 0.978515625\n",
            "Epoch: 22, learning_rate:[0.038545857069867774],costo: 0.04694638028740883, accuracy: 0.98046875\n",
            "Epoch: 23, learning_rate:[0.019768107484007556],costo: 0.03635715693235397, accuracy: 0.984375\n",
            "Epoch: 24, learning_rate:[0.01636751372655855],costo: 0.06462212651968002, accuracy: 0.96484375\n",
            "Epoch: 25, learning_rate:[0.05889996304768014],costo: 0.07235706597566605, accuracy: 0.97265625\n",
            "Epoch: 26, learning_rate:[0.0875912127409651],costo: 0.07550915330648422, accuracy: 0.986328125\n",
            "Proximo maxLR 0.1\n",
            "Epoch: 27, learning_rate:[0.08915136645535919],costo: 0.05737141892313957, accuracy: 0.98046875\n",
            "Epoch: 28, learning_rate:[0.08307744002869438],costo: 0.05039187893271446, accuracy: 0.982421875\n",
            "Epoch: 29, learning_rate:[0.04052002878064326],costo: 0.04352057725191116, accuracy: 0.982421875\n",
            "Epoch: 30, learning_rate:[0.03955943943938942],costo: 0.05015155300498009, accuracy: 0.98828125\n",
            "Epoch: 31, learning_rate:[0.047743897301737254],costo: 0.04600823298096657, accuracy: 0.994140625\n",
            "Epoch: 32, learning_rate:[0.05242797390899939],costo: 0.0501130186021328, accuracy: 0.990234375\n",
            "Proximo maxLR 0.1\n",
            "Epoch: 33, learning_rate:[0.07435480046927168],costo: 0.03861932083964348, accuracy: 0.982421875\n",
            "Epoch: 34, learning_rate:[0.07249126439630685],costo: 0.05476836487650871, accuracy: 0.984375\n",
            "Epoch: 35, learning_rate:[0.06929407604633724],costo: 0.0651320070028305, accuracy: 0.978515625\n",
            "Epoch: 36, learning_rate:[0.04731239096898932],costo: 0.015291829593479633, accuracy: 0.98046875\n",
            "Epoch: 37, learning_rate:[0.07764259324864332],costo: 0.0602591447532177, accuracy: 0.966796875\n",
            "Epoch: 38, learning_rate:[0.08800218238221047],costo: 0.026855167001485825, accuracy: 0.98046875\n",
            "Proximo maxLR 0.1\n",
            "Epoch: 39, learning_rate:[0.09539329339881247],costo: 0.04314670339226723, accuracy: 0.9765625\n",
            "Epoch: 40, learning_rate:[0.057273435530170516],costo: 0.028001217171549797, accuracy: 0.96875\n",
            "Epoch: 41, learning_rate:[0.024614611352098675],costo: 0.02982262521982193, accuracy: 0.97265625\n",
            "Epoch: 42, learning_rate:[0.020272229270312938],costo: 0.024987276643514633, accuracy: 0.982421875\n",
            "Epoch: 43, learning_rate:[0.024247416746304228],costo: 0.03191707283258438, accuracy: 0.98046875\n",
            "Epoch: 44, learning_rate:[0.04738738253476871],costo: 0.04072146862745285, accuracy: 0.9765625\n",
            "Proximo maxLR 0.1\n",
            "Epoch: 45, learning_rate:[0.09324525612243781],costo: 0.02746724709868431, accuracy: 0.978515625\n",
            "Epoch: 46, learning_rate:[0.018802647705594512],costo: 0.031708233058452606, accuracy: 0.98046875\n",
            "Epoch: 47, learning_rate:[0.014368034967633194],costo: 0.04454312473535538, accuracy: 0.97265625\n",
            "Epoch: 48, learning_rate:[0.013766194249541869],costo: 0.021464282646775246, accuracy: 0.974609375\n",
            "Epoch: 49, learning_rate:[0.054561414587448905],costo: 0.03218317776918411, accuracy: 0.9765625\n",
            "Epoch: 50, learning_rate:[0.09305520783169448],costo: 0.027307510375976562, accuracy: 0.9765625\n",
            "Proximo maxLR 0.1\n",
            "Epoch: 51, learning_rate:[0.09914278298611041],costo: 0.032291479408741, accuracy: 0.978515625\n",
            "Epoch: 52, learning_rate:[0.0853129092940262],costo: 0.038426484912633896, accuracy: 0.974609375\n",
            "Epoch: 53, learning_rate:[0.08197740613732199],costo: 0.02674621343612671, accuracy: 0.990234375\n",
            "Epoch: 54, learning_rate:[0.05587558045586326],costo: 0.03943948075175285, accuracy: 0.98828125\n",
            "Epoch: 55, learning_rate:[0.09295123574436455],costo: 0.01844702661037445, accuracy: 0.98046875\n",
            "Epoch: 56, learning_rate:[0.09384016964320942],costo: 0.01716473326086998, accuracy: 0.986328125\n",
            "Proximo maxLR 0.1\n",
            "Epoch: 57, learning_rate:[0.09529114784754768],costo: 0.02736004814505577, accuracy: 0.98828125\n",
            "Epoch: 58, learning_rate:[0.05249544191254597],costo: 0.011998471803963184, accuracy: 0.978515625\n",
            "Epoch: 59, learning_rate:[0.019283310515387866],costo: 0.009169185534119606, accuracy: 0.98046875\n",
            "Epoch: 60, learning_rate:[0.012169791728362491],costo: 0.022453807294368744, accuracy: 0.986328125\n",
            "Epoch: 61, learning_rate:[0.06596197885962224],costo: 0.01460907980799675, accuracy: 0.9765625\n",
            "Epoch: 62, learning_rate:[0.08667327865904328],costo: 0.016143139451742172, accuracy: 0.9765625\n",
            "Proximo maxLR 0.1\n",
            "Epoch: 63, learning_rate:[0.08757877590173307],costo: 0.018084736540913582, accuracy: 0.98046875\n",
            "Epoch: 64, learning_rate:[0.02995644221389694],costo: 0.022278133779764175, accuracy: 0.990234375\n",
            "Epoch: 65, learning_rate:[0.013109911153858619],costo: 0.0058791362680494785, accuracy: 0.982421875\n",
            "Epoch: 66, learning_rate:[0.010647763772572231],costo: 0.011711832135915756, accuracy: 0.98046875\n",
            "Epoch: 67, learning_rate:[0.09025867600781304],costo: 0.01279464177787304, accuracy: 0.998046875\n",
            "Epoch: 68, learning_rate:[0.09152589255537767],costo: 0.02609620802104473, accuracy: 0.982421875\n",
            "Proximo maxLR 0.1\n",
            "Epoch: 69, learning_rate:[0.09877593281065976],costo: 0.006943006068468094, accuracy: 0.9765625\n",
            "Epoch: 70, learning_rate:[0.08082046462737037],costo: 0.011043949984014034, accuracy: 0.98828125\n",
            "Epoch: 71, learning_rate:[0.0621111290732448],costo: 0.013109316118061543, accuracy: 0.978515625\n",
            "Epoch: 72, learning_rate:[0.02479435265261194],costo: 0.009620634838938713, accuracy: 0.984375\n",
            "Epoch: 73, learning_rate:[0.07414130894399884],costo: 0.010793067514896393, accuracy: 0.990234375\n",
            "Epoch: 74, learning_rate:[0.09764359108743374],costo: 0.011463967151939869, accuracy: 0.98046875\n",
            "Proximo maxLR 0.1\n",
            "Epoch: 75, learning_rate:[0.09992618658869878],costo: 0.014169345609843731, accuracy: 0.982421875\n",
            "Epoch: 76, learning_rate:[0.027279644140415872],costo: 0.009210671298205853, accuracy: 0.982421875\n",
            "Epoch: 77, learning_rate:[0.019383462837214045],costo: 0.01621750369668007, accuracy: 0.9765625\n",
            "Epoch: 78, learning_rate:[0.011938943615638561],costo: 0.004637436475604773, accuracy: 0.9765625\n",
            "Epoch: 79, learning_rate:[0.04520348425130923],costo: 0.008294500410556793, accuracy: 0.982421875\n",
            "Epoch: 80, learning_rate:[0.05673977989257781],costo: 0.00709471246227622, accuracy: 0.984375\n",
            "Proximo maxLR 0.1\n",
            "Epoch: 81, learning_rate:[0.06362525281627393],costo: 0.01384774874895811, accuracy: 0.986328125\n",
            "Epoch: 82, learning_rate:[0.06072568251234264],costo: 0.011787094175815582, accuracy: 0.966796875\n",
            "Epoch: 83, learning_rate:[0.05175711897025805],costo: 0.013393011875450611, accuracy: 0.982421875\n",
            "Epoch: 84, learning_rate:[0.023338671088193902],costo: 0.018217748031020164, accuracy: 0.98046875\n",
            "Epoch: 85, learning_rate:[0.08938030302705643],costo: 0.0055000740103423595, accuracy: 0.990234375\n",
            "Epoch: 86, learning_rate:[0.0959252387764156],costo: 0.013914014212787151, accuracy: 0.9765625\n",
            "Proximo maxLR 0.1\n",
            "Epoch: 87, learning_rate:[0.099362238011972],costo: 0.00582527182996273, accuracy: 0.982421875\n",
            "Epoch: 88, learning_rate:[0.016379096994639977],costo: 0.012033517472445965, accuracy: 0.986328125\n",
            "Epoch: 89, learning_rate:[0.011138116054003607],costo: 0.01035770308226347, accuracy: 0.982421875\n",
            "Epoch: 90, learning_rate:[0.010923116528308786],costo: 0.006295227445662022, accuracy: 0.984375\n",
            "Epoch: 91, learning_rate:[0.015786197254288717],costo: 0.008244570344686508, accuracy: 0.9765625\n",
            "Epoch: 92, learning_rate:[0.04524480481067024],costo: 0.008867084980010986, accuracy: 0.982421875\n",
            "Proximo maxLR 0.1\n",
            "Epoch: 93, learning_rate:[0.08658171480055966],costo: 0.009749777615070343, accuracy: 0.982421875\n",
            "Epoch: 94, learning_rate:[0.06692313489158762],costo: 0.008019136264920235, accuracy: 0.982421875\n",
            "Epoch: 95, learning_rate:[0.03388911998941633],costo: 0.007694144267588854, accuracy: 0.978515625\n",
            "Epoch: 96, learning_rate:[0.033085249549909726],costo: 0.010898842476308346, accuracy: 0.974609375\n",
            "Epoch: 97, learning_rate:[0.05016727071839726],costo: 0.006840287707746029, accuracy: 0.984375\n",
            "Epoch: 98, learning_rate:[0.05577135598307763],costo: 0.00844333041459322, accuracy: 0.98828125\n",
            "Proximo maxLR 0.1\n",
            "Epoch: 99, learning_rate:[0.09200652508306265],costo: 0.012648471631109715, accuracy: 0.98828125\n",
            "Epoch: 100, learning_rate:[0.06394419499812715],costo: 0.0027585127390921116, accuracy: 0.978515625\n"
          ]
        }
      ],
      "source": [
        "resultados['random_cyclic_decrement'] = {}\n",
        "resultados['random_cyclic_decrement']['val_acc_list'] = [0] * epochs\n",
        "resultados['random_cyclic_decrement']['test_acc'] = 0\n",
        "resultados['random_cyclic_decrement']['cost'] = [0] * epochs\n",
        "resultados['random_cyclic_decrement']['time'] = 0\n",
        "resultados['random_cyclic_decrement']['epochs'] = 0\n",
        "\n",
        "for _ in range(MAX_ITERATIONS):\n",
        "    random_cyclic_decrement_acc_list, random_cyclic_decrement_cost_list, random_cyclic_decrement_lr_list, random_cyclic_decrement_time, random_cyclic_decrement_acc, random_cyclic_decrement_epochs = CyclicGDDecrement()\n",
        "    a = SumList(resultados['random_cyclic']['val_acc_list'], random_cyclic_decrement_acc_list)\n",
        "    resultados['random_cyclic_decrement']['val_acc_list'] = SumList(resultados['random_cyclic_decrement']['val_acc_list'], random_cyclic_decrement_acc_list)\n",
        "    resultados['random_cyclic_decrement']['test_acc'] += random_cyclic_decrement_acc\n",
        "    resultados['random_cyclic_decrement']['cost'] = SumList(resultados['random_cyclic_decrement']['cost'], random_cyclic_decrement_cost_list)\n",
        "    resultados['random_cyclic_decrement']['time'] += random_cyclic_decrement_time\n",
        "    resultados['random_cyclic_decrement']['epochs'] += random_cyclic_decrement_epochs\n",
        "\n",
        "#Saving results\n",
        "resultados['random_cyclic_decrement']['name'] = 'Random Ciclico Decreciente'\n",
        "resultados['random_cyclic_decrement']['lr'] = random_cyclic_decrement_lr_list\n",
        "resultados['random_cyclic_decrement']['test_acc'] = resultados['random_cyclic_decrement']['test_acc'] / MAX_ITERATIONS\n",
        "resultados['random_cyclic_decrement']['val_acc_list'] = DeleteZerosFromList(DivideList(resultados['random_cyclic_decrement']['val_acc_list'], MAX_ITERATIONS))\n",
        "resultados['random_cyclic_decrement']['cost'] = DeleteZerosFromList(DivideList(resultados['random_cyclic_decrement']['cost'], MAX_ITERATIONS))\n",
        "resultados['random_cyclic_decrement']['time'] = resultados['random_cyclic_decrement']['time']/ MAX_ITERATIONS\n",
        "resultados['random_cyclic_decrement']['epochs'] = resultados['random_cyclic_decrement']['epochs'] / MAX_ITERATIONS"
      ]
    },
    {
      "cell_type": "code",
      "execution_count": 39,
      "metadata": {},
      "outputs": [],
      "source": [
        "def CyclicGDExtended():\n",
        "    modelRandomCyclic_Extended = nn.Sequential(nn.Linear(in_features=input_layer, out_features=layer1), nn.ReLU(), nn.Dropout(dropout),\n",
        "                        nn.Linear(in_features=layer1, out_features=layer2), nn.ReLU(), nn.Dropout(dropout),\n",
        "                        nn.Linear(in_features=layer2, out_features=10))\n",
        "    optimizer = torch.optim.SGD(modelRandomCyclic_Extended.parameters(), lr=lr)\n",
        "\n",
        "    scheduler = CyclicLRGiselt_Denis(optimizer, base_lr=0.01, max_lr=0.1,step_size_up=3, scale_mode='extendido')\n",
        "\n",
        "    start.record()\n",
        "    random_cyclic_extended_acc_list, random_cyclic_extended_cost_list, random_cyclic_extended_lr_list, random_cyclic_extended_epochs= train(modelRandomCyclic_Extended, optimizer,scheduler, mb_size)\n",
        "    end.record()\n",
        "\n",
        "    torch.cuda.synchronize() \n",
        "    random_cyclic_extended_time = start.elapsed_time(end)\n",
        "\n",
        "    random_cyclic_extended_acc = accuracy(modelRandomCyclic_Extended, x_test_tensor,  y_test_tensor, mb_size) \n",
        "\n",
        "    return random_cyclic_extended_acc_list, random_cyclic_extended_cost_list, random_cyclic_extended_lr_list, random_cyclic_extended_time, random_cyclic_extended_acc, random_cyclic_extended_epochs"
      ]
    },
    {
      "cell_type": "code",
      "execution_count": 40,
      "metadata": {},
      "outputs": [
        {
          "name": "stdout",
          "output_type": "stream",
          "text": [
            "Epoch: 1, learning_rate:[0.03075659591076231],costo: 0.915222704410553, accuracy: 0.82421875\n",
            "Epoch: 2, learning_rate:[0.08804744737895123],costo: 0.4400860369205475, accuracy: 0.904296875\n",
            "Epoch: 3, learning_rate:[0.0896871243283414],costo: 0.3760242462158203, accuracy: 0.923828125\n",
            "Epoch: 4, learning_rate:[0.09350581953573851],costo: 0.3640553951263428, accuracy: 0.955078125\n",
            "Epoch: 5, learning_rate:[0.09029990160311512],costo: 0.18864557147026062, accuracy: 0.9296875\n",
            "Epoch: 6, learning_rate:[0.04107532794850796],costo: 0.21428802609443665, accuracy: 0.9609375\n",
            "Epoch: 7, learning_rate:[0.04024089998615796],costo: 0.1436484158039093, accuracy: 0.97265625\n",
            "Epoch: 8, learning_rate:[0.03166992066521618],costo: 0.17585909366607666, accuracy: 0.962890625\n",
            "Epoch: 9, learning_rate:[0.037743579440938826],costo: 0.16819390654563904, accuracy: 0.974609375\n",
            "Epoch: 10, learning_rate:[0.09945395331747052],costo: 0.17743022739887238, accuracy: 0.955078125\n",
            "Epoch: 11, learning_rate:[0.09985314302878909],costo: 0.1256110668182373, accuracy: 0.962890625\n",
            "Epoch: 12, learning_rate:[0.09988237421532715],costo: 0.1720276027917862, accuracy: 0.97265625\n",
            "Epoch: 13, learning_rate:[0.014816909358391769],costo: 0.13234980404376984, accuracy: 0.96875\n",
            "Epoch: 14, learning_rate:[0.013607328594742535],costo: 0.12488876283168793, accuracy: 0.98046875\n",
            "Epoch: 15, learning_rate:[0.011026226381676904],costo: 0.13354137539863586, accuracy: 0.978515625\n",
            "Epoch: 16, learning_rate:[0.010510415563788678],costo: 0.11685045808553696, accuracy: 0.978515625\n",
            "Epoch: 17, learning_rate:[0.09356782569027465],costo: 0.0645521730184555, accuracy: 0.962890625\n",
            "Epoch: 18, learning_rate:[0.09560986504038448],costo: 0.14822490513324738, accuracy: 0.9765625\n",
            "Epoch: 19, learning_rate:[0.09779427686176018],costo: 0.08433681726455688, accuracy: 0.970703125\n",
            "Epoch: 20, learning_rate:[0.09813492690637486],costo: 0.12208667397499084, accuracy: 0.98046875\n",
            "Epoch: 21, learning_rate:[0.03316240937708928],costo: 0.12689688801765442, accuracy: 0.9765625\n",
            "Epoch: 22, learning_rate:[0.02231079106028593],costo: 0.08351995050907135, accuracy: 0.966796875\n",
            "Epoch: 23, learning_rate:[0.015275426909809077],costo: 0.08649701625108719, accuracy: 0.974609375\n",
            "Epoch: 24, learning_rate:[0.012918308985868859],costo: 0.0668928250670433, accuracy: 0.96875\n",
            "Epoch: 25, learning_rate:[0.05435133425426594],costo: 0.082011878490448, accuracy: 0.974609375\n",
            "Epoch: 26, learning_rate:[0.07637345608172809],costo: 0.048918530344963074, accuracy: 0.982421875\n",
            "Epoch: 27, learning_rate:[0.08082140086627437],costo: 0.06488430500030518, accuracy: 0.9765625\n",
            "Epoch: 28, learning_rate:[0.09596342663743945],costo: 0.05280184745788574, accuracy: 0.98046875\n",
            "Epoch: 29, learning_rate:[0.026575085640409425],costo: 0.06125813350081444, accuracy: 0.96484375\n",
            "Epoch: 30, learning_rate:[0.016636445042388835],costo: 0.050821565091609955, accuracy: 0.97265625\n",
            "Epoch: 31, learning_rate:[0.01351637513066197],costo: 0.08758346736431122, accuracy: 0.990234375\n",
            "Epoch: 32, learning_rate:[0.009037096479119515],costo: 0.045154765248298645, accuracy: 0.96875\n",
            "Epoch: 33, learning_rate:[0.048321492739269466],costo: 0.04478089138865471, accuracy: 0.982421875\n",
            "Epoch: 34, learning_rate:[0.05848872708607765],costo: 0.03779711201786995, accuracy: 0.98828125\n",
            "Epoch: 35, learning_rate:[0.0669579105132353],costo: 0.06663848459720612, accuracy: 0.9765625\n",
            "Epoch: 36, learning_rate:[0.0744978905187164],costo: 0.051484934985637665, accuracy: 0.9765625\n",
            "Epoch: 37, learning_rate:[0.05874157549855692],costo: 0.04692666977643967, accuracy: 0.978515625\n",
            "Epoch: 38, learning_rate:[0.02947915775037084],costo: 0.03567403182387352, accuracy: 0.974609375\n",
            "Epoch: 39, learning_rate:[0.010728369820545945],costo: 0.05273522809147835, accuracy: 0.98046875\n",
            "Epoch: 40, learning_rate:[0.009757362919810877],costo: 0.052114684134721756, accuracy: 0.98046875\n",
            "Epoch: 41, learning_rate:[0.0244398863775461],costo: 0.04473558068275452, accuracy: 0.978515625\n",
            "Epoch: 42, learning_rate:[0.03050306547813916],costo: 0.026843445375561714, accuracy: 0.994140625\n",
            "Epoch: 43, learning_rate:[0.08547377290965665],costo: 0.03195424750447273, accuracy: 0.97265625\n",
            "Epoch: 44, learning_rate:[0.09003977991023945],costo: 0.05824242904782295, accuracy: 0.9765625\n",
            "Epoch: 45, learning_rate:[0.0187962921462535],costo: 0.053831253200769424, accuracy: 0.98046875\n",
            "Epoch: 46, learning_rate:[0.014006957083628525],costo: 0.054379016160964966, accuracy: 0.982421875\n",
            "Epoch: 47, learning_rate:[0.013184602685531191],costo: 0.025249144062399864, accuracy: 0.978515625\n",
            "Epoch: 48, learning_rate:[0.013034347286103514],costo: 0.03851637989282608, accuracy: 0.978515625\n",
            "Epoch: 49, learning_rate:[0.07314958553475757],costo: 0.027559170499444008, accuracy: 0.9765625\n",
            "Epoch: 50, learning_rate:[0.0765540948292613],costo: 0.039766717702150345, accuracy: 0.98828125\n",
            "Epoch: 51, learning_rate:[0.078878905134519],costo: 0.02875564433634281, accuracy: 0.97265625\n",
            "Epoch: 52, learning_rate:[0.08948734757674735],costo: 0.04188752919435501, accuracy: 0.966796875\n",
            "Epoch: 53, learning_rate:[0.017809693984066538],costo: 0.023154759779572487, accuracy: 0.974609375\n",
            "Epoch: 54, learning_rate:[0.01253937461036388],costo: 0.013193615712225437, accuracy: 0.982421875\n",
            "Epoch: 55, learning_rate:[0.011910591774513264],costo: 0.027921881526708603, accuracy: 0.984375\n",
            "Epoch: 56, learning_rate:[0.009926792445513422],costo: 0.032352298498153687, accuracy: 0.96875\n",
            "Epoch: 57, learning_rate:[0.06612942004032793],costo: 0.018514463678002357, accuracy: 0.98046875\n",
            "Epoch: 58, learning_rate:[0.06675116507846678],costo: 0.03846753388643265, accuracy: 0.9765625\n",
            "Epoch: 59, learning_rate:[0.09816179312611888],costo: 0.027906110510230064, accuracy: 0.986328125\n",
            "Epoch: 60, learning_rate:[0.10065725860332125],costo: 0.03340797871351242, accuracy: 0.974609375\n",
            "Epoch: 61, learning_rate:[0.0707534474608935],costo: 0.017556440085172653, accuracy: 0.98828125\n",
            "Epoch: 62, learning_rate:[0.03211027333123594],costo: 0.026682229712605476, accuracy: 0.984375\n",
            "Epoch: 63, learning_rate:[0.017213982537488497],costo: 0.018806105479598045, accuracy: 0.982421875\n",
            "Epoch: 64, learning_rate:[0.010668484005591328],costo: 0.011101157404482365, accuracy: 0.9765625\n",
            "Epoch: 65, learning_rate:[0.022998239617025774],costo: 0.018199536949396133, accuracy: 0.98828125\n",
            "Epoch: 66, learning_rate:[0.0745498609756192],costo: 0.027654556557536125, accuracy: 0.984375\n",
            "Epoch: 67, learning_rate:[0.09421941849089888],costo: 0.026997869834303856, accuracy: 0.984375\n",
            "Epoch: 68, learning_rate:[0.09646609030520384],costo: 0.02214297465980053, accuracy: 0.98046875\n",
            "Epoch: 69, learning_rate:[0.07957621633288894],costo: 0.031149035319685936, accuracy: 0.982421875\n",
            "Epoch: 70, learning_rate:[0.02529122864158008],costo: 0.020620476454496384, accuracy: 0.982421875\n",
            "Epoch: 71, learning_rate:[0.020742691991866267],costo: 0.021545086055994034, accuracy: 0.9765625\n",
            "Epoch: 72, learning_rate:[0.01503470416970169],costo: 0.036203425377607346, accuracy: 0.990234375\n",
            "Epoch: 73, learning_rate:[0.0981727865648192],costo: 0.01824444904923439, accuracy: 0.994140625\n",
            "Epoch: 74, learning_rate:[0.09895634178315711],costo: 0.02668033540248871, accuracy: 0.982421875\n",
            "Epoch: 75, learning_rate:[0.09988507146795624],costo: 0.011883029714226723, accuracy: 0.9921875\n",
            "Epoch: 76, learning_rate:[0.10045893229657898],costo: 0.01918371394276619, accuracy: 0.984375\n",
            "Epoch: 77, learning_rate:[0.051682400508496276],costo: 0.012046737596392632, accuracy: 0.978515625\n",
            "Epoch: 78, learning_rate:[0.043164422003377986],costo: 0.013964935205876827, accuracy: 0.9765625\n",
            "Epoch: 79, learning_rate:[0.023364491469423855],costo: 0.024063561111688614, accuracy: 0.986328125\n",
            "Epoch: 80, learning_rate:[0.020066749702157265],costo: 0.011684896424412727, accuracy: 0.990234375\n",
            "Epoch: 81, learning_rate:[0.07393726371332371],costo: 0.009275862015783787, accuracy: 0.97265625\n",
            "Epoch: 82, learning_rate:[0.08152915020763274],costo: 0.011962582357227802, accuracy: 0.982421875\n",
            "Epoch: 83, learning_rate:[0.09245996516274087],costo: 0.022488117218017578, accuracy: 0.984375\n",
            "Epoch: 84, learning_rate:[0.09596271759950901],costo: 0.020790711045265198, accuracy: 0.98046875\n",
            "Epoch: 85, learning_rate:[0.028942217939568242],costo: 0.01684848964214325, accuracy: 0.984375\n",
            "Epoch: 86, learning_rate:[0.015422800606841045],costo: 0.012294338084757328, accuracy: 0.984375\n",
            "Epoch: 87, learning_rate:[0.01118190405458995],costo: 0.011998159810900688, accuracy: 0.978515625\n",
            "Epoch: 88, learning_rate:[0.010203521722715015],costo: 0.008545166812837124, accuracy: 0.982421875\n",
            "Epoch: 89, learning_rate:[0.07839435460820311],costo: 0.01784113608300686, accuracy: 0.990234375\n",
            "Epoch: 90, learning_rate:[0.09039051731521726],costo: 0.01375914178788662, accuracy: 0.982421875\n",
            "Epoch: 91, learning_rate:[0.0997354436048189],costo: 0.025176385417580605, accuracy: 0.98046875\n",
            "Epoch: 92, learning_rate:[0.10046275525305476],costo: 0.015167277306318283, accuracy: 0.986328125\n",
            "Epoch: 93, learning_rate:[0.06863525079335668],costo: 0.010838637128472328, accuracy: 0.96875\n",
            "Epoch: 94, learning_rate:[0.03639005077845999],costo: 0.01335858553647995, accuracy: 0.98046875\n",
            "Epoch: 95, learning_rate:[0.024328559236506845],costo: 0.0067847250029444695, accuracy: 0.978515625\n",
            "Epoch: 96, learning_rate:[0.01884444670302725],costo: 0.01851280964910984, accuracy: 0.986328125\n",
            "Epoch: 97, learning_rate:[0.06730667234554542],costo: 0.006341376341879368, accuracy: 0.98828125\n",
            "Epoch: 98, learning_rate:[0.08990837355901432],costo: 0.006537085399031639, accuracy: 0.978515625\n",
            "Epoch: 99, learning_rate:[0.0933199324755035],costo: 0.012472291477024555, accuracy: 0.978515625\n",
            "Epoch: 100, learning_rate:[0.09603228096713139],costo: 0.008934520184993744, accuracy: 0.986328125\n"
          ]
        }
      ],
      "source": [
        "resultados['random_cyclic_extended'] = {}\n",
        "resultados['random_cyclic_extended']['val_acc_list'] = [0] * epochs\n",
        "resultados['random_cyclic_extended']['test_acc'] = 0\n",
        "resultados['random_cyclic_extended']['cost'] = [0] * epochs\n",
        "resultados['random_cyclic_extended']['time'] = 0\n",
        "resultados['random_cyclic_extended']['epochs'] = 0\n",
        "\n",
        "for _ in range(MAX_ITERATIONS):\n",
        "    random_cyclic_extended_acc_list, random_cyclic_extended_cost_list, random_cyclic_extended_lr_list, random_cyclic_extended_time, random_cyclic_extended_acc, random_cyclic_extended_epochs = CyclicGDExtended()\n",
        "    a = SumList(resultados['random_cyclic']['val_acc_list'], random_cyclic_extended_acc_list)\n",
        "    resultados['random_cyclic_extended']['val_acc_list'] = SumList(resultados['random_cyclic_extended']['val_acc_list'], random_cyclic_extended_acc_list)\n",
        "    resultados['random_cyclic_extended']['test_acc'] += random_cyclic_extended_acc\n",
        "    resultados['random_cyclic_extended']['cost'] = SumList(resultados['random_cyclic_extended']['cost'], random_cyclic_extended_cost_list)\n",
        "    resultados['random_cyclic_extended']['time'] += random_cyclic_extended_time\n",
        "    resultados['random_cyclic_extended']['epochs'] += random_cyclic_extended_epochs\n",
        "\n",
        "#Saving results\n",
        "resultados['random_cyclic_extended']['name'] = 'Random Ciclico Extended'\n",
        "resultados['random_cyclic_extended']['lr'] = random_cyclic_extended_lr_list\n",
        "resultados['random_cyclic_extended']['test_acc'] = resultados['random_cyclic_extended']['test_acc'] / MAX_ITERATIONS\n",
        "resultados['random_cyclic_extended']['val_acc_list'] = DeleteZerosFromList(DivideList(resultados['random_cyclic_extended']['val_acc_list'], MAX_ITERATIONS))\n",
        "resultados['random_cyclic_extended']['cost'] = DeleteZerosFromList(DivideList(resultados['random_cyclic_extended']['cost'], MAX_ITERATIONS))\n",
        "resultados['random_cyclic_extended']['time'] = resultados['random_cyclic_extended']['time']/ MAX_ITERATIONS\n",
        "resultados['random_cyclic_extended']['epochs'] = resultados['random_cyclic_extended']['epochs'] / MAX_ITERATIONS"
      ]
    },
    {
      "cell_type": "markdown",
      "metadata": {
        "id": "9dD4C1mSZidw"
      },
      "source": [
        "## Tasa de aprendizaje decreciente (Propuesta)"
      ]
    },
    {
      "cell_type": "markdown",
      "metadata": {
        "id": "zyV63d-ng_GM"
      },
      "source": [
        "Inicia con una tasa de aprendizaje $\\alpha$ inicial y posee una disminución de 0.001 cada $p$ epochs.\n",
        "\n",
        "$\\alpha: 1x10^{-2}$\n",
        "\n",
        "$p: 1$ epochs\n",
        "\n",
        "![decreciente.png](data:image/png;base64,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)"
      ]
    },
    {
      "cell_type": "code",
      "execution_count": 41,
      "metadata": {
        "id": "-104rC6UfGaX"
      },
      "outputs": [],
      "source": [
        "def Our_Decay():\n",
        "    modelOurDecay = nn.Sequential(nn.Linear(in_features=input_layer, out_features=layer1), nn.ReLU(), nn.Dropout(dropout),\n",
        "                       nn.Linear(in_features=layer1, out_features=layer2), nn.ReLU(), nn.Dropout(dropout),\n",
        "                       nn.Linear(in_features=layer2, out_features=10))\n",
        "    optimizer = torch.optim.SGD(modelOurDecay.parameters(), lr=lr)\n",
        "\n",
        "\n",
        "    clr_fn = lambda x, y: random.uniform(x, y)\n",
        "    scheduler = CyclicLRGiselt_Denis(optimizer, base_lr=0.0001, max_lr=0.1, step_size_up=1,scale_mode='decrecimiento')\n",
        "\n",
        "    start.record()\n",
        "    our_decay_acc_list, our_decay_cost_list, our_decay_lr_list, our_decay_epochs = train(modelOurDecay,optimizer, scheduler, mb_size)\n",
        "    end.record()\n",
        "\n",
        "    torch.cuda.synchronize()\n",
        "    our_decay_time = start.elapsed_time(end)\n",
        "\n",
        "    our_decay_acc = accuracy(modelOurDecay, x_test_tensor,  y_test_tensor, mb_size)\n",
        "\n",
        "    return our_decay_acc_list, our_decay_cost_list, our_decay_lr_list, our_decay_time, our_decay_acc, our_decay_epochs"
      ]
    },
    {
      "cell_type": "code",
      "execution_count": 42,
      "metadata": {
        "colab": {
          "base_uri": "https://localhost:8080/"
        },
        "id": "e1gWBYUD-F8g",
        "outputId": "3f364305-afff-415e-b44c-bdcf7b3dec7f"
      },
      "outputs": [
        {
          "name": "stdout",
          "output_type": "stream",
          "text": [
            "Epoch: 1, learning_rate:[0.0999],costo: 0.4077530801296234, accuracy: 0.923828125\n",
            "Epoch: 2, learning_rate:[0.0998],costo: 0.3260982632637024, accuracy: 0.94140625\n",
            "Epoch: 3, learning_rate:[0.0997],costo: 0.2418401539325714, accuracy: 0.94140625\n",
            "Epoch: 4, learning_rate:[0.0996],costo: 0.23346617817878723, accuracy: 0.96484375\n",
            "Epoch: 5, learning_rate:[0.09949999999999999],costo: 0.18427757918834686, accuracy: 0.94921875\n",
            "Epoch: 6, learning_rate:[0.09939999999999999],costo: 0.1183885857462883, accuracy: 0.953125\n",
            "Epoch: 7, learning_rate:[0.09929999999999999],costo: 0.16466329991817474, accuracy: 0.96484375\n",
            "Epoch: 8, learning_rate:[0.09919999999999998],costo: 0.10660096257925034, accuracy: 0.97265625\n",
            "Epoch: 9, learning_rate:[0.09909999999999998],costo: 0.09352825582027435, accuracy: 0.970703125\n",
            "Epoch: 10, learning_rate:[0.09899999999999998],costo: 0.09378165751695633, accuracy: 0.98046875\n",
            "Epoch: 11, learning_rate:[0.09889999999999997],costo: 0.07634426653385162, accuracy: 0.97265625\n",
            "Epoch: 12, learning_rate:[0.09879999999999997],costo: 0.09707549959421158, accuracy: 0.974609375\n",
            "Epoch: 13, learning_rate:[0.09869999999999997],costo: 0.08215365558862686, accuracy: 0.966796875\n",
            "Epoch: 14, learning_rate:[0.09859999999999997],costo: 0.06784547865390778, accuracy: 0.98046875\n",
            "Epoch: 15, learning_rate:[0.09849999999999996],costo: 0.05727703869342804, accuracy: 0.982421875\n",
            "Epoch: 16, learning_rate:[0.09839999999999996],costo: 0.055958766490221024, accuracy: 0.96875\n",
            "Epoch: 17, learning_rate:[0.09829999999999996],costo: 0.0715668573975563, accuracy: 0.966796875\n",
            "Epoch: 18, learning_rate:[0.09819999999999995],costo: 0.07817336916923523, accuracy: 0.986328125\n",
            "Epoch: 19, learning_rate:[0.09809999999999995],costo: 0.06620649248361588, accuracy: 0.982421875\n",
            "Epoch: 20, learning_rate:[0.09799999999999995],costo: 0.024666456505656242, accuracy: 0.984375\n",
            "Epoch: 21, learning_rate:[0.09789999999999995],costo: 0.05954381451010704, accuracy: 0.98828125\n",
            "Epoch: 22, learning_rate:[0.09779999999999994],costo: 0.04112245887517929, accuracy: 0.974609375\n",
            "Epoch: 23, learning_rate:[0.09769999999999994],costo: 0.05124999210238457, accuracy: 0.990234375\n",
            "Epoch: 24, learning_rate:[0.09759999999999994],costo: 0.051621656864881516, accuracy: 0.9765625\n",
            "Epoch: 25, learning_rate:[0.09749999999999993],costo: 0.03798859193921089, accuracy: 0.982421875\n",
            "Epoch: 26, learning_rate:[0.09739999999999993],costo: 0.03943787142634392, accuracy: 0.984375\n",
            "Epoch: 27, learning_rate:[0.09729999999999993],costo: 0.024747565388679504, accuracy: 0.984375\n",
            "Epoch: 28, learning_rate:[0.09719999999999993],costo: 0.03626731410622597, accuracy: 0.984375\n",
            "Epoch: 29, learning_rate:[0.09709999999999992],costo: 0.044146887958049774, accuracy: 0.984375\n",
            "Epoch: 30, learning_rate:[0.09699999999999992],costo: 0.02395782805979252, accuracy: 0.978515625\n",
            "Epoch: 31, learning_rate:[0.09689999999999992],costo: 0.028761370107531548, accuracy: 0.98046875\n",
            "Epoch: 32, learning_rate:[0.09679999999999991],costo: 0.03250729292631149, accuracy: 0.984375\n",
            "Epoch: 33, learning_rate:[0.09669999999999991],costo: 0.020968515425920486, accuracy: 0.978515625\n",
            "Epoch: 34, learning_rate:[0.09659999999999991],costo: 0.02206731215119362, accuracy: 0.974609375\n",
            "Epoch: 35, learning_rate:[0.0964999999999999],costo: 0.033082518726587296, accuracy: 0.9765625\n",
            "Epoch: 36, learning_rate:[0.0963999999999999],costo: 0.0398966483771801, accuracy: 0.986328125\n",
            "Epoch: 37, learning_rate:[0.0962999999999999],costo: 0.04221462458372116, accuracy: 0.990234375\n",
            "Epoch: 38, learning_rate:[0.0961999999999999],costo: 0.01724635437130928, accuracy: 0.98046875\n",
            "Epoch: 39, learning_rate:[0.0960999999999999],costo: 0.029994552955031395, accuracy: 0.986328125\n",
            "Epoch: 40, learning_rate:[0.09599999999999989],costo: 0.015320472419261932, accuracy: 0.978515625\n",
            "Epoch: 41, learning_rate:[0.09589999999999989],costo: 0.026009151712059975, accuracy: 0.986328125\n",
            "Epoch: 42, learning_rate:[0.09579999999999989],costo: 0.014283262193202972, accuracy: 0.98828125\n",
            "Epoch: 43, learning_rate:[0.09569999999999988],costo: 0.013180394656956196, accuracy: 0.9765625\n",
            "Epoch: 44, learning_rate:[0.09559999999999988],costo: 0.01265906821936369, accuracy: 0.986328125\n",
            "Epoch: 45, learning_rate:[0.09549999999999988],costo: 0.02357436902821064, accuracy: 0.986328125\n",
            "Epoch: 46, learning_rate:[0.09539999999999987],costo: 0.0218251571059227, accuracy: 0.982421875\n",
            "Epoch: 47, learning_rate:[0.09529999999999987],costo: 0.025562111288309097, accuracy: 0.986328125\n",
            "Epoch: 48, learning_rate:[0.09519999999999987],costo: 0.018787015229463577, accuracy: 0.98046875\n",
            "Epoch: 49, learning_rate:[0.09509999999999987],costo: 0.011494021862745285, accuracy: 0.984375\n",
            "Epoch: 50, learning_rate:[0.09499999999999986],costo: 0.01888730749487877, accuracy: 0.986328125\n",
            "Epoch: 51, learning_rate:[0.09489999999999986],costo: 0.008264046162366867, accuracy: 0.98828125\n",
            "Epoch: 52, learning_rate:[0.09479999999999986],costo: 0.013071669265627861, accuracy: 0.98828125\n",
            "Epoch: 53, learning_rate:[0.09469999999999985],costo: 0.005306466482579708, accuracy: 0.984375\n",
            "Epoch: 54, learning_rate:[0.09459999999999985],costo: 0.00977653730660677, accuracy: 0.982421875\n",
            "Epoch: 55, learning_rate:[0.09449999999999985],costo: 0.007178220897912979, accuracy: 0.982421875\n",
            "Epoch: 56, learning_rate:[0.09439999999999985],costo: 0.012268304824829102, accuracy: 0.984375\n",
            "Epoch: 57, learning_rate:[0.09429999999999984],costo: 0.007549141068011522, accuracy: 0.986328125\n",
            "Epoch: 58, learning_rate:[0.09419999999999984],costo: 0.004442495293915272, accuracy: 0.986328125\n",
            "Epoch: 59, learning_rate:[0.09409999999999984],costo: 0.008358930237591267, accuracy: 0.986328125\n",
            "Epoch: 60, learning_rate:[0.09399999999999983],costo: 0.009254314005374908, accuracy: 0.986328125\n",
            "Epoch: 61, learning_rate:[0.09389999999999983],costo: 0.013549174182116985, accuracy: 0.990234375\n",
            "Epoch: 62, learning_rate:[0.09379999999999983],costo: 0.013140651397407055, accuracy: 0.98046875\n",
            "Epoch: 63, learning_rate:[0.09369999999999983],costo: 0.00502434279769659, accuracy: 0.990234375\n",
            "Epoch: 64, learning_rate:[0.09359999999999982],costo: 0.01015538815408945, accuracy: 0.9921875\n",
            "Epoch: 65, learning_rate:[0.09349999999999982],costo: 0.009426846168935299, accuracy: 0.986328125\n",
            "Epoch: 66, learning_rate:[0.09339999999999982],costo: 0.014175484888255596, accuracy: 0.984375\n",
            "Epoch: 67, learning_rate:[0.09329999999999981],costo: 0.004112431313842535, accuracy: 0.98828125\n",
            "Epoch: 68, learning_rate:[0.09319999999999981],costo: 0.004201609641313553, accuracy: 0.990234375\n",
            "Epoch: 69, learning_rate:[0.09309999999999981],costo: 0.005994662642478943, accuracy: 0.982421875\n",
            "Epoch: 70, learning_rate:[0.0929999999999998],costo: 0.006660697050392628, accuracy: 0.990234375\n",
            "Epoch: 71, learning_rate:[0.0928999999999998],costo: 0.006925496272742748, accuracy: 0.99609375\n",
            "Epoch: 72, learning_rate:[0.0927999999999998],costo: 0.006596368737518787, accuracy: 0.98046875\n",
            "Epoch: 73, learning_rate:[0.0926999999999998],costo: 0.002097225748002529, accuracy: 0.98046875\n",
            "Epoch: 74, learning_rate:[0.0925999999999998],costo: 0.005720860790461302, accuracy: 0.990234375\n",
            "Epoch: 75, learning_rate:[0.09249999999999979],costo: 0.0043920180760324, accuracy: 0.978515625\n",
            "Epoch: 76, learning_rate:[0.09239999999999979],costo: 0.0037308381870388985, accuracy: 0.984375\n",
            "Epoch: 77, learning_rate:[0.09229999999999978],costo: 0.004834451712667942, accuracy: 0.986328125\n",
            "Epoch: 78, learning_rate:[0.09219999999999978],costo: 0.002712961984798312, accuracy: 0.98828125\n",
            "Epoch: 79, learning_rate:[0.09209999999999978],costo: 0.007023358717560768, accuracy: 0.9921875\n",
            "Epoch: 80, learning_rate:[0.09199999999999978],costo: 0.0029152128845453262, accuracy: 0.982421875\n",
            "Epoch: 81, learning_rate:[0.09189999999999977],costo: 0.005783386994153261, accuracy: 0.990234375\n",
            "Epoch: 82, learning_rate:[0.09179999999999977],costo: 0.0023433826863765717, accuracy: 0.990234375\n",
            "Epoch: 83, learning_rate:[0.09169999999999977],costo: 0.0045570568181574345, accuracy: 0.986328125\n",
            "Epoch: 84, learning_rate:[0.09159999999999976],costo: 0.002420922042801976, accuracy: 0.978515625\n",
            "Epoch: 85, learning_rate:[0.09149999999999976],costo: 0.0029255198314785957, accuracy: 0.984375\n",
            "Epoch: 86, learning_rate:[0.09139999999999976],costo: 0.009454276412725449, accuracy: 0.986328125\n",
            "Epoch: 87, learning_rate:[0.09129999999999976],costo: 0.014369645155966282, accuracy: 0.974609375\n",
            "Epoch: 88, learning_rate:[0.09119999999999975],costo: 0.0026625939644873142, accuracy: 0.982421875\n",
            "Epoch: 89, learning_rate:[0.09109999999999975],costo: 0.0016021206974983215, accuracy: 0.982421875\n",
            "Epoch: 90, learning_rate:[0.09099999999999975],costo: 0.003204125678166747, accuracy: 0.98828125\n",
            "Epoch: 91, learning_rate:[0.09089999999999974],costo: 0.004841325804591179, accuracy: 0.98828125\n",
            "Epoch: 92, learning_rate:[0.09079999999999974],costo: 0.005881793797016144, accuracy: 0.98046875\n",
            "Epoch: 93, learning_rate:[0.09069999999999974],costo: 0.0024037989787757397, accuracy: 0.984375\n",
            "Epoch: 94, learning_rate:[0.09059999999999974],costo: 0.005030106753110886, accuracy: 0.978515625\n",
            "Epoch: 95, learning_rate:[0.09049999999999973],costo: 0.001303057768382132, accuracy: 0.9921875\n",
            "Epoch: 96, learning_rate:[0.09039999999999973],costo: 0.001498103840276599, accuracy: 0.984375\n",
            "Epoch: 97, learning_rate:[0.09029999999999973],costo: 0.005773904733359814, accuracy: 0.982421875\n",
            "Epoch: 98, learning_rate:[0.09019999999999972],costo: 0.004523647483438253, accuracy: 0.98046875\n",
            "Epoch: 99, learning_rate:[0.09009999999999972],costo: 0.0030599317979067564, accuracy: 0.974609375\n",
            "Epoch: 100, learning_rate:[0.08999999999999972],costo: 0.008376630023121834, accuracy: 0.984375\n"
          ]
        }
      ],
      "source": [
        "resultados['our_decay'] = {}\n",
        "resultados['our_decay']['val_acc_list'] = [0] * epochs\n",
        "resultados['our_decay']['test_acc'] = 0\n",
        "resultados['our_decay']['cost'] = [0] * epochs\n",
        "resultados['our_decay']['time'] = 0\n",
        "resultados['our_decay']['epochs'] = 0\n",
        "\n",
        "for _ in range(MAX_ITERATIONS):\n",
        "    our_decay_acc_list, our_decay_cost_list, our_decay_lr_list, our_decay_time, our_decay_acc, our_decay_epochs = Our_Decay()\n",
        "    resultados['our_decay']['val_acc_list'] = SumList(resultados['our_decay']['val_acc_list'], our_decay_acc_list)\n",
        "    resultados['our_decay']['test_acc'] += our_decay_acc\n",
        "    resultados['our_decay']['cost'] = SumList(resultados['our_decay']['cost'], our_decay_cost_list)\n",
        "    resultados['our_decay']['time'] += our_decay_time\n",
        "    resultados['our_decay']['epochs'] += our_decay_epochs\n",
        "\n",
        "#Saving results\n",
        "resultados['our_decay']['name'] = 'Our Decay'\n",
        "resultados['our_decay']['lr'] = our_decay_lr_list\n",
        "resultados['our_decay']['test_acc'] = resultados['our_decay']['test_acc'] / MAX_ITERATIONS\n",
        "resultados['our_decay']['val_acc_list'] = DeleteZerosFromList(DivideList(resultados['our_decay']['val_acc_list'], MAX_ITERATIONS))\n",
        "resultados['our_decay']['cost'] = DeleteZerosFromList(DivideList(resultados['our_decay']['cost'], MAX_ITERATIONS))\n",
        "resultados['our_decay']['time'] = resultados['our_decay']['time'] / MAX_ITERATIONS\n",
        "resultados['our_decay']['epochs'] = resultados['our_decay']['epochs'] / MAX_ITERATIONS"
      ]
    },
    {
      "cell_type": "markdown",
      "metadata": {
        "id": "iqmMCfIAHpgs"
      },
      "source": [
        "## L-BFGS"
      ]
    },
    {
      "cell_type": "markdown",
      "metadata": {
        "id": "HKIkHE3dhfUD"
      },
      "source": [
        "Derivado del método BFGS pero con memoria limitada. Considera información de las $h$ iteraciones previas"
      ]
    },
    {
      "cell_type": "markdown",
      "metadata": {
        "id": "fyPeBc3yhn4y"
      },
      "source": [
        "$\\alpha: 1$\n",
        "\n",
        "$h: 10$ iteraciones"
      ]
    },
    {
      "cell_type": "code",
      "execution_count": 43,
      "metadata": {
        "id": "1rzU1bVRfGaY"
      },
      "outputs": [],
      "source": [
        "def LBFGS():\n",
        "    modelLBFGS = nn.Sequential(nn.Linear(in_features=input_layer, out_features=layer1), nn.ReLU(), nn.Dropout(dropout),\n",
        "                       nn.Linear(in_features=layer1, out_features=layer2), nn.ReLU(), nn.Dropout(dropout),\n",
        "                       nn.Linear(in_features=layer2, out_features=10))\n",
        "\n",
        "    optimizer = torch.optim.LBFGS(modelLBFGS.parameters(),\n",
        "                                lr=1,\n",
        "                                history_size=10, #update history size. What's this?\n",
        "                                max_iter=1, #maximal number of iterations per optimization step\n",
        "                                )\n",
        "\n",
        "    lbfgs_cost_list = [0.0]\n",
        "    lbfgs_acc_list = [0.0]\n",
        "    modelLBFGS = modelLBFGS.to(device=device)\n",
        "    x_train_tensor_ = x_train_tensor.to(device=device, dtype=torch.float32)\n",
        "    y_train_tensor_ = y_train_tensor.to(device=device, dtype=torch.long)\n",
        "    i = 0\n",
        "    unregistered = True\n",
        "    iter_found = 0\n",
        "    iteraciones_lbfgs = 0\n",
        "    start.record()\n",
        "    #training\n",
        "    while (i < 100):\n",
        "        if(lbfgs_acc_list[-1] >= 0.95 and unregistered):\n",
        "          iter_found = i\n",
        "          unregistered = False\n",
        "        #print('Iteracion: '+ str(i))\n",
        "        def closure():\n",
        "            optimizer.zero_grad()\n",
        "            scores = modelLBFGS(x_train_tensor_)\n",
        "            cost = F.cross_entropy(input= scores, target=y_train_tensor_.squeeze())\n",
        "            cost.backward()\n",
        "            print(f'costo: {cost.item()}')\n",
        "            return cost\n",
        "        iteraciones_lbfgs += 1\n",
        "        cost = optimizer.step(closure)\n",
        "        lbfgs_cost_list.append(cost.item())\n",
        "        lbfgs_acc_list.append(accuracy(modelLBFGS, x_val_tensor, y_val_tensor, mb_size))\n",
        "        #print(f'accuracy: {lbfgs_acc_list[-1]}')\n",
        "        i+=1\n",
        "    end.record()\n",
        "\n",
        "    torch.cuda.synchronize()\n",
        "    lbfgs_time = start.elapsed_time(end)\n",
        "\n",
        "    lbfgs_acc = accuracy(modelLBFGS, x_test_tensor,  y_test_tensor, mb_size)\n",
        "\n",
        "    return lbfgs_acc_list, lbfgs_cost_list, [0] ,lbfgs_time, lbfgs_acc, iter_found, iteraciones_lbfgs"
      ]
    },
    {
      "cell_type": "code",
      "execution_count": 44,
      "metadata": {
        "colab": {
          "base_uri": "https://localhost:8080/"
        },
        "id": "sJSxQ5xeHu2U",
        "outputId": "f3c1c627-cdf5-48a4-c458-21af61d56227"
      },
      "outputs": [
        {
          "name": "stdout",
          "output_type": "stream",
          "text": [
            "costo: 2.3125641345977783\n",
            "costo: 2.308104991912842\n",
            "costo: 1.8466771841049194\n",
            "costo: 1.0660020112991333\n",
            "costo: 3.744480848312378\n",
            "costo: 0.7519420385360718\n",
            "costo: 0.6721241474151611\n",
            "costo: 0.6085529923439026\n",
            "costo: 0.5683836340904236\n",
            "costo: 0.5560379028320312\n",
            "costo: 0.5033344030380249\n",
            "costo: 0.5180458426475525\n",
            "costo: 0.45474839210510254\n",
            "costo: 0.438831090927124\n",
            "costo: 0.41303136944770813\n",
            "costo: 0.3893963396549225\n",
            "costo: 0.3649459779262543\n",
            "costo: 0.3389977216720581\n",
            "costo: 0.3227829933166504\n",
            "costo: 0.3085238039493561\n",
            "costo: 0.2966616749763489\n",
            "costo: 0.2892661690711975\n",
            "costo: 0.27106428146362305\n",
            "costo: 0.2617979943752289\n",
            "costo: 0.2525304853916168\n",
            "costo: 0.2439766228199005\n",
            "costo: 0.22754301130771637\n",
            "costo: 0.21866200864315033\n",
            "costo: 0.2102234810590744\n",
            "costo: 0.2054530680179596\n",
            "costo: 0.1966850459575653\n",
            "costo: 0.18710818886756897\n",
            "costo: 0.18886440992355347\n",
            "costo: 0.16968698799610138\n",
            "costo: 0.16602356731891632\n",
            "costo: 0.16000115871429443\n",
            "costo: 0.15354536473751068\n",
            "costo: 0.1465214341878891\n",
            "costo: 0.13934661448001862\n",
            "costo: 0.13507606089115143\n",
            "costo: 0.12948305904865265\n",
            "costo: 0.12682084739208221\n",
            "costo: 0.11972159147262573\n",
            "costo: 0.1163291409611702\n",
            "costo: 0.11313264816999435\n",
            "costo: 0.10773899406194687\n",
            "costo: 0.09973499923944473\n",
            "costo: 0.09300398081541061\n",
            "costo: 0.08906791359186172\n",
            "costo: 0.08194324374198914\n",
            "costo: 0.08012481778860092\n",
            "costo: 0.07672479748725891\n",
            "costo: 0.07368917018175125\n",
            "costo: 0.07105262577533722\n",
            "costo: 0.06707495450973511\n",
            "costo: 0.06535235047340393\n",
            "costo: 0.05928798019886017\n",
            "costo: 0.05700381472706795\n",
            "costo: 0.05406877398490906\n",
            "costo: 0.050553105771541595\n",
            "costo: 0.04662814363837242\n",
            "costo: 0.044123824685811996\n",
            "costo: 0.04148395359516144\n",
            "costo: 0.039446935057640076\n",
            "costo: 0.03696820139884949\n",
            "costo: 0.03412235528230667\n",
            "costo: 0.0324762687087059\n",
            "costo: 0.030126098543405533\n",
            "costo: 0.02918900176882744\n",
            "costo: 0.025636428967118263\n",
            "costo: 0.024841394275426865\n",
            "costo: 0.02327151596546173\n",
            "costo: 0.020920760929584503\n",
            "costo: 0.02068345993757248\n",
            "costo: 0.017242152243852615\n",
            "costo: 0.016650011762976646\n",
            "costo: 0.015107312239706516\n",
            "costo: 0.013442211784422398\n",
            "costo: 0.011622055433690548\n",
            "costo: 0.010570489801466465\n",
            "costo: 0.009386190213263035\n",
            "costo: 0.008490346372127533\n",
            "costo: 0.007452689111232758\n",
            "costo: 0.006165051832795143\n",
            "costo: 0.005212297197431326\n",
            "costo: 0.004433090798556805\n",
            "costo: 0.0036361408419907093\n",
            "costo: 0.0031141277868300676\n",
            "costo: 0.0025427297223359346\n",
            "costo: 0.0020468824077397585\n",
            "costo: 0.0017115183873102069\n",
            "costo: 0.001426194910891354\n",
            "costo: 0.0011805000249296427\n",
            "costo: 0.0011415688786655664\n",
            "costo: 0.00078193488297984\n",
            "costo: 0.0006977093289606273\n",
            "costo: 0.0005575954564847052\n",
            "costo: 0.00044080009683966637\n",
            "costo: 0.0003816680400632322\n",
            "costo: 0.0002789946738630533\n"
          ]
        }
      ],
      "source": [
        "resultados['lbfgs'] = {}\n",
        "resultados['lbfgs']['val_acc_list'] = [0] * epochs\n",
        "resultados['lbfgs']['test_acc'] = 0\n",
        "resultados['lbfgs']['cost'] = [0] * epochs\n",
        "resultados['lbfgs']['time'] = 0\n",
        "resultados['lbfgs']['epochs'] = 0\n",
        "\n",
        "for _ in range(MAX_ITERATIONS):\n",
        "    lbfgs_acc_list, lbfgs_cost_list, lbfgs_lr_list, lbfgs_time, lbfgs_acc, lbfgs_epochs, iteraciones_lbfgs = LBFGS()\n",
        "    resultados['lbfgs']['val_acc_list'] = SumList(resultados['lbfgs']['val_acc_list'], lbfgs_acc_list)\n",
        "    resultados['lbfgs']['test_acc'] += lbfgs_acc\n",
        "    resultados['lbfgs']['cost'] = SumList(resultados['lbfgs']['cost'], lbfgs_cost_list)\n",
        "    resultados['lbfgs']['time'] += lbfgs_time\n",
        "    resultados['lbfgs']['epochs'] += lbfgs_epochs\n",
        "\n",
        "#Saving results\n",
        "resultados['lbfgs']['name'] = 'LBFGS'\n",
        "resultados['lbfgs']['lr'] = lbfgs_lr_list\n",
        "resultados['lbfgs']['test_acc'] = resultados['lbfgs']['test_acc'] / MAX_ITERATIONS\n",
        "resultados['lbfgs']['val_acc_list'] = DeleteZerosFromList(DivideList(resultados['lbfgs']['val_acc_list'], MAX_ITERATIONS))\n",
        "resultados['lbfgs']['cost'] = DeleteZerosFromList(DivideList(resultados['lbfgs']['cost'], MAX_ITERATIONS))\n",
        "resultados['lbfgs']['time'] = resultados['lbfgs']['time'] / MAX_ITERATIONS\n",
        "resultados['lbfgs']['epochs'] = resultados['lbfgs']['epochs'] / MAX_ITERATIONS\n",
        "\n"
      ]
    },
    {
      "cell_type": "markdown",
      "metadata": {
        "id": "3jQLmr_cd9D8"
      },
      "source": [
        "## L-BFGS con búsqueda lineal"
      ]
    },
    {
      "cell_type": "markdown",
      "metadata": {
        "id": "ooM11ZyXh0-k"
      },
      "source": [
        "Posee la misma implementación del método L-BFGS con la diferencia de que se agregan *las condiciones fuertes de Wolfe*"
      ]
    },
    {
      "cell_type": "code",
      "execution_count": 45,
      "metadata": {
        "id": "MiXaFYWVfGaZ"
      },
      "outputs": [],
      "source": [
        "def LBFGS_LS():\n",
        "    modelLBFGS_LS = nn.Sequential(nn.Linear(in_features=input_layer, out_features=layer1), nn.ReLU(), nn.Dropout(dropout),\n",
        "                       nn.Linear(in_features=layer1, out_features=layer2), nn.ReLU(), nn.Dropout(dropout),\n",
        "                       nn.Linear(in_features=layer2, out_features=10))\n",
        "\n",
        "    optimizer = torch.optim.LBFGS(modelLBFGS_LS.parameters(),\n",
        "                                lr=1,\n",
        "                                history_size=10, #update history size. What's this?\n",
        "                                #max_eval (int) – maximal number of function evaluations per optimization step (default: max_iter * 1.25)\n",
        "                                #max_iter=1,\n",
        "                                line_search_fn=\"strong_wolfe\"\n",
        "                                )\n",
        "\n",
        "    lbfgs_ls_cost_list = [0.0]\n",
        "    lbfgs_ls_acc_list = [0.0]\n",
        "    modelLBFGS_LS = modelLBFGS_LS.to(device=device)\n",
        "    x_train_tensor_ = x_train_tensor.to(device=device, dtype=torch.float32)\n",
        "    y_train_tensor_ = y_train_tensor.to(device=device, dtype=torch.long)\n",
        "    i = 0\n",
        "    iter_found = 0\n",
        "    unregistered = True\n",
        "    iteraciones_lbfgs_ls = []\n",
        "    start.record()\n",
        "    #training\n",
        "    while (i < 100):\n",
        "        if(lbfgs_ls_acc_list[-1] >= 0.95 and unregistered):\n",
        "            iter_found = i\n",
        "            unregistered = False\n",
        "        print('Iteracion: '+ str(i))\n",
        "        def closure():\n",
        "            optimizer.zero_grad()\n",
        "            scores = modelLBFGS_LS(x_train_tensor_)\n",
        "            cost = F.cross_entropy(input= scores, target=y_train_tensor_.squeeze())\n",
        "            cost.backward()\n",
        "            print(f'costo: {cost.item()}')  \n",
        "            iteraciones_lbfgs_ls.append('0')\n",
        "            return cost\n",
        "        lbfgs_ls_cost_list.append(optimizer.step(closure).item())\n",
        "        lbfgs_ls_acc_list.append(accuracy(modelLBFGS_LS, x_val_tensor, y_val_tensor, mb_size))\n",
        "        i+=1\n",
        "            \n",
        "    #print(f'accuracy: {lbfgs_ls_acc_list[-1]}')\n",
        "    end.record()\n",
        "\n",
        "    torch.cuda.synchronize()\n",
        "    lbfgs_ls_time = start.elapsed_time(end)\n",
        "\n",
        "    lbfgs_ls_acc = accuracy(modelLBFGS_LS, x_test_tensor,  y_test_tensor, mb_size)\n",
        "\n",
        "    return lbfgs_ls_acc_list, lbfgs_ls_cost_list, [0] ,lbfgs_ls_time, lbfgs_ls_acc, iter_found, iteraciones_lbfgs_ls"
      ]
    },
    {
      "cell_type": "code",
      "execution_count": 46,
      "metadata": {
        "colab": {
          "base_uri": "https://localhost:8080/"
        },
        "id": "oofvD4gNeC4t",
        "outputId": "c515716a-81d4-4006-8d61-dfa22c1d21ff"
      },
      "outputs": [
        {
          "name": "stdout",
          "output_type": "stream",
          "text": [
            "Iteracion: 0\n",
            "costo: 2.315094470977783\n",
            "costo: 2.3142945766448975\n",
            "costo: 2.3086495399475098\n",
            "costo: 2.306964159011841\n",
            "costo: 2.2732362747192383\n",
            "costo: 2.0992209911346436\n",
            "costo: 1.7560850381851196\n",
            "costo: 0.9842032194137573\n",
            "costo: 0.81801837682724\n",
            "costo: 0.760770857334137\n",
            "costo: 0.7036475539207458\n",
            "costo: 0.6683034896850586\n",
            "costo: 0.616006076335907\n",
            "costo: 0.5713862776756287\n",
            "costo: 0.5439877510070801\n",
            "costo: 0.4828360676765442\n",
            "costo: 0.45026731491088867\n",
            "costo: 0.4268278181552887\n",
            "costo: 0.40564388036727905\n",
            "costo: 0.3783889710903168\n",
            "costo: 0.357707142829895\n",
            "costo: 0.33601370453834534\n",
            "costo: 0.3270319998264313\n",
            "costo: 0.31342920660972595\n",
            "costo: 0.29864606261253357\n",
            "Iteracion: 1\n",
            "costo: 0.2723102867603302\n",
            "costo: 0.25087690353393555\n",
            "costo: 0.23126178979873657\n",
            "costo: 0.22282885015010834\n",
            "costo: 0.21323566138744354\n",
            "costo: 0.2013949155807495\n",
            "costo: 0.18980693817138672\n",
            "costo: 0.1785387545824051\n",
            "costo: 0.16870750486850739\n",
            "costo: 0.1581067442893982\n",
            "costo: 0.14612257480621338\n",
            "costo: 0.13987958431243896\n",
            "costo: 0.13269050419330597\n",
            "costo: 0.12183783203363419\n",
            "costo: 0.11286687850952148\n",
            "costo: 0.10258576273918152\n",
            "costo: 0.09677743166685104\n",
            "costo: 0.09091710299253464\n",
            "costo: 0.08534319698810577\n",
            "costo: 0.08034706860780716\n",
            "costo: 0.0750206708908081\n",
            "Iteracion: 2\n",
            "costo: 0.0750206708908081\n",
            "costo: 0.0702807828783989\n",
            "costo: 0.06405787169933319\n",
            "costo: 0.05817195773124695\n",
            "costo: 0.0550319105386734\n",
            "costo: 0.0498361736536026\n",
            "costo: 0.04731975495815277\n",
            "costo: 0.043950241059064865\n",
            "costo: 0.04082047939300537\n",
            "costo: 0.03734057769179344\n",
            "costo: 0.03357828035950661\n",
            "costo: 0.03032742440700531\n",
            "costo: 0.02855042554438114\n",
            "costo: 0.025977155193686485\n",
            "costo: 0.022758161649107933\n",
            "costo: 0.0216548852622509\n",
            "costo: 0.017665769904851913\n",
            "costo: 0.01666308380663395\n",
            "costo: 0.014587391167879105\n",
            "costo: 0.013065711595118046\n",
            "costo: 0.011107885278761387\n",
            "Iteracion: 3\n",
            "costo: 0.011107885278761387\n",
            "costo: 0.01000595185905695\n",
            "costo: 0.008604192174971104\n",
            "costo: 0.007610549218952656\n",
            "costo: 0.005880385171622038\n",
            "costo: 0.005071429535746574\n",
            "costo: 0.004246920347213745\n",
            "costo: 0.003642703639343381\n",
            "costo: 0.0032337300945073366\n",
            "costo: 0.002300988184288144\n",
            "costo: 0.001953855389729142\n",
            "costo: 0.0013571061426773667\n",
            "costo: 0.0011636641575023532\n",
            "costo: 0.0008956919773481786\n",
            "costo: 0.0007354268454946578\n",
            "costo: 0.0005583189777098596\n",
            "costo: 0.0004689224006142467\n",
            "costo: 0.00036721467040479183\n",
            "costo: 0.0003154480073135346\n",
            "costo: 0.0002448151644784957\n",
            "costo: 0.00021325115812942386\n",
            "Iteracion: 4\n",
            "costo: 0.00021325115812942386\n",
            "costo: 0.00017391763685736805\n",
            "costo: 0.00012936496932525188\n",
            "costo: 0.0001669461198616773\n",
            "costo: 0.00010908721742453054\n",
            "costo: 7.24072233424522e-05\n",
            "costo: 5.343968950910494e-05\n",
            "costo: 3.503878178889863e-05\n",
            "costo: 2.6632089429767802e-05\n",
            "costo: 1.7565811504027806e-05\n",
            "costo: 1.4178582205204293e-05\n",
            "costo: 8.99501537787728e-06\n",
            "costo: 6.158334599604132e-06\n",
            "costo: 3.716735591297038e-06\n",
            "costo: 2.730075493673212e-06\n",
            "costo: 1.6924188912526006e-06\n",
            "costo: 9.728552186061279e-07\n",
            "costo: 6.782865398236027e-07\n",
            "costo: 4.202504726436018e-07\n",
            "costo: 2.7026112547900993e-07\n",
            "costo: 1.677831988899925e-07\n",
            "costo: 1.2569412888296938e-07\n",
            "Iteracion: 5\n",
            "costo: 1.2569412888296938e-07\n",
            "Iteracion: 6\n",
            "costo: 1.2569412888296938e-07\n",
            "Iteracion: 7\n",
            "costo: 1.2569412888296938e-07\n",
            "Iteracion: 8\n",
            "costo: 1.2569412888296938e-07\n",
            "Iteracion: 9\n",
            "costo: 1.2569412888296938e-07\n",
            "Iteracion: 10\n",
            "costo: 1.2569412888296938e-07\n",
            "Iteracion: 11\n",
            "costo: 1.2569412888296938e-07\n",
            "Iteracion: 12\n",
            "costo: 1.2569412888296938e-07\n",
            "Iteracion: 13\n",
            "costo: 1.2569412888296938e-07\n",
            "Iteracion: 14\n",
            "costo: 1.2569412888296938e-07\n",
            "Iteracion: 15\n",
            "costo: 1.2569412888296938e-07\n",
            "Iteracion: 16\n",
            "costo: 1.2569412888296938e-07\n",
            "Iteracion: 17\n",
            "costo: 1.2569412888296938e-07\n",
            "Iteracion: 18\n",
            "costo: 1.2569412888296938e-07\n",
            "Iteracion: 19\n",
            "costo: 1.2569412888296938e-07\n",
            "Iteracion: 20\n",
            "costo: 1.2569412888296938e-07\n",
            "Iteracion: 21\n",
            "costo: 1.2569412888296938e-07\n",
            "Iteracion: 22\n",
            "costo: 1.2569412888296938e-07\n",
            "Iteracion: 23\n",
            "costo: 1.2569412888296938e-07\n",
            "Iteracion: 24\n",
            "costo: 1.2569412888296938e-07\n",
            "Iteracion: 25\n",
            "costo: 1.2569412888296938e-07\n",
            "Iteracion: 26\n",
            "costo: 1.2569412888296938e-07\n",
            "Iteracion: 27\n",
            "costo: 1.2569412888296938e-07\n",
            "Iteracion: 28\n",
            "costo: 1.2569412888296938e-07\n",
            "Iteracion: 29\n",
            "costo: 1.2569412888296938e-07\n",
            "Iteracion: 30\n",
            "costo: 1.2569412888296938e-07\n",
            "Iteracion: 31\n",
            "costo: 1.2569412888296938e-07\n",
            "Iteracion: 32\n",
            "costo: 1.2569412888296938e-07\n",
            "Iteracion: 33\n",
            "costo: 1.2569412888296938e-07\n",
            "Iteracion: 34\n",
            "costo: 1.2569412888296938e-07\n",
            "Iteracion: 35\n",
            "costo: 1.2569412888296938e-07\n",
            "Iteracion: 36\n",
            "costo: 1.2569412888296938e-07\n",
            "Iteracion: 37\n",
            "costo: 1.2569412888296938e-07\n",
            "Iteracion: 38\n",
            "costo: 1.2569412888296938e-07\n",
            "Iteracion: 39\n",
            "costo: 1.2569412888296938e-07\n",
            "Iteracion: 40\n",
            "costo: 1.2569412888296938e-07\n",
            "Iteracion: 41\n",
            "costo: 1.2569412888296938e-07\n",
            "Iteracion: 42\n",
            "costo: 1.2569412888296938e-07\n",
            "Iteracion: 43\n",
            "costo: 1.2569412888296938e-07\n",
            "Iteracion: 44\n",
            "costo: 1.2569412888296938e-07\n",
            "Iteracion: 45\n",
            "costo: 1.2569412888296938e-07\n",
            "Iteracion: 46\n",
            "costo: 1.2569412888296938e-07\n",
            "Iteracion: 47\n",
            "costo: 1.2569412888296938e-07\n",
            "Iteracion: 48\n",
            "costo: 1.2569412888296938e-07\n",
            "Iteracion: 49\n",
            "costo: 1.2569412888296938e-07\n",
            "Iteracion: 50\n",
            "costo: 1.2569412888296938e-07\n",
            "Iteracion: 51\n",
            "costo: 1.2569412888296938e-07\n",
            "Iteracion: 52\n",
            "costo: 1.2569412888296938e-07\n",
            "Iteracion: 53\n",
            "costo: 1.2569412888296938e-07\n",
            "Iteracion: 54\n",
            "costo: 1.2569412888296938e-07\n",
            "Iteracion: 55\n",
            "costo: 1.2569412888296938e-07\n",
            "Iteracion: 56\n",
            "costo: 1.2569412888296938e-07\n",
            "Iteracion: 57\n",
            "costo: 1.2569412888296938e-07\n",
            "Iteracion: 58\n",
            "costo: 1.2569412888296938e-07\n",
            "Iteracion: 59\n",
            "costo: 1.2569412888296938e-07\n",
            "Iteracion: 60\n",
            "costo: 1.2569412888296938e-07\n",
            "Iteracion: 61\n",
            "costo: 1.2569412888296938e-07\n",
            "Iteracion: 62\n",
            "costo: 1.2569412888296938e-07\n",
            "Iteracion: 63\n",
            "costo: 1.2569412888296938e-07\n",
            "Iteracion: 64\n",
            "costo: 1.2569412888296938e-07\n",
            "Iteracion: 65\n",
            "costo: 1.2569412888296938e-07\n",
            "Iteracion: 66\n",
            "costo: 1.2569412888296938e-07\n",
            "Iteracion: 67\n",
            "costo: 1.2569412888296938e-07\n",
            "Iteracion: 68\n",
            "costo: 1.2569412888296938e-07\n",
            "Iteracion: 69\n",
            "costo: 1.2569412888296938e-07\n",
            "Iteracion: 70\n",
            "costo: 1.2569412888296938e-07\n",
            "Iteracion: 71\n",
            "costo: 1.2569412888296938e-07\n",
            "Iteracion: 72\n",
            "costo: 1.2569412888296938e-07\n",
            "Iteracion: 73\n",
            "costo: 1.2569412888296938e-07\n",
            "Iteracion: 74\n",
            "costo: 1.2569412888296938e-07\n",
            "Iteracion: 75\n",
            "costo: 1.2569412888296938e-07\n",
            "Iteracion: 76\n",
            "costo: 1.2569412888296938e-07\n",
            "Iteracion: 77\n",
            "costo: 1.2569412888296938e-07\n",
            "Iteracion: 78\n",
            "costo: 1.2569412888296938e-07\n",
            "Iteracion: 79\n",
            "costo: 1.2569412888296938e-07\n",
            "Iteracion: 80\n",
            "costo: 1.2569412888296938e-07\n",
            "Iteracion: 81\n",
            "costo: 1.2569412888296938e-07\n",
            "Iteracion: 82\n",
            "costo: 1.2569412888296938e-07\n",
            "Iteracion: 83\n",
            "costo: 1.2569412888296938e-07\n",
            "Iteracion: 84\n",
            "costo: 1.2569412888296938e-07\n",
            "Iteracion: 85\n",
            "costo: 1.2569412888296938e-07\n",
            "Iteracion: 86\n",
            "costo: 1.2569412888296938e-07\n",
            "Iteracion: 87\n",
            "costo: 1.2569412888296938e-07\n",
            "Iteracion: 88\n",
            "costo: 1.2569412888296938e-07\n",
            "Iteracion: 89\n",
            "costo: 1.2569412888296938e-07\n",
            "Iteracion: 90\n",
            "costo: 1.2569412888296938e-07\n",
            "Iteracion: 91\n",
            "costo: 1.2569412888296938e-07\n",
            "Iteracion: 92\n",
            "costo: 1.2569412888296938e-07\n",
            "Iteracion: 93\n",
            "costo: 1.2569412888296938e-07\n",
            "Iteracion: 94\n",
            "costo: 1.2569412888296938e-07\n",
            "Iteracion: 95\n",
            "costo: 1.2569412888296938e-07\n",
            "Iteracion: 96\n",
            "costo: 1.2569412888296938e-07\n",
            "Iteracion: 97\n",
            "costo: 1.2569412888296938e-07\n",
            "Iteracion: 98\n",
            "costo: 1.2569412888296938e-07\n",
            "Iteracion: 99\n",
            "costo: 1.2569412888296938e-07\n"
          ]
        }
      ],
      "source": [
        "resultados['lbfgs_ls'] = {}\n",
        "resultados['lbfgs_ls']['val_acc_list'] = [0] * epochs\n",
        "resultados['lbfgs_ls']['test_acc'] = 0\n",
        "resultados['lbfgs_ls']['cost'] = [0] * epochs\n",
        "resultados['lbfgs_ls']['time'] = 0\n",
        "resultados['lbfgs_ls']['epochs'] = 0\n",
        "\n",
        "for _ in range(MAX_ITERATIONS):\n",
        "    lbfgs_ls_acc_list, lbfgs_ls_cost_list, lbfgs_ls_lr_list ,lbfgs_ls_time, lbfgs_ls_acc, lbfgs_ls_epochs, iteraciones_lbfgs_ls = LBFGS_LS()\n",
        "    resultados['lbfgs_ls']['val_acc_list'] = SumList(resultados['lbfgs_ls']['val_acc_list'], lbfgs_ls_acc_list)\n",
        "    resultados['lbfgs_ls']['test_acc'] += lbfgs_ls_acc\n",
        "    resultados['lbfgs_ls']['cost'] = SumList(resultados['lbfgs_ls']['cost'], lbfgs_ls_cost_list)\n",
        "    resultados['lbfgs_ls']['time'] += lbfgs_ls_time\n",
        "    resultados['lbfgs_ls']['epochs'] += lbfgs_ls_epochs\n",
        "\n",
        "#Saving results\n",
        "resultados['lbfgs_ls']['name'] = 'LBFGS With LS'\n",
        "resultados['lbfgs_ls']['lr'] = lbfgs_ls_lr_list\n",
        "resultados['lbfgs_ls']['test_acc'] = resultados['lbfgs_ls']['test_acc'] / MAX_ITERATIONS\n",
        "resultados['lbfgs_ls']['val_acc_list'] = DeleteZerosFromList(DivideList(resultados['lbfgs_ls']['val_acc_list'], MAX_ITERATIONS))\n",
        "resultados['lbfgs_ls']['cost'] = DeleteZerosFromList(DivideList(resultados['lbfgs_ls']['cost'], MAX_ITERATIONS))\n",
        "resultados['lbfgs_ls']['time'] = resultados['lbfgs_ls']['time'] / MAX_ITERATIONS\n",
        "resultados['lbfgs_ls']['epochs'] = resultados['lbfgs_ls']['epochs'] / MAX_ITERATIONS"
      ]
    },
    {
      "cell_type": "markdown",
      "metadata": {
        "id": "HhXFwQqymLvv"
      },
      "source": [
        "## Adam"
      ]
    },
    {
      "cell_type": "markdown",
      "metadata": {
        "id": "SSLpyoyDiIj1"
      },
      "source": [
        "$\\alpha: 1x10^{-2}$ \n",
        "\n",
        "$beta1: 0.9$\n",
        "\n",
        "$beta2: 0.999$"
      ]
    },
    {
      "cell_type": "code",
      "execution_count": 47,
      "metadata": {
        "id": "8Z9uCM6afGaa"
      },
      "outputs": [],
      "source": [
        "def Adam():\n",
        "    modelAdam = nn.Sequential(nn.Linear(in_features=input_layer, out_features=layer1), nn.ReLU(), nn.Dropout(dropout),\n",
        "                        nn.Linear(in_features=layer1, out_features=layer2), nn.ReLU(), nn.Dropout(dropout),\n",
        "                        nn.Linear(in_features=layer2, out_features=10))\n",
        "    optimiserAdam = torch.optim.Adam(modelAdam.parameters(), lr=lr, betas=(0.9, 0.999))\n",
        "    start.record()\n",
        "    adam_acc_list, adam_cost_list,adam_lr_list, adam_epochs = train(modelAdam,optimiserAdam,None, mb_size)\n",
        "    end.record()\n",
        "\n",
        "\n",
        "    torch.cuda.synchronize()\n",
        "    adam_time = start.elapsed_time(end)\n",
        "\n",
        "    adam_acc = accuracy(modelAdam, x_test_tensor,  y_test_tensor, mb_size)\n",
        "\n",
        "    return adam_acc_list, adam_cost_list, adam_lr_list, adam_time, adam_acc, adam_epochs"
      ]
    },
    {
      "cell_type": "code",
      "execution_count": 48,
      "metadata": {
        "colab": {
          "base_uri": "https://localhost:8080/"
        },
        "id": "kZeKlCWWmNpH",
        "outputId": "d1a8f640-61a9-4af7-a708-6a2367ad1b69"
      },
      "outputs": [
        {
          "name": "stdout",
          "output_type": "stream",
          "text": [
            "Epoch: 1, learning_rate:0.01,costo: 0.2813132107257843, accuracy: 0.951171875\n",
            "Epoch: 2, learning_rate:0.01,costo: 0.22374235093593597, accuracy: 0.9453125\n",
            "Epoch: 3, learning_rate:0.01,costo: 0.1770196557044983, accuracy: 0.966796875\n",
            "Epoch: 4, learning_rate:0.01,costo: 0.17176543176174164, accuracy: 0.9609375\n",
            "Epoch: 5, learning_rate:0.01,costo: 0.22439424693584442, accuracy: 0.982421875\n",
            "Epoch: 6, learning_rate:0.01,costo: 0.1534890979528427, accuracy: 0.96875\n",
            "Epoch: 7, learning_rate:0.01,costo: 0.14295431971549988, accuracy: 0.974609375\n",
            "Epoch: 8, learning_rate:0.01,costo: 0.2406187355518341, accuracy: 0.96875\n",
            "Epoch: 9, learning_rate:0.01,costo: 0.19941629469394684, accuracy: 0.98046875\n",
            "Epoch: 10, learning_rate:0.01,costo: 0.1262608766555786, accuracy: 0.96484375\n",
            "Epoch: 11, learning_rate:0.01,costo: 0.15227442979812622, accuracy: 0.970703125\n",
            "Epoch: 12, learning_rate:0.01,costo: 0.15213622152805328, accuracy: 0.978515625\n",
            "Epoch: 13, learning_rate:0.01,costo: 0.19466620683670044, accuracy: 0.96875\n",
            "Epoch: 14, learning_rate:0.01,costo: 0.17024967074394226, accuracy: 0.9765625\n",
            "Epoch: 15, learning_rate:0.01,costo: 0.19709448516368866, accuracy: 0.978515625\n",
            "Epoch: 16, learning_rate:0.01,costo: 0.26787129044532776, accuracy: 0.97265625\n",
            "Epoch: 17, learning_rate:0.01,costo: 0.22393181920051575, accuracy: 0.96875\n",
            "Epoch: 18, learning_rate:0.01,costo: 0.17541086673736572, accuracy: 0.962890625\n",
            "Epoch: 19, learning_rate:0.01,costo: 0.19367586076259613, accuracy: 0.96875\n",
            "Epoch: 20, learning_rate:0.01,costo: 0.17912054061889648, accuracy: 0.970703125\n",
            "Epoch: 21, learning_rate:0.01,costo: 0.29307353496551514, accuracy: 0.962890625\n",
            "Epoch: 22, learning_rate:0.01,costo: 0.2011774629354477, accuracy: 0.97265625\n",
            "Epoch: 23, learning_rate:0.01,costo: 0.16538387537002563, accuracy: 0.9609375\n",
            "Epoch: 24, learning_rate:0.01,costo: 0.2949605882167816, accuracy: 0.9609375\n",
            "Epoch: 25, learning_rate:0.01,costo: 0.07604112476110458, accuracy: 0.955078125\n",
            "Epoch: 26, learning_rate:0.01,costo: 0.18879611790180206, accuracy: 0.96875\n",
            "Epoch: 27, learning_rate:0.01,costo: 0.19337116181850433, accuracy: 0.95703125\n",
            "Epoch: 28, learning_rate:0.01,costo: 0.18423661589622498, accuracy: 0.958984375\n",
            "Epoch: 29, learning_rate:0.01,costo: 0.2636822462081909, accuracy: 0.9609375\n",
            "Epoch: 30, learning_rate:0.01,costo: 0.13284707069396973, accuracy: 0.98046875\n",
            "Epoch: 31, learning_rate:0.01,costo: 0.1179286390542984, accuracy: 0.958984375\n",
            "Epoch: 32, learning_rate:0.01,costo: 0.13704685866832733, accuracy: 0.96875\n",
            "Epoch: 33, learning_rate:0.01,costo: 0.16447624564170837, accuracy: 0.9765625\n",
            "Epoch: 34, learning_rate:0.01,costo: 0.1566178798675537, accuracy: 0.978515625\n",
            "Epoch: 35, learning_rate:0.01,costo: 0.1438535749912262, accuracy: 0.982421875\n",
            "Epoch: 36, learning_rate:0.01,costo: 0.13924552500247955, accuracy: 0.98046875\n",
            "Epoch: 37, learning_rate:0.01,costo: 0.18581634759902954, accuracy: 0.9609375\n",
            "Epoch: 38, learning_rate:0.01,costo: 0.15273550152778625, accuracy: 0.970703125\n",
            "Epoch: 39, learning_rate:0.01,costo: 0.15970425307750702, accuracy: 0.974609375\n",
            "Epoch: 40, learning_rate:0.01,costo: 0.2567765414714813, accuracy: 0.978515625\n",
            "Epoch: 41, learning_rate:0.01,costo: 0.17708180844783783, accuracy: 0.9765625\n",
            "Epoch: 42, learning_rate:0.01,costo: 0.19560354948043823, accuracy: 0.962890625\n",
            "Epoch: 43, learning_rate:0.01,costo: 0.3317130208015442, accuracy: 0.96484375\n",
            "Epoch: 44, learning_rate:0.01,costo: 0.0742618516087532, accuracy: 0.966796875\n",
            "Epoch: 45, learning_rate:0.01,costo: 0.18873782455921173, accuracy: 0.96875\n",
            "Epoch: 46, learning_rate:0.01,costo: 0.23088793456554413, accuracy: 0.9609375\n",
            "Epoch: 47, learning_rate:0.01,costo: 0.14785102009773254, accuracy: 0.97265625\n",
            "Epoch: 48, learning_rate:0.01,costo: 0.18567907810211182, accuracy: 0.96875\n",
            "Epoch: 49, learning_rate:0.01,costo: 0.13253776729106903, accuracy: 0.97265625\n",
            "Epoch: 50, learning_rate:0.01,costo: 0.18798650801181793, accuracy: 0.953125\n",
            "Epoch: 51, learning_rate:0.01,costo: 0.09774388372898102, accuracy: 0.97265625\n",
            "Epoch: 52, learning_rate:0.01,costo: 0.17410427331924438, accuracy: 0.97265625\n",
            "Epoch: 53, learning_rate:0.01,costo: 0.31067946553230286, accuracy: 0.96484375\n",
            "Epoch: 54, learning_rate:0.01,costo: 0.23046450316905975, accuracy: 0.974609375\n",
            "Epoch: 55, learning_rate:0.01,costo: 0.16493843495845795, accuracy: 0.96484375\n",
            "Epoch: 56, learning_rate:0.01,costo: 0.06901521235704422, accuracy: 0.966796875\n",
            "Epoch: 57, learning_rate:0.01,costo: 0.10019996017217636, accuracy: 0.962890625\n",
            "Epoch: 58, learning_rate:0.01,costo: 0.12225700914859772, accuracy: 0.966796875\n",
            "Epoch: 59, learning_rate:0.01,costo: 0.31582340598106384, accuracy: 0.95703125\n",
            "Epoch: 60, learning_rate:0.01,costo: 0.12517352402210236, accuracy: 0.9609375\n",
            "Epoch: 61, learning_rate:0.01,costo: 0.14733566343784332, accuracy: 0.966796875\n",
            "Epoch: 62, learning_rate:0.01,costo: 0.12969529628753662, accuracy: 0.978515625\n",
            "Epoch: 63, learning_rate:0.01,costo: 0.1298961639404297, accuracy: 0.974609375\n",
            "Epoch: 64, learning_rate:0.01,costo: 0.11621604859828949, accuracy: 0.96484375\n",
            "Epoch: 65, learning_rate:0.01,costo: 0.1855524778366089, accuracy: 0.96875\n",
            "Epoch: 66, learning_rate:0.01,costo: 0.1685870736837387, accuracy: 0.95703125\n",
            "Epoch: 67, learning_rate:0.01,costo: 0.19323265552520752, accuracy: 0.9765625\n",
            "Epoch: 68, learning_rate:0.01,costo: 0.16258357465267181, accuracy: 0.95703125\n",
            "Epoch: 69, learning_rate:0.01,costo: 0.20173706114292145, accuracy: 0.966796875\n",
            "Epoch: 70, learning_rate:0.01,costo: 0.09310152381658554, accuracy: 0.9609375\n",
            "Epoch: 71, learning_rate:0.01,costo: 0.16788887977600098, accuracy: 0.958984375\n",
            "Epoch: 72, learning_rate:0.01,costo: 0.14470238983631134, accuracy: 0.962890625\n",
            "Epoch: 73, learning_rate:0.01,costo: 0.14117814600467682, accuracy: 0.95703125\n",
            "Epoch: 74, learning_rate:0.01,costo: 0.17700302600860596, accuracy: 0.962890625\n",
            "Epoch: 75, learning_rate:0.01,costo: 0.3059486746788025, accuracy: 0.97265625\n",
            "Epoch: 76, learning_rate:0.01,costo: 0.08995873481035233, accuracy: 0.970703125\n",
            "Epoch: 77, learning_rate:0.01,costo: 0.21496161818504333, accuracy: 0.96484375\n",
            "Epoch: 78, learning_rate:0.01,costo: 0.16671225428581238, accuracy: 0.96875\n",
            "Epoch: 79, learning_rate:0.01,costo: 0.08729247003793716, accuracy: 0.958984375\n",
            "Epoch: 80, learning_rate:0.01,costo: 0.12700393795967102, accuracy: 0.962890625\n",
            "Epoch: 81, learning_rate:0.01,costo: 0.18477900326251984, accuracy: 0.98046875\n",
            "Epoch: 82, learning_rate:0.01,costo: 0.12320954352617264, accuracy: 0.96484375\n",
            "Epoch: 83, learning_rate:0.01,costo: 0.13959671556949615, accuracy: 0.96875\n",
            "Epoch: 84, learning_rate:0.01,costo: 0.17444764077663422, accuracy: 0.9765625\n",
            "Epoch: 85, learning_rate:0.01,costo: 0.1789008229970932, accuracy: 0.953125\n",
            "Epoch: 86, learning_rate:0.01,costo: 0.1684870719909668, accuracy: 0.94921875\n",
            "Epoch: 87, learning_rate:0.01,costo: 0.13059966266155243, accuracy: 0.970703125\n",
            "Epoch: 88, learning_rate:0.01,costo: 0.15314938127994537, accuracy: 0.970703125\n",
            "Epoch: 89, learning_rate:0.01,costo: 0.1650608330965042, accuracy: 0.97265625\n",
            "Epoch: 90, learning_rate:0.01,costo: 0.18686258792877197, accuracy: 0.962890625\n",
            "Epoch: 91, learning_rate:0.01,costo: 0.19548609852790833, accuracy: 0.95703125\n",
            "Epoch: 92, learning_rate:0.01,costo: 0.18051579594612122, accuracy: 0.966796875\n",
            "Epoch: 93, learning_rate:0.01,costo: 0.1453217715024948, accuracy: 0.970703125\n",
            "Epoch: 94, learning_rate:0.01,costo: 0.1790691763162613, accuracy: 0.974609375\n",
            "Epoch: 95, learning_rate:0.01,costo: 0.12208819389343262, accuracy: 0.966796875\n",
            "Epoch: 96, learning_rate:0.01,costo: 0.10662997514009476, accuracy: 0.966796875\n",
            "Epoch: 97, learning_rate:0.01,costo: 0.09205058217048645, accuracy: 0.974609375\n",
            "Epoch: 98, learning_rate:0.01,costo: 0.10301252454519272, accuracy: 0.9609375\n",
            "Epoch: 99, learning_rate:0.01,costo: 0.09235824644565582, accuracy: 0.958984375\n",
            "Epoch: 100, learning_rate:0.01,costo: 0.09292231500148773, accuracy: 0.984375\n"
          ]
        }
      ],
      "source": [
        "\n",
        "resultados['adam'] = {}\n",
        "resultados['adam']['val_acc_list'] = [0] * epochs\n",
        "resultados['adam']['test_acc'] = 0\n",
        "resultados['adam']['cost'] = [0] * epochs\n",
        "resultados['adam']['time'] = 0\n",
        "resultados['adam']['epochs'] = 0\n",
        "\n",
        "for _ in range(MAX_ITERATIONS):\n",
        "    adam_acc_list, adam_cost_list, adam_lr_list, adam_time, adam_acc, adam_epochs = Adam()\n",
        "    resultados['adam']['val_acc_list'] = SumList(resultados['adam']['val_acc_list'], adam_acc_list)\n",
        "    resultados['adam']['test_acc'] += adam_acc\n",
        "    resultados['adam']['cost'] = SumList(resultados['adam']['cost'], adam_cost_list)\n",
        "    resultados['adam']['time'] += adam_time\n",
        "    resultados['adam']['epochs'] += adam_epochs\n",
        "\n",
        "#Saving results\n",
        "resultados['adam']['name'] = 'Adam'\n",
        "resultados['adam']['lr'] = adam_lr_list\n",
        "resultados['adam']['test_acc'] = resultados['adam']['test_acc'] / MAX_ITERATIONS\n",
        "resultados['adam']['val_acc_list'] = DeleteZerosFromList(DivideList(resultados['adam']['val_acc_list'], MAX_ITERATIONS))\n",
        "resultados['adam']['cost'] = DeleteZerosFromList(DivideList(resultados['adam']['cost'], MAX_ITERATIONS))\n",
        "resultados['adam']['time'] = resultados['adam']['time'] / MAX_ITERATIONS\n",
        "resultados['adam']['epochs'] = resultados['adam']['epochs'] / MAX_ITERATIONS"
      ]
    },
    {
      "cell_type": "markdown",
      "metadata": {
        "id": "OzehV-6emhDY"
      },
      "source": [
        "## Momentum"
      ]
    },
    {
      "cell_type": "markdown",
      "metadata": {
        "id": "KtAUfdA2iA3z"
      },
      "source": [
        "Se utiliza una optimización por el descenso del gradiente estocástico empleando Momentum.\n",
        "\n",
        "$beta: 0.9$"
      ]
    },
    {
      "cell_type": "code",
      "execution_count": 49,
      "metadata": {
        "id": "_WhsNUpTfGab"
      },
      "outputs": [],
      "source": [
        "def SGDM():\n",
        "    modelSGDM = nn.Sequential(nn.Linear(in_features=input_layer, out_features=layer1), nn.ReLU(), nn.Dropout(dropout),\n",
        "                       nn.Linear(in_features=layer1, out_features=layer2), nn.ReLU(), nn.Dropout(dropout),\n",
        "                       nn.Linear(in_features=layer2, out_features=10))\n",
        "    optimiserSGDM = torch.optim.SGD(modelSGDM.parameters(), lr=lr, momentum=0.9)\n",
        "    start.record()\n",
        "    SGDM_acc_list, SGDM_cost_list,SGDM_lr_list, SGDM_epochs = train(modelSGDM, optimiserSGDM,None, mb_size)\n",
        "    end.record()\n",
        "\n",
        "    torch.cuda.synchronize()\n",
        "    SGDM_time = start.elapsed_time(end)\n",
        "\n",
        "    SGDM_acc = accuracy(modelSGDM, x_test_tensor,  y_test_tensor, mb_size)\n",
        "\n",
        "    return SGDM_acc_list, SGDM_cost_list, SGDM_lr_list, SGDM_time, SGDM_acc, SGDM_epochs"
      ]
    },
    {
      "cell_type": "code",
      "execution_count": 50,
      "metadata": {
        "colab": {
          "base_uri": "https://localhost:8080/"
        },
        "id": "U4bdgJL-mkx3",
        "outputId": "420e40e3-3515-4e37-88e7-da391ff7251b"
      },
      "outputs": [
        {
          "name": "stdout",
          "output_type": "stream",
          "text": [
            "Epoch: 1, learning_rate:0.01,costo: 0.3096346855163574, accuracy: 0.900390625\n",
            "Epoch: 2, learning_rate:0.01,costo: 0.27189308404922485, accuracy: 0.919921875\n",
            "Epoch: 3, learning_rate:0.01,costo: 0.3507193922996521, accuracy: 0.9453125\n",
            "Epoch: 4, learning_rate:0.01,costo: 0.17101885378360748, accuracy: 0.947265625\n",
            "Epoch: 5, learning_rate:0.01,costo: 0.1965027153491974, accuracy: 0.943359375\n",
            "Epoch: 6, learning_rate:0.01,costo: 0.1503092646598816, accuracy: 0.955078125\n",
            "Epoch: 7, learning_rate:0.01,costo: 0.19050705432891846, accuracy: 0.953125\n",
            "Epoch: 8, learning_rate:0.01,costo: 0.11288569122552872, accuracy: 0.96484375\n",
            "Epoch: 9, learning_rate:0.01,costo: 0.11339012533426285, accuracy: 0.97265625\n",
            "Epoch: 10, learning_rate:0.01,costo: 0.11180470138788223, accuracy: 0.974609375\n",
            "Epoch: 11, learning_rate:0.01,costo: 0.09608298540115356, accuracy: 0.9609375\n",
            "Epoch: 12, learning_rate:0.01,costo: 0.11981628090143204, accuracy: 0.974609375\n",
            "Epoch: 13, learning_rate:0.01,costo: 0.07700568437576294, accuracy: 0.96875\n",
            "Epoch: 14, learning_rate:0.01,costo: 0.06364975869655609, accuracy: 0.98046875\n",
            "Epoch: 15, learning_rate:0.01,costo: 0.058772940188646317, accuracy: 0.98046875\n",
            "Epoch: 16, learning_rate:0.01,costo: 0.04387214407324791, accuracy: 0.986328125\n",
            "Epoch: 17, learning_rate:0.01,costo: 0.06292452663183212, accuracy: 0.96484375\n",
            "Epoch: 18, learning_rate:0.01,costo: 0.05770045146346092, accuracy: 0.974609375\n",
            "Epoch: 19, learning_rate:0.01,costo: 0.06260346621274948, accuracy: 0.98046875\n",
            "Epoch: 20, learning_rate:0.01,costo: 0.049487583339214325, accuracy: 0.984375\n",
            "Epoch: 21, learning_rate:0.01,costo: 0.0370892696082592, accuracy: 0.98828125\n",
            "Epoch: 22, learning_rate:0.01,costo: 0.035382192581892014, accuracy: 0.982421875\n",
            "Epoch: 23, learning_rate:0.01,costo: 0.05209774151444435, accuracy: 0.978515625\n",
            "Epoch: 24, learning_rate:0.01,costo: 0.07382407039403915, accuracy: 0.982421875\n",
            "Epoch: 25, learning_rate:0.01,costo: 0.045280590653419495, accuracy: 0.98046875\n",
            "Epoch: 26, learning_rate:0.01,costo: 0.0506136417388916, accuracy: 0.98828125\n",
            "Epoch: 27, learning_rate:0.01,costo: 0.039988428354263306, accuracy: 0.990234375\n",
            "Epoch: 28, learning_rate:0.01,costo: 0.020996298640966415, accuracy: 0.978515625\n",
            "Epoch: 29, learning_rate:0.01,costo: 0.048942144960165024, accuracy: 0.982421875\n",
            "Epoch: 30, learning_rate:0.01,costo: 0.014919177629053593, accuracy: 0.982421875\n",
            "Epoch: 31, learning_rate:0.01,costo: 0.01943146251142025, accuracy: 0.974609375\n",
            "Epoch: 32, learning_rate:0.01,costo: 0.021246405318379402, accuracy: 0.978515625\n",
            "Epoch: 33, learning_rate:0.01,costo: 0.01049640029668808, accuracy: 0.982421875\n",
            "Epoch: 34, learning_rate:0.01,costo: 0.02545962668955326, accuracy: 0.994140625\n",
            "Epoch: 35, learning_rate:0.01,costo: 0.028245432302355766, accuracy: 0.98828125\n",
            "Epoch: 36, learning_rate:0.01,costo: 0.026384921744465828, accuracy: 0.982421875\n",
            "Epoch: 37, learning_rate:0.01,costo: 0.02159581519663334, accuracy: 0.98828125\n",
            "Epoch: 38, learning_rate:0.01,costo: 0.021747414022684097, accuracy: 0.984375\n",
            "Epoch: 39, learning_rate:0.01,costo: 0.022035785019397736, accuracy: 0.984375\n",
            "Epoch: 40, learning_rate:0.01,costo: 0.021583208814263344, accuracy: 0.984375\n",
            "Epoch: 41, learning_rate:0.01,costo: 0.011809127405285835, accuracy: 0.9765625\n",
            "Epoch: 42, learning_rate:0.01,costo: 0.02326960489153862, accuracy: 0.984375\n",
            "Epoch: 43, learning_rate:0.01,costo: 0.016425909474492073, accuracy: 0.984375\n",
            "Epoch: 44, learning_rate:0.01,costo: 0.02099323458969593, accuracy: 0.984375\n",
            "Epoch: 45, learning_rate:0.01,costo: 0.010474419221282005, accuracy: 0.98046875\n",
            "Epoch: 46, learning_rate:0.01,costo: 0.017105771228671074, accuracy: 0.970703125\n",
            "Epoch: 47, learning_rate:0.01,costo: 0.009335159324109554, accuracy: 0.97265625\n",
            "Epoch: 48, learning_rate:0.01,costo: 0.01977093145251274, accuracy: 0.9921875\n",
            "Epoch: 49, learning_rate:0.01,costo: 0.0118947122246027, accuracy: 0.984375\n",
            "Epoch: 50, learning_rate:0.01,costo: 0.01030517928302288, accuracy: 0.984375\n",
            "Epoch: 51, learning_rate:0.01,costo: 0.0034986042883247137, accuracy: 0.986328125\n",
            "Epoch: 52, learning_rate:0.01,costo: 0.00818068627268076, accuracy: 0.982421875\n",
            "Epoch: 53, learning_rate:0.01,costo: 0.012572730891406536, accuracy: 0.978515625\n",
            "Epoch: 54, learning_rate:0.01,costo: 0.007063130382448435, accuracy: 0.990234375\n",
            "Epoch: 55, learning_rate:0.01,costo: 0.0099863950163126, accuracy: 0.98046875\n",
            "Epoch: 56, learning_rate:0.01,costo: 0.005252579692751169, accuracy: 0.984375\n",
            "Epoch: 57, learning_rate:0.01,costo: 0.009432279504835606, accuracy: 0.978515625\n",
            "Epoch: 58, learning_rate:0.01,costo: 0.008218123577535152, accuracy: 0.97265625\n",
            "Epoch: 59, learning_rate:0.01,costo: 0.0055033671669662, accuracy: 0.990234375\n",
            "Epoch: 60, learning_rate:0.01,costo: 0.014944740571081638, accuracy: 0.986328125\n",
            "Epoch: 61, learning_rate:0.01,costo: 0.004738000687211752, accuracy: 0.98046875\n",
            "Epoch: 62, learning_rate:0.01,costo: 0.006166891194880009, accuracy: 0.98828125\n",
            "Epoch: 63, learning_rate:0.01,costo: 0.003034752095118165, accuracy: 0.984375\n",
            "Epoch: 64, learning_rate:0.01,costo: 0.004952474497258663, accuracy: 0.9921875\n",
            "Epoch: 65, learning_rate:0.01,costo: 0.0036214813590049744, accuracy: 0.978515625\n",
            "Epoch: 66, learning_rate:0.01,costo: 0.008705426938831806, accuracy: 0.984375\n",
            "Epoch: 67, learning_rate:0.01,costo: 0.01641741953790188, accuracy: 0.98046875\n",
            "Epoch: 68, learning_rate:0.01,costo: 0.00522974506020546, accuracy: 0.984375\n",
            "Epoch: 69, learning_rate:0.01,costo: 0.011573160998523235, accuracy: 0.9921875\n",
            "Epoch: 70, learning_rate:0.01,costo: 0.0037146699614822865, accuracy: 0.978515625\n",
            "Epoch: 71, learning_rate:0.01,costo: 0.00799790769815445, accuracy: 0.98828125\n",
            "Epoch: 72, learning_rate:0.01,costo: 0.009371944703161716, accuracy: 0.986328125\n",
            "Epoch: 73, learning_rate:0.01,costo: 0.0029824937228113413, accuracy: 0.984375\n",
            "Epoch: 74, learning_rate:0.01,costo: 0.005320840515196323, accuracy: 0.98828125\n",
            "Epoch: 75, learning_rate:0.01,costo: 0.009306607767939568, accuracy: 0.982421875\n",
            "Epoch: 76, learning_rate:0.01,costo: 0.0035502403043210506, accuracy: 0.9921875\n",
            "Epoch: 77, learning_rate:0.01,costo: 0.010234953835606575, accuracy: 0.98828125\n",
            "Epoch: 78, learning_rate:0.01,costo: 0.009915368631482124, accuracy: 0.98046875\n",
            "Epoch: 79, learning_rate:0.01,costo: 0.004823183175176382, accuracy: 0.966796875\n",
            "Epoch: 80, learning_rate:0.01,costo: 0.0024291309528052807, accuracy: 0.98046875\n",
            "Epoch: 81, learning_rate:0.01,costo: 0.004334884695708752, accuracy: 0.984375\n",
            "Epoch: 82, learning_rate:0.01,costo: 0.008677477948367596, accuracy: 0.9765625\n",
            "Epoch: 83, learning_rate:0.01,costo: 0.004184592515230179, accuracy: 0.978515625\n",
            "Epoch: 84, learning_rate:0.01,costo: 0.007822327315807343, accuracy: 0.98046875\n",
            "Epoch: 85, learning_rate:0.01,costo: 0.002656610682606697, accuracy: 0.984375\n",
            "Epoch: 86, learning_rate:0.01,costo: 0.002815346699208021, accuracy: 0.984375\n",
            "Epoch: 87, learning_rate:0.01,costo: 0.0027493995148688555, accuracy: 0.990234375\n",
            "Epoch: 88, learning_rate:0.01,costo: 0.0035460800863802433, accuracy: 0.984375\n",
            "Epoch: 89, learning_rate:0.01,costo: 0.0036761313676834106, accuracy: 0.98828125\n",
            "Epoch: 90, learning_rate:0.01,costo: 0.0028319230768829584, accuracy: 0.982421875\n",
            "Epoch: 91, learning_rate:0.01,costo: 0.004677490796893835, accuracy: 0.98828125\n",
            "Epoch: 92, learning_rate:0.01,costo: 0.003499617101624608, accuracy: 0.986328125\n",
            "Epoch: 93, learning_rate:0.01,costo: 0.0027925889007747173, accuracy: 0.990234375\n",
            "Epoch: 94, learning_rate:0.01,costo: 0.0022386829368770123, accuracy: 0.982421875\n",
            "Epoch: 95, learning_rate:0.01,costo: 0.004175260663032532, accuracy: 0.986328125\n",
            "Epoch: 96, learning_rate:0.01,costo: 0.0028157010674476624, accuracy: 0.9765625\n",
            "Epoch: 97, learning_rate:0.01,costo: 0.002204817021265626, accuracy: 0.97265625\n",
            "Epoch: 98, learning_rate:0.01,costo: 0.007662350777536631, accuracy: 0.98828125\n",
            "Epoch: 99, learning_rate:0.01,costo: 0.004643318243324757, accuracy: 0.986328125\n",
            "Epoch: 100, learning_rate:0.01,costo: 0.0019156401976943016, accuracy: 0.978515625\n"
          ]
        }
      ],
      "source": [
        "resultados['SGDM'] = {}\n",
        "resultados['SGDM']['val_acc_list'] = [0] * epochs\n",
        "resultados['SGDM']['test_acc'] = 0\n",
        "resultados['SGDM']['cost'] = [0] * epochs\n",
        "resultados['SGDM']['time'] = 0\n",
        "resultados['SGDM']['epochs'] = 0\n",
        "\n",
        "for _ in range(MAX_ITERATIONS):\n",
        "    SGDM_acc_list, SGDM_cost_list, SGDM_lr_list, SGDM_time, SGDM_acc, SGDM_epochs = SGDM()\n",
        "    resultados['SGDM']['val_acc_list'] = SumList(resultados['SGDM']['val_acc_list'], SGDM_acc_list)\n",
        "    resultados['SGDM']['test_acc'] += SGDM_acc\n",
        "    resultados['SGDM']['cost'] = SumList(resultados['SGDM']['cost'], SGDM_cost_list)\n",
        "    resultados['SGDM']['time'] += SGDM_time\n",
        "    resultados['SGDM']['epochs'] += SGDM_epochs\n",
        "\n",
        "#Saving results\n",
        "resultados['SGDM']['name'] = 'SGDM'\n",
        "resultados['SGDM']['lr'] = SGDM_lr_list\n",
        "resultados['SGDM']['test_acc'] = resultados['SGDM']['test_acc'] / MAX_ITERATIONS\n",
        "resultados['SGDM']['val_acc_list'] = DeleteZerosFromList(DivideList(resultados['SGDM']['val_acc_list'], MAX_ITERATIONS))\n",
        "resultados['SGDM']['cost'] = DeleteZerosFromList(DivideList(resultados['SGDM']['cost'], MAX_ITERATIONS))\n",
        "resultados['SGDM']['time'] = resultados['SGDM']['time'] / MAX_ITERATIONS\n",
        "resultados['SGDM']['epochs'] = resultados['SGDM']['epochs'] / MAX_ITERATIONS\n"
      ]
    },
    {
      "cell_type": "markdown",
      "metadata": {
        "id": "eb5Poi8cmVHP"
      },
      "source": [
        "## RMSProp"
      ]
    },
    {
      "cell_type": "markdown",
      "metadata": {
        "id": "dKqKQ6cfiKqa"
      },
      "source": [
        "$\\alpha: 1x10^{-2}$ \n",
        "\n",
        "$beta: 0.9$\n"
      ]
    },
    {
      "cell_type": "code",
      "execution_count": 51,
      "metadata": {
        "id": "pEqYnO8vfGac"
      },
      "outputs": [],
      "source": [
        "def RMSP():\n",
        "    modelRMSP = nn.Sequential(nn.Linear(in_features=input_layer, out_features=layer1), nn.ReLU(), nn.Dropout(dropout),\n",
        "                       nn.Linear(in_features=layer1, out_features=layer2), nn.ReLU(), nn.Dropout(dropout),\n",
        "                       nn.Linear(in_features=layer2, out_features=10))\n",
        "    optimiserRMSP = torch.optim.RMSprop(modelRMSP.parameters(), lr=lr, alpha=0.9)\n",
        "    start.record()\n",
        "    RMSP_acc_list, RMSP_cost_list,RMSP_lr_list, RMSP_epochs = train(modelRMSP, optimiserRMSP,None, mb_size)\n",
        "    end.record()\n",
        "\n",
        "    torch.cuda.synchronize()\n",
        "    RMSP_time = start.elapsed_time(end)\n",
        "\n",
        "    RMSP_acc = accuracy(modelRMSP, x_test_tensor,  y_test_tensor, mb_size)\n",
        "\n",
        "    return RMSP_acc_list, RMSP_cost_list, RMSP_lr_list, RMSP_time, RMSP_acc, RMSP_epochs"
      ]
    },
    {
      "cell_type": "code",
      "execution_count": 52,
      "metadata": {
        "colab": {
          "base_uri": "https://localhost:8080/"
        },
        "id": "gv7uCfwOmXN3",
        "outputId": "0c45ab5b-7cd7-44b9-96e5-a6bae3f06128"
      },
      "outputs": [
        {
          "name": "stdout",
          "output_type": "stream",
          "text": [
            "Epoch: 1, learning_rate:0.01,costo: 0.4718071222305298, accuracy: 0.919921875\n",
            "Epoch: 2, learning_rate:0.01,costo: 0.35935670137405396, accuracy: 0.927734375\n",
            "Epoch: 3, learning_rate:0.01,costo: 0.219839408993721, accuracy: 0.951171875\n",
            "Epoch: 4, learning_rate:0.01,costo: 0.19876281917095184, accuracy: 0.96484375\n",
            "Epoch: 5, learning_rate:0.01,costo: 0.16523116827011108, accuracy: 0.962890625\n",
            "Epoch: 6, learning_rate:0.01,costo: 0.17666032910346985, accuracy: 0.966796875\n",
            "Epoch: 7, learning_rate:0.01,costo: 0.12645544111728668, accuracy: 0.982421875\n",
            "Epoch: 8, learning_rate:0.01,costo: 0.12726305425167084, accuracy: 0.97265625\n",
            "Epoch: 9, learning_rate:0.01,costo: 0.1403738260269165, accuracy: 0.96875\n",
            "Epoch: 10, learning_rate:0.01,costo: 0.10056737810373306, accuracy: 0.9765625\n",
            "Epoch: 11, learning_rate:0.01,costo: 0.09231766313314438, accuracy: 0.978515625\n",
            "Epoch: 12, learning_rate:0.01,costo: 0.09929998964071274, accuracy: 0.974609375\n",
            "Epoch: 13, learning_rate:0.01,costo: 0.06915225833654404, accuracy: 0.978515625\n",
            "Epoch: 14, learning_rate:0.01,costo: 0.0618169866502285, accuracy: 0.982421875\n",
            "Epoch: 15, learning_rate:0.01,costo: 0.05229954421520233, accuracy: 0.978515625\n",
            "Epoch: 16, learning_rate:0.01,costo: 0.05798263102769852, accuracy: 0.98046875\n",
            "Epoch: 17, learning_rate:0.01,costo: 0.08132155239582062, accuracy: 0.97265625\n",
            "Epoch: 18, learning_rate:0.01,costo: 0.04808111488819122, accuracy: 0.974609375\n",
            "Epoch: 19, learning_rate:0.01,costo: 0.03578701987862587, accuracy: 0.978515625\n",
            "Epoch: 20, learning_rate:0.01,costo: 0.08720581233501434, accuracy: 0.982421875\n",
            "Epoch: 21, learning_rate:0.01,costo: 0.03713501989841461, accuracy: 0.984375\n",
            "Epoch: 22, learning_rate:0.01,costo: 0.052881307899951935, accuracy: 0.98828125\n",
            "Epoch: 23, learning_rate:0.01,costo: 0.024845004081726074, accuracy: 0.96875\n",
            "Epoch: 24, learning_rate:0.01,costo: 0.033870402723550797, accuracy: 0.982421875\n",
            "Epoch: 25, learning_rate:0.01,costo: 0.02938307821750641, accuracy: 0.98046875\n",
            "Epoch: 26, learning_rate:0.01,costo: 0.027268756181001663, accuracy: 0.982421875\n",
            "Epoch: 27, learning_rate:0.01,costo: 0.033197689801454544, accuracy: 0.978515625\n",
            "Epoch: 28, learning_rate:0.01,costo: 0.01395341008901596, accuracy: 0.982421875\n",
            "Epoch: 29, learning_rate:0.01,costo: 0.03470157831907272, accuracy: 0.990234375\n",
            "Epoch: 30, learning_rate:0.01,costo: 0.022386247292160988, accuracy: 0.982421875\n",
            "Epoch: 31, learning_rate:0.01,costo: 0.02469445765018463, accuracy: 0.98828125\n",
            "Epoch: 32, learning_rate:0.01,costo: 0.02343633957207203, accuracy: 0.982421875\n",
            "Epoch: 33, learning_rate:0.01,costo: 0.020303234457969666, accuracy: 0.982421875\n",
            "Epoch: 34, learning_rate:0.01,costo: 0.03775310516357422, accuracy: 0.9765625\n",
            "Epoch: 35, learning_rate:0.01,costo: 0.027760758996009827, accuracy: 0.98046875\n",
            "Epoch: 36, learning_rate:0.01,costo: 0.028284087777137756, accuracy: 0.9765625\n",
            "Epoch: 37, learning_rate:0.01,costo: 0.014348464086651802, accuracy: 0.98046875\n",
            "Epoch: 38, learning_rate:0.01,costo: 0.01526594441384077, accuracy: 0.98046875\n",
            "Epoch: 39, learning_rate:0.01,costo: 0.014098763465881348, accuracy: 0.98046875\n",
            "Epoch: 40, learning_rate:0.01,costo: 0.012516018934547901, accuracy: 0.986328125\n",
            "Epoch: 41, learning_rate:0.01,costo: 0.006929836235940456, accuracy: 0.984375\n",
            "Epoch: 42, learning_rate:0.01,costo: 0.006682340055704117, accuracy: 0.982421875\n",
            "Epoch: 43, learning_rate:0.01,costo: 0.014700990170240402, accuracy: 0.98828125\n",
            "Epoch: 44, learning_rate:0.01,costo: 0.005447628907859325, accuracy: 0.986328125\n",
            "Epoch: 45, learning_rate:0.01,costo: 0.012693394906818867, accuracy: 0.98046875\n",
            "Epoch: 46, learning_rate:0.01,costo: 0.012344893999397755, accuracy: 0.990234375\n",
            "Epoch: 47, learning_rate:0.01,costo: 0.0074253748171031475, accuracy: 0.978515625\n",
            "Epoch: 48, learning_rate:0.01,costo: 0.02283940650522709, accuracy: 0.984375\n",
            "Epoch: 49, learning_rate:0.01,costo: 0.00706481421366334, accuracy: 0.974609375\n",
            "Epoch: 50, learning_rate:0.01,costo: 0.009357336908578873, accuracy: 0.98828125\n",
            "Epoch: 51, learning_rate:0.01,costo: 0.01852169819176197, accuracy: 0.984375\n",
            "Epoch: 52, learning_rate:0.01,costo: 0.011711977422237396, accuracy: 0.984375\n",
            "Epoch: 53, learning_rate:0.01,costo: 0.015316428616642952, accuracy: 0.974609375\n",
            "Epoch: 54, learning_rate:0.01,costo: 0.010014147497713566, accuracy: 0.990234375\n",
            "Epoch: 55, learning_rate:0.01,costo: 0.017983276396989822, accuracy: 0.982421875\n",
            "Epoch: 56, learning_rate:0.01,costo: 0.0036236639134585857, accuracy: 0.982421875\n",
            "Epoch: 57, learning_rate:0.01,costo: 0.006642680149525404, accuracy: 0.984375\n",
            "Epoch: 58, learning_rate:0.01,costo: 0.007017959374934435, accuracy: 0.986328125\n",
            "Epoch: 59, learning_rate:0.01,costo: 0.010140528902411461, accuracy: 0.98828125\n",
            "Epoch: 60, learning_rate:0.01,costo: 0.006992843002080917, accuracy: 0.98828125\n",
            "Epoch: 61, learning_rate:0.01,costo: 0.0038518826477229595, accuracy: 0.986328125\n",
            "Epoch: 62, learning_rate:0.01,costo: 0.0049093435518443584, accuracy: 0.986328125\n",
            "Epoch: 63, learning_rate:0.01,costo: 0.0070964982733130455, accuracy: 0.986328125\n",
            "Epoch: 64, learning_rate:0.01,costo: 0.0037699895910918713, accuracy: 0.984375\n",
            "Epoch: 65, learning_rate:0.01,costo: 0.004676965530961752, accuracy: 0.982421875\n",
            "Epoch: 66, learning_rate:0.01,costo: 0.009906303137540817, accuracy: 0.98828125\n",
            "Epoch: 67, learning_rate:0.01,costo: 0.006775655318051577, accuracy: 0.978515625\n",
            "Epoch: 68, learning_rate:0.01,costo: 0.012675059959292412, accuracy: 0.994140625\n",
            "Epoch: 69, learning_rate:0.01,costo: 0.013396870344877243, accuracy: 0.984375\n",
            "Epoch: 70, learning_rate:0.01,costo: 0.0054990253411233425, accuracy: 0.982421875\n",
            "Epoch: 71, learning_rate:0.01,costo: 0.005851362366229296, accuracy: 0.97265625\n",
            "Epoch: 72, learning_rate:0.01,costo: 0.006933722645044327, accuracy: 0.974609375\n",
            "Epoch: 73, learning_rate:0.01,costo: 0.004701570142060518, accuracy: 0.986328125\n",
            "Epoch: 74, learning_rate:0.01,costo: 0.005224190186709166, accuracy: 0.984375\n",
            "Epoch: 75, learning_rate:0.01,costo: 0.004723632708191872, accuracy: 0.974609375\n",
            "Epoch: 76, learning_rate:0.01,costo: 0.013063669204711914, accuracy: 0.974609375\n",
            "Epoch: 77, learning_rate:0.01,costo: 0.011003980413079262, accuracy: 0.990234375\n",
            "Epoch: 78, learning_rate:0.01,costo: 0.005411543883383274, accuracy: 0.9765625\n",
            "Epoch: 79, learning_rate:0.01,costo: 0.008405817672610283, accuracy: 0.98828125\n",
            "Epoch: 80, learning_rate:0.01,costo: 0.005496650002896786, accuracy: 0.990234375\n",
            "Epoch: 81, learning_rate:0.01,costo: 0.005963341798633337, accuracy: 0.986328125\n",
            "Epoch: 82, learning_rate:0.01,costo: 0.006323785521090031, accuracy: 0.98046875\n",
            "Epoch: 83, learning_rate:0.01,costo: 0.0062942346557974815, accuracy: 0.986328125\n",
            "Epoch: 84, learning_rate:0.01,costo: 0.004139559809118509, accuracy: 0.978515625\n",
            "Epoch: 85, learning_rate:0.01,costo: 0.0031959102489054203, accuracy: 0.982421875\n",
            "Epoch: 86, learning_rate:0.01,costo: 0.002339493716135621, accuracy: 0.982421875\n",
            "Epoch: 87, learning_rate:0.01,costo: 0.003354423912242055, accuracy: 0.9921875\n",
            "Epoch: 88, learning_rate:0.01,costo: 0.0027238260954618454, accuracy: 0.984375\n",
            "Epoch: 89, learning_rate:0.01,costo: 0.0038473939057439566, accuracy: 0.982421875\n",
            "Epoch: 90, learning_rate:0.01,costo: 0.004738217685371637, accuracy: 0.98046875\n",
            "Epoch: 91, learning_rate:0.01,costo: 0.011477301828563213, accuracy: 0.990234375\n",
            "Epoch: 92, learning_rate:0.01,costo: 0.0009737883228808641, accuracy: 0.984375\n",
            "Epoch: 93, learning_rate:0.01,costo: 0.002220267429947853, accuracy: 0.9765625\n",
            "Epoch: 94, learning_rate:0.01,costo: 0.0013375971466302872, accuracy: 0.9921875\n",
            "Epoch: 95, learning_rate:0.01,costo: 0.002034264849498868, accuracy: 1.0\n",
            "Epoch: 96, learning_rate:0.01,costo: 0.004515818785876036, accuracy: 0.984375\n",
            "Epoch: 97, learning_rate:0.01,costo: 0.001136452192440629, accuracy: 0.986328125\n",
            "Epoch: 98, learning_rate:0.01,costo: 0.010690770111978054, accuracy: 0.984375\n",
            "Epoch: 99, learning_rate:0.01,costo: 0.005587521940469742, accuracy: 0.9921875\n",
            "Epoch: 100, learning_rate:0.01,costo: 0.008774046786129475, accuracy: 0.982421875\n"
          ]
        }
      ],
      "source": [
        "resultados['RMSP'] = {}\n",
        "resultados['RMSP']['val_acc_list'] = [0] * epochs\n",
        "resultados['RMSP']['test_acc'] = 0\n",
        "resultados['RMSP']['cost'] = [0] * epochs\n",
        "resultados['RMSP']['time'] = 0\n",
        "resultados['RMSP']['epochs'] = 0\n",
        "\n",
        "for _ in range(MAX_ITERATIONS):\n",
        "    RMSP_acc_list, RMSP_cost_list, RMSP_lr_list, RMSP_time, RMSP_acc, RMSP_epochs = SGDM()\n",
        "    resultados['RMSP']['val_acc_list'] = SumList(resultados['RMSP']['val_acc_list'], RMSP_acc_list)\n",
        "    resultados['RMSP']['test_acc'] += RMSP_acc\n",
        "    resultados['RMSP']['cost'] = SumList(resultados['RMSP']['cost'], RMSP_cost_list)\n",
        "    resultados['RMSP']['time'] += RMSP_time\n",
        "    resultados['RMSP']['epochs'] += RMSP_epochs\n",
        "\n",
        "#Saving results\n",
        "resultados['RMSP']['name'] = 'RMSP'\n",
        "resultados['RMSP']['lr'] = RMSP_lr_list\n",
        "resultados['RMSP']['test_acc'] = resultados['RMSP']['test_acc'] / MAX_ITERATIONS\n",
        "resultados['RMSP']['val_acc_list'] = DeleteZerosFromList(DivideList(resultados['RMSP']['val_acc_list'], MAX_ITERATIONS))\n",
        "resultados['RMSP']['cost'] = DeleteZerosFromList(DivideList(resultados['RMSP']['cost'], MAX_ITERATIONS))\n",
        "resultados['RMSP']['time'] = resultados['RMSP']['time'] / MAX_ITERATIONS\n",
        "resultados['RMSP']['epochs'] = resultados['RMSP']['epochs'] / MAX_ITERATIONS"
      ]
    },
    {
      "cell_type": "markdown",
      "metadata": {
        "id": "E8_h21aMdgsB"
      },
      "source": [
        "# Resultados"
      ]
    },
    {
      "cell_type": "markdown",
      "metadata": {
        "id": "DJQ2_Q_q-s3a"
      },
      "source": [
        "Al guardar todos los resultados de cada método en sus respectivos diccionarios, se procede a crear un dataframe con estos resultados. Adicionalmente, se generan nuevas columnas derivadas de datos que ya disponemos y se hacen tratamiento de formato para su análisis."
      ]
    },
    {
      "cell_type": "code",
      "execution_count": 188,
      "metadata": {
        "id": "8JqUvdVzZVNx"
      },
      "outputs": [],
      "source": [
        "for key, _ in resultados.items():\n",
        "    if( resultados[key]['val_acc_list'][0] == 0 ):\n",
        "        continue\n",
        "    resultados[key]['val_acc_list'].insert(0,0)"
      ]
    },
    {
      "cell_type": "code",
      "execution_count": 189,
      "metadata": {
        "id": "7S5hiFtm-9xj"
      },
      "outputs": [],
      "source": [
        "import pandas as pd\n",
        "resultados_df = pd.DataFrame(resultados.copy()).T\n",
        "\n",
        "resultados_df['val_acc'] = resultados_df.apply(lambda row: round(row['val_acc_list'][-1]* 100,2), axis=1)\n",
        "resultados_df['test_acc'] = resultados_df.apply(lambda row: round(row['test_acc']*100,2), axis=1)\n",
        "# resultados_df['epochs'] = resultados_df.apply(lambda row: len(row['val_acc_list']), axis=1)\n",
        "# resultados_df['time'] = resultados_df.apply(lambda row: round(row['time']/(100000),2), axis=1)\n",
        "resultados_df['val_acc'] = resultados_df.apply(lambda row: '{acc}%'.format(acc = row['val_acc']), axis=1)\n",
        "resultados_df['test_acc'] = resultados_df.apply(lambda row: '{acc}%'.format(acc = row['test_acc']), axis=1)\n",
        "\n",
        "resultados_df = resultados_df.sort_values(by=['epochs'],ascending=True)"
      ]
    },
    {
      "cell_type": "markdown",
      "metadata": {
        "id": "6OUSb0gK7rHf"
      },
      "source": [
        "### L-BFGS vs L-BFGS con búsqueda lineal"
      ]
    },
    {
      "cell_type": "markdown",
      "metadata": {
        "id": "lcpvY8fm8nE_"
      },
      "source": [
        "Comparación de número de veces que se procesa el conjunto de datos de pruebas completo"
      ]
    },
    {
      "cell_type": "code",
      "execution_count": 55,
      "metadata": {
        "colab": {
          "base_uri": "https://localhost:8080/"
        },
        "id": "VpvVH_d38AkV",
        "outputId": "7bd586db-cced-4cc0-a032-bb74f5e78be2"
      },
      "outputs": [
        {
          "name": "stdout",
          "output_type": "stream",
          "text": [
            "L-BFGS: 100, L-BFGS con búsqueda:205\n"
          ]
        }
      ],
      "source": [
        "print(f'L-BFGS: {iteraciones_lbfgs}, L-BFGS con búsqueda:{len(iteraciones_lbfgs_ls)}')"
      ]
    },
    {
      "cell_type": "markdown",
      "metadata": {
        "id": "Fq4MOLZidpgh"
      },
      "source": [
        "### Comportamiento de las trazas de aprendizaje no adaptativas"
      ]
    },
    {
      "cell_type": "code",
      "execution_count": 56,
      "metadata": {
        "colab": {
          "base_uri": "https://localhost:8080/",
          "height": 985
        },
        "id": "kPz_53-BduvK",
        "outputId": "dce24dff-c581-4e65-d2b6-2be2ce11025b"
      },
      "outputs": [
        {
          "name": "stderr",
          "output_type": "stream",
          "text": [
            "C:\\Users\\denis\\AppData\\Local\\Temp\\ipykernel_27788\\3723250433.py:35: UserWarning: Matplotlib is currently using module://matplotlib_inline.backend_inline, which is a non-GUI backend, so cannot show the figure.\n",
            "  fig.show()\n"
          ]
        },
        {
          "data": {
            "image/png": "[encoded data removed]",
            "text/plain": [
              "<Figure size 1008x1080 with 6 Axes>"
            ]
          },
          "metadata": {
            "needs_background": "light"
          },
          "output_type": "display_data"
        }
      ],
      "source": [
        "from matplotlib.ticker import MultipleLocator\n",
        "\n",
        "fig, ax = plt.subplots(3,2,figsize=(14, 15))\n",
        "\n",
        "# method = [fixed_lr_list, decay_lr_list, our_decay_lr_list,cyclic_lr_list, random_cyclic_lr_list]\n",
        "method = [fixed_lr_list, decay_lr_list, random_cyclic_decrement_lr_list, random_cyclic_extended_lr_list, cyclic_lr_list, random_cyclic_lr_list]\n",
        "names = ['Tasa de aprendizaje constante', 'Tasa de aprendizaje dereciente (PyTorch)', 'Tasa de aprendizaje ciclica aleatoria decreciente', 'Tasa de aprendizaje cíclica aleatoria extendida', 'Tasa de aprendizaje cíclica aleatoria']\n",
        "i = 0\n",
        "for a in range(3):\n",
        "  for b in range(2):\n",
        "    if(a==2 and b==1):\n",
        "      ax[a,b].spines['top'].set_visible(False)\n",
        "      ax[a,b].spines['right'].set_visible(False)\n",
        "      ax[a,b].spines['bottom'].set_visible(False)\n",
        "      ax[a,b].spines['left'].set_visible(False)\n",
        "      plt.axis('off')\n",
        "      break\n",
        "    ax[a,b].plot(range(len(method[i]))[1:], \n",
        "            method[i][1:], \n",
        "            'black',\n",
        "            marker = 'o')\n",
        "    #ax[a,b].set_xlim([1, len(method[i])])\n",
        "    #ax[a,b].set_ylim([0, max(method[i]) + 0.01])\n",
        "    ax[a,b].set_xlabel('# Epochs') #, fontsize = 18)\n",
        "    ax[a,b].set_ylabel('Tasa de aprendizaje') #, fontsize = 18)\n",
        "    ax[a,b].spines['top'].set_visible(False)\n",
        "    ax[a,b].spines['right'].set_visible(False)\n",
        "    #ax[a,b].xaxis.set_major_locator(MultipleLocator(len(method[i])//4))\n",
        "    #ax[a,b].xaxis.set_minor_locator(MultipleLocator(len(method[i])//4))\n",
        "    ax[a,b].set_title(names[i])\n",
        "    i+=1\n",
        "\n",
        "\n",
        "fig.suptitle('Comportamiento de tasas de aprendizaje por epoch')\n",
        "fig.show()"
      ]
    },
    {
      "cell_type": "markdown",
      "metadata": {
        "id": "71Qelt3wIs3T"
      },
      "source": [
        "### Velocidad de convergencia basado en epochs"
      ]
    },
    {
      "cell_type": "code",
      "execution_count": 190,
      "metadata": {
        "id": "2dpmMZT72w09"
      },
      "outputs": [],
      "source": [
        "resultados_df = resultados_df.sort_values(by=['epochs'],ascending=True)"
      ]
    },
    {
      "cell_type": "code",
      "execution_count": 191,
      "metadata": {
        "colab": {
          "base_uri": "https://localhost:8080/",
          "height": 397
        },
        "id": "lruyulJ5C4SR",
        "outputId": "b72e27b1-1915-45c6-cfab-8df37ad194bb"
      },
      "outputs": [
        {
          "name": "stderr",
          "output_type": "stream",
          "text": [
            "C:\\Users\\denis\\AppData\\Local\\Temp\\ipykernel_27788\\1767391596.py:1: FutureWarning: this method is deprecated in favour of `Styler.hide(axis='index')`\n",
            "  resultados_df[['name','epochs','time']].style.hide_index()\n"
          ]
        },
        {
          "data": {
            "text/html": [
              "<style type=\"text/css\">\n",
              "</style>\n",
              "<table id=\"T_360f2\">\n",
              "  <thead>\n",
              "    <tr>\n",
              "      <th id=\"T_360f2_level0_col0\" class=\"col_heading level0 col0\" >name</th>\n",
              "      <th id=\"T_360f2_level0_col1\" class=\"col_heading level0 col1\" >epochs</th>\n",
              "      <th id=\"T_360f2_level0_col2\" class=\"col_heading level0 col2\" >time</th>\n",
              "    </tr>\n",
              "  </thead>\n",
              "  <tbody>\n",
              "    <tr>\n",
              "      <td id=\"T_360f2_row0_col0\" class=\"data row0 col0\" >Fijo</td>\n",
              "      <td id=\"T_360f2_row0_col1\" class=\"data row0 col1\" >0.000000</td>\n",
              "      <td id=\"T_360f2_row0_col2\" class=\"data row0 col2\" >16778.843750</td>\n",
              "    </tr>\n",
              "    <tr>\n",
              "      <td id=\"T_360f2_row1_col0\" class=\"data row1 col0\" >Decreciente</td>\n",
              "      <td id=\"T_360f2_row1_col1\" class=\"data row1 col1\" >0.000000</td>\n",
              "      <td id=\"T_360f2_row1_col2\" class=\"data row1 col2\" >16855.011719</td>\n",
              "    </tr>\n",
              "    <tr>\n",
              "      <td id=\"T_360f2_row2_col0\" class=\"data row2 col0\" >Random Ciclico</td>\n",
              "      <td id=\"T_360f2_row2_col1\" class=\"data row2 col1\" >11.000000</td>\n",
              "      <td id=\"T_360f2_row2_col2\" class=\"data row2 col2\" >16108.964844</td>\n",
              "    </tr>\n",
              "    <tr>\n",
              "      <td id=\"T_360f2_row3_col0\" class=\"data row3 col0\" >Ciclico</td>\n",
              "      <td id=\"T_360f2_row3_col1\" class=\"data row3 col1\" >44.000000</td>\n",
              "      <td id=\"T_360f2_row3_col2\" class=\"data row3 col2\" >16866.833984</td>\n",
              "    </tr>\n",
              "  </tbody>\n",
              "</table>\n"
            ],
            "text/plain": [
              "<pandas.io.formats.style.Styler at 0x1ca877f2e60>"
            ]
          },
          "execution_count": 191,
          "metadata": {},
          "output_type": "execute_result"
        }
      ],
      "source": [
        "resultados_df[['name','epochs','time']].style.hide_index()"
      ]
    },
    {
      "cell_type": "markdown",
      "metadata": {
        "id": "hFSasuSZ2koT"
      },
      "source": [
        "### Curvas de aprendizaje: precisión\n"
      ]
    },
    {
      "cell_type": "code",
      "execution_count": 59,
      "metadata": {
        "colab": {
          "base_uri": "https://localhost:8080/",
          "height": 397
        },
        "id": "cV7izzpfbJ3g",
        "outputId": "573e1768-cd1a-44eb-d293-aa74302feda5"
      },
      "outputs": [
        {
          "name": "stderr",
          "output_type": "stream",
          "text": [
            "C:\\Users\\denis\\AppData\\Local\\Temp\\ipykernel_27788\\4194298493.py:2: FutureWarning: this method is deprecated in favour of `Styler.hide(axis='index')`\n",
            "  resultados_df[['name','val_acc','time','test_acc', 'epochs']].style.hide_index()\n"
          ]
        },
        {
          "data": {
            "text/html": [
              "<style type=\"text/css\">\n",
              "</style>\n",
              "<table id=\"T_fa4dc\">\n",
              "  <thead>\n",
              "    <tr>\n",
              "      <th id=\"T_fa4dc_level0_col0\" class=\"col_heading level0 col0\" >name</th>\n",
              "      <th id=\"T_fa4dc_level0_col1\" class=\"col_heading level0 col1\" >val_acc</th>\n",
              "      <th id=\"T_fa4dc_level0_col2\" class=\"col_heading level0 col2\" >time</th>\n",
              "      <th id=\"T_fa4dc_level0_col3\" class=\"col_heading level0 col3\" >test_acc</th>\n",
              "      <th id=\"T_fa4dc_level0_col4\" class=\"col_heading level0 col4\" >epochs</th>\n",
              "    </tr>\n",
              "  </thead>\n",
              "  <tbody>\n",
              "    <tr>\n",
              "      <td id=\"T_fa4dc_row0_col0\" class=\"data row0 col0\" >RMSP</td>\n",
              "      <td id=\"T_fa4dc_row0_col1\" class=\"data row0 col1\" >98.24%</td>\n",
              "      <td id=\"T_fa4dc_row0_col2\" class=\"data row0 col2\" >37624.816406</td>\n",
              "      <td id=\"T_fa4dc_row0_col3\" class=\"data row0 col3\" >99.02%</td>\n",
              "      <td id=\"T_fa4dc_row0_col4\" class=\"data row0 col4\" >3.000000</td>\n",
              "    </tr>\n",
              "    <tr>\n",
              "      <td id=\"T_fa4dc_row1_col0\" class=\"data row1 col0\" >SGDM</td>\n",
              "      <td id=\"T_fa4dc_row1_col1\" class=\"data row1 col1\" >97.85%</td>\n",
              "      <td id=\"T_fa4dc_row1_col2\" class=\"data row1 col2\" >37810.535156</td>\n",
              "      <td id=\"T_fa4dc_row1_col3\" class=\"data row1 col3\" >99.02%</td>\n",
              "      <td id=\"T_fa4dc_row1_col4\" class=\"data row1 col4\" >6.000000</td>\n",
              "    </tr>\n",
              "    <tr>\n",
              "      <td id=\"T_fa4dc_row2_col0\" class=\"data row2 col0\" >Random Ciclico</td>\n",
              "      <td id=\"T_fa4dc_row2_col1\" class=\"data row2 col1\" >99.02%</td>\n",
              "      <td id=\"T_fa4dc_row2_col2\" class=\"data row2 col2\" >34223.574219</td>\n",
              "      <td id=\"T_fa4dc_row2_col3\" class=\"data row2 col3\" >98.83%</td>\n",
              "      <td id=\"T_fa4dc_row2_col4\" class=\"data row2 col4\" >5.000000</td>\n",
              "    </tr>\n",
              "    <tr>\n",
              "      <td id=\"T_fa4dc_row3_col0\" class=\"data row3 col0\" >Ciclico</td>\n",
              "      <td id=\"T_fa4dc_row3_col1\" class=\"data row3 col1\" >97.66%</td>\n",
              "      <td id=\"T_fa4dc_row3_col2\" class=\"data row3 col2\" >34573.316406</td>\n",
              "      <td id=\"T_fa4dc_row3_col3\" class=\"data row3 col3\" >98.83%</td>\n",
              "      <td id=\"T_fa4dc_row3_col4\" class=\"data row3 col4\" >8.000000</td>\n",
              "    </tr>\n",
              "    <tr>\n",
              "      <td id=\"T_fa4dc_row4_col0\" class=\"data row4 col0\" >Random Ciclico Extended</td>\n",
              "      <td id=\"T_fa4dc_row4_col1\" class=\"data row4 col1\" >98.63%</td>\n",
              "      <td id=\"T_fa4dc_row4_col2\" class=\"data row4 col2\" >34034.500000</td>\n",
              "      <td id=\"T_fa4dc_row4_col3\" class=\"data row4 col3\" >98.63%</td>\n",
              "      <td id=\"T_fa4dc_row4_col4\" class=\"data row4 col4\" >4.000000</td>\n",
              "    </tr>\n",
              "    <tr>\n",
              "      <td id=\"T_fa4dc_row5_col0\" class=\"data row5 col0\" >Our Decay</td>\n",
              "      <td id=\"T_fa4dc_row5_col1\" class=\"data row5 col1\" >98.44%</td>\n",
              "      <td id=\"T_fa4dc_row5_col2\" class=\"data row5 col2\" >34461.875000</td>\n",
              "      <td id=\"T_fa4dc_row5_col3\" class=\"data row5 col3\" >98.63%</td>\n",
              "      <td id=\"T_fa4dc_row5_col4\" class=\"data row5 col4\" >4.000000</td>\n",
              "    </tr>\n",
              "    <tr>\n",
              "      <td id=\"T_fa4dc_row6_col0\" class=\"data row6 col0\" >LBFGS With LS</td>\n",
              "      <td id=\"T_fa4dc_row6_col1\" class=\"data row6 col1\" >98.44%</td>\n",
              "      <td id=\"T_fa4dc_row6_col2\" class=\"data row6 col2\" >25882.302734</td>\n",
              "      <td id=\"T_fa4dc_row6_col3\" class=\"data row6 col3\" >98.05%</td>\n",
              "      <td id=\"T_fa4dc_row6_col4\" class=\"data row6 col4\" >2.000000</td>\n",
              "    </tr>\n",
              "    <tr>\n",
              "      <td id=\"T_fa4dc_row7_col0\" class=\"data row7 col0\" >Random Ciclico Decreciente</td>\n",
              "      <td id=\"T_fa4dc_row7_col1\" class=\"data row7 col1\" >97.85%</td>\n",
              "      <td id=\"T_fa4dc_row7_col2\" class=\"data row7 col2\" >33711.644531</td>\n",
              "      <td id=\"T_fa4dc_row7_col3\" class=\"data row7 col3\" >97.85%</td>\n",
              "      <td id=\"T_fa4dc_row7_col4\" class=\"data row7 col4\" >5.000000</td>\n",
              "    </tr>\n",
              "    <tr>\n",
              "      <td id=\"T_fa4dc_row8_col0\" class=\"data row8 col0\" >LBFGS</td>\n",
              "      <td id=\"T_fa4dc_row8_col1\" class=\"data row8 col1\" >99.02%</td>\n",
              "      <td id=\"T_fa4dc_row8_col2\" class=\"data row8 col2\" >13236.593750</td>\n",
              "      <td id=\"T_fa4dc_row8_col3\" class=\"data row8 col3\" >97.27%</td>\n",
              "      <td id=\"T_fa4dc_row8_col4\" class=\"data row8 col4\" >28.000000</td>\n",
              "    </tr>\n",
              "    <tr>\n",
              "      <td id=\"T_fa4dc_row9_col0\" class=\"data row9 col0\" >Fijo</td>\n",
              "      <td id=\"T_fa4dc_row9_col1\" class=\"data row9 col1\" >96.68%</td>\n",
              "      <td id=\"T_fa4dc_row9_col2\" class=\"data row9 col2\" >36528.746094</td>\n",
              "      <td id=\"T_fa4dc_row9_col3\" class=\"data row9 col3\" >96.88%</td>\n",
              "      <td id=\"T_fa4dc_row9_col4\" class=\"data row9 col4\" >20.000000</td>\n",
              "    </tr>\n",
              "    <tr>\n",
              "      <td id=\"T_fa4dc_row10_col0\" class=\"data row10 col0\" >Adam</td>\n",
              "      <td id=\"T_fa4dc_row10_col1\" class=\"data row10 col1\" >98.44%</td>\n",
              "      <td id=\"T_fa4dc_row10_col2\" class=\"data row10 col2\" >49075.410156</td>\n",
              "      <td id=\"T_fa4dc_row10_col3\" class=\"data row10 col3\" >95.7%</td>\n",
              "      <td id=\"T_fa4dc_row10_col4\" class=\"data row10 col4\" >1.000000</td>\n",
              "    </tr>\n",
              "    <tr>\n",
              "      <td id=\"T_fa4dc_row11_col0\" class=\"data row11 col0\" >Decreciente</td>\n",
              "      <td id=\"T_fa4dc_row11_col1\" class=\"data row11 col1\" >94.73%</td>\n",
              "      <td id=\"T_fa4dc_row11_col2\" class=\"data row11 col2\" >34176.433594</td>\n",
              "      <td id=\"T_fa4dc_row11_col3\" class=\"data row11 col3\" >94.34%</td>\n",
              "      <td id=\"T_fa4dc_row11_col4\" class=\"data row11 col4\" >34.000000</td>\n",
              "    </tr>\n",
              "  </tbody>\n",
              "</table>\n"
            ],
            "text/plain": [
              "<pandas.io.formats.style.Styler at 0x1ca8e7a2a40>"
            ]
          },
          "execution_count": 59,
          "metadata": {},
          "output_type": "execute_result"
        }
      ],
      "source": [
        "resultados_df = resultados_df.sort_values(by=['test_acc'],ascending=False)\n",
        "resultados_df[['name','val_acc','time','test_acc', 'epochs']].style.hide_index()"
      ]
    },
    {
      "cell_type": "code",
      "execution_count": 60,
      "metadata": {
        "colab": {
          "base_uri": "https://localhost:8080/",
          "height": 362
        },
        "id": "bP3C7xC1vql8",
        "outputId": "5c1ca114-d3db-483e-8b15-ec7600efa968"
      },
      "outputs": [
        {
          "data": {
            "image/png": "[encoded data removed]",
            "text/plain": [
              "<Figure size 720x360 with 1 Axes>"
            ]
          },
          "metadata": {
            "needs_background": "light"
          },
          "output_type": "display_data"
        }
      ],
      "source": [
        "from matplotlib.ticker import MultipleLocator\n",
        "\n",
        "bbox = dict(boxstyle =\"round\", fc =\"1\")\n",
        "arrowprops = dict(\n",
        "    arrowstyle = \"->\")\n",
        "offset = 72\n",
        "\n",
        "fig, ax = plt.subplots(figsize=(10, 5))\n",
        "\n",
        "\n",
        "for k1 in resultados_df.index:\n",
        "    ax.plot(range(len(resultados_df.loc[k1,'val_acc_list'])),\n",
        "        resultados_df.loc[k1,'val_acc_list'],\n",
        "        label='{name} = {acc}%'.format(name= resultados_df.loc[k1,'name'],\n",
        "                                       acc = round(resultados_df.loc[k1,'val_acc_list'][-1] * 100 , 2)))\n",
        "\n",
        "plt.title('Epochs vs Accuracy Train Set', fontsize = 18)\n",
        "\n",
        "#ax.set_xlim([0, 50])\n",
        "ax.set_ylim([0.6, 0.98])\n",
        "#plt.yscale('log')\n",
        "\n",
        "ax.set_xlabel('# Epochs', fontsize = 18)\n",
        "ax.set_ylabel('Train Accuracy', fontsize = 18)\n",
        "ax.spines['top'].set_visible(False)\n",
        "ax.spines['right'].set_visible(False)\n",
        "ax.xaxis.set_major_locator(MultipleLocator(10))\n",
        "ax.xaxis.set_minor_locator(MultipleLocator(1))\n",
        "ax.legend()\n",
        "\n",
        "# ax.annotate('data = (%.1f, %.1f)'%(14, 0.95),\n",
        "#             (14, 0.95), xytext =(1 + 14,0.95),\n",
        "#             textcoords ='offset points',\n",
        "#             bbox = bbox, arrowprops = arrowprops)\n",
        "\n",
        "plt.show()"
      ]
    },
    {
      "cell_type": "markdown",
      "metadata": {
        "id": "pY3jQ5IWgUu1"
      },
      "source": [
        "### Curvas de aprendizaje: pérdida en la función de costo"
      ]
    },
    {
      "cell_type": "code",
      "execution_count": 61,
      "metadata": {
        "colab": {
          "base_uri": "https://localhost:8080/",
          "height": 362
        },
        "id": "244PkTh8t2hF",
        "outputId": "8b0284ed-8ea4-4e38-aee1-280a3765f6ab"
      },
      "outputs": [
        {
          "data": {
            "image/png": "[encoded data removed]",
            "text/plain": [
              "<Figure size 720x360 with 1 Axes>"
            ]
          },
          "metadata": {
            "needs_background": "light"
          },
          "output_type": "display_data"
        }
      ],
      "source": [
        "from matplotlib.ticker import MultipleLocator\n",
        "\n",
        "bbox = dict(boxstyle =\"round\", fc =\"1\")\n",
        "arrowprops = dict(\n",
        "    arrowstyle = \"->\")\n",
        "offset = 72\n",
        "\n",
        "fig, ax = plt.subplots(figsize=(10, 5))\n",
        "\n",
        "\n",
        "for k1 in resultados_df.index:\n",
        "    ax.plot(range(len(resultados_df.loc[k1,'cost'])),\n",
        "        resultados_df.loc[k1,'cost'],\n",
        "        label='{name} = {acc}%'.format(name= resultados_df.loc[k1,'name'],\n",
        "                                       acc = resultados_df.loc[k1,'val_acc']))\n",
        "\n",
        "plt.title('Epochs vs Costo', fontsize = 18)\n",
        "\n",
        "\n",
        "ax.set_xlabel('# Epochs', fontsize = 18)\n",
        "ax.set_ylabel('Costo', fontsize = 18)\n",
        "ax.spines['top'].set_visible(False)\n",
        "ax.spines['right'].set_visible(False)\n",
        "ax.xaxis.set_major_locator(MultipleLocator(10))\n",
        "ax.xaxis.set_minor_locator(MultipleLocator(1))\n",
        "ax.legend()\n",
        "\n",
        "# ax.annotate('data = (%.1f, %.1f)'%(14, 0.95),\n",
        "#             (14, 0.95), xytext =(1 + 14,0.95),\n",
        "#             textcoords ='offset points',\n",
        "#             bbox = bbox, arrowprops = arrowprops)\n",
        "\n",
        "plt.show()"
      ]
    },
    {
      "cell_type": "code",
      "execution_count": 62,
      "metadata": {
        "id": "L5Euazzd2NZp"
      },
      "outputs": [],
      "source": [
        "resultados_df.to_csv('Experimento1.csv')"
      ]
    }
  ],
  "metadata": {
    "accelerator": "GPU",
    "colab": {
      "include_colab_link": true,
      "provenance": [],
      "toc_visible": true
    },
    "gpuClass": "standard",
    "kernelspec": {
      "display_name": "Python 3",
      "language": "python",
      "name": "python3"
    },
    "language_info": {
      "codemirror_mode": {
        "name": "ipython",
        "version": 3
      },
      "file_extension": ".py",
      "mimetype": "text/x-python",
      "name": "python",
      "nbconvert_exporter": "python",
      "pygments_lexer": "ipython3",
      "version": "3.10.2"
    },
    "vscode": {
      "interpreter": {
        "hash": "ccfea65839ea7b4cb7611917847ae955f8a5d3f7496a05c88f3bf628abe673bf"
      }
    }
  },
  "nbformat": 4,
  "nbformat_minor": 0
}
