{
  "cells": [
    {
      "cell_type": "code",
      "execution_count": 1,
      "metadata": {
        "id": "F4gP7LPQTtg7"
      },
      "outputs": [],
      "source": [
        "import numpy as np\n",
        "import matplotlib.pyplot as plt\n",
        "from get_images import get_images\n",
        "\n",
        "# PyTorch \n",
        "import torch\n",
        "import torch.nn as nn\n",
        "import torch.nn.functional as F"
      ]
    },
    {
      "cell_type": "markdown",
      "metadata": {
        "id": "5-mULGvWTthB"
      },
      "source": [
        "# Get Images"
      ]
    },
    {
      "cell_type": "code",
      "execution_count": 2,
      "metadata": {
        "id": "9vdIQd58TthD"
      },
      "outputs": [],
      "source": [
        "MNIST_PATH = './Dataset/'"
      ]
    },
    {
      "cell_type": "code",
      "execution_count": 3,
      "metadata": {
        "id": "slQPSqQeTthE"
      },
      "outputs": [],
      "source": [
        "x_train_num, y_train_num, x_test_num, y_test_num = get_images(MNIST_PATH)"
      ]
    },
    {
      "cell_type": "code",
      "execution_count": 4,
      "metadata": {
        "id": "HFnaRwd-TthE"
      },
      "outputs": [],
      "source": [
        "#Training set\n",
        "x_train = x_train_num[:50000].reshape(50000,-1).astype(np.float32)/255 ##Convert the traint set into a (50000, 28x28) matrix normalized\n",
        "y_train = y_train_num[:50000].reshape(50000,1)\n",
        "\n",
        "##Validation set\n",
        "x_val = x_train_num[50000:].reshape(10000,-1).astype(np.float32)/255\n",
        "y_val = y_train_num[50000:].reshape(10000,1)\n",
        "\n",
        "##Test set\n",
        "x_test = x_test_num.copy().reshape(10000,-1).astype(np.float32)/255\n",
        "y_test = y_test_num.copy().reshape(10000,1)"
      ]
    },
    {
      "cell_type": "markdown",
      "metadata": {
        "id": "zZz8hG0OTthF"
      },
      "source": [
        "## Normalize images"
      ]
    },
    {
      "cell_type": "code",
      "execution_count": 5,
      "metadata": {
        "id": "_kFtDZs6TthG"
      },
      "outputs": [],
      "source": [
        "def normalise(x_mean, x_std, x_data):\n",
        "    return (x_data - x_mean) / x_std"
      ]
    },
    {
      "cell_type": "code",
      "execution_count": 6,
      "metadata": {
        "id": "KYhJenIZTthG"
      },
      "outputs": [],
      "source": [
        "x_mean = x_train.mean()\n",
        "x_std = x_train.std()\n",
        "\n",
        "x_train = normalise(x_mean, x_std, x_train)\n",
        "x_val = normalise(x_mean, x_std, x_val)\n",
        "x_test = normalise(x_mean, x_std, x_test)"
      ]
    },
    {
      "cell_type": "code",
      "execution_count": 7,
      "metadata": {
        "colab": {
          "base_uri": "https://localhost:8080/"
        },
        "id": "RRx3THErTthH",
        "outputId": "690c00d3-3c45-411e-badc-16a16aa0c69d"
      },
      "outputs": [
        {
          "data": {
            "text/plain": [
              "(8.5686665e-08, 0.9999983)"
            ]
          },
          "execution_count": 7,
          "metadata": {},
          "output_type": "execute_result"
        }
      ],
      "source": [
        "x_train.mean(), x_train.std()"
      ]
    },
    {
      "cell_type": "markdown",
      "metadata": {
        "id": "OMAv3EVXTthJ"
      },
      "source": [
        "## Show Images"
      ]
    },
    {
      "cell_type": "code",
      "execution_count": 8,
      "metadata": {
        "colab": {
          "base_uri": "https://localhost:8080/"
        },
        "id": "SHHAe687TthJ",
        "outputId": "3ecb1a01-f286-45d2-83d8-2cb52c26ba3c"
      },
      "outputs": [
        {
          "data": {
            "text/plain": [
              "(10000, 784)"
            ]
          },
          "execution_count": 8,
          "metadata": {},
          "output_type": "execute_result"
        }
      ],
      "source": [
        "x_test.shape"
      ]
    },
    {
      "cell_type": "code",
      "execution_count": 9,
      "metadata": {
        "colab": {
          "base_uri": "https://localhost:8080/"
        },
        "id": "u_FPmhofTthK",
        "outputId": "04f1349d-874a-426f-e96a-188032a9d2f1"
      },
      "outputs": [
        {
          "data": {
            "text/plain": [
              "(50000, 1)"
            ]
          },
          "execution_count": 9,
          "metadata": {},
          "output_type": "execute_result"
        }
      ],
      "source": [
        "y_train.shape"
      ]
    },
    {
      "cell_type": "code",
      "execution_count": 10,
      "metadata": {
        "id": "w4HfkSTqTthK"
      },
      "outputs": [],
      "source": [
        "def plot_number(image):\n",
        "    plt.figure(figsize=(5,5))\n",
        "    plt.imshow(image.squeeze(), cmap=plt.get_cmap('gray'))\n",
        "    plt.axis('off')\n",
        "    plt.show()"
      ]
    },
    {
      "cell_type": "code",
      "execution_count": 13,
      "metadata": {
        "colab": {
          "base_uri": "https://localhost:8080/"
        },
        "id": "7TQtWTpZTthL",
        "outputId": "d901b631-a2a4-44bf-d78c-f89906398ad5"
      },
      "outputs": [
        {
          "name": "stdout",
          "output_type": "stream",
          "text": [
            "La imagen muestreada representa un: 5\n"
          ]
        },
        {
          "data": {
            "image/png": "[encoded data removed]",
            "text/plain": [
              "<Figure size 360x360 with 1 Axes>"
            ]
          },
          "metadata": {
            "needs_background": "light"
          },
          "output_type": "display_data"
        }
      ],
      "source": [
        "rnd_idx = np.random.randint(len(y_test))\n",
        "print(f'La imagen muestreada representa un: {y_test[rnd_idx, 0]}')\n",
        "plot_number(x_test_num[rnd_idx])"
      ]
    },
    {
      "cell_type": "markdown",
      "metadata": {
        "id": "eVo-PF6cTthM"
      },
      "source": [
        "## Create Mini Batches"
      ]
    },
    {
      "cell_type": "code",
      "execution_count": 14,
      "metadata": {
        "id": "Ym639R_PTthM"
      },
      "outputs": [],
      "source": [
        "def create_minibatches(x, y, mb_size, shuffle = True):\n",
        "    '''\n",
        "    x  #muestras, 784\n",
        "    y #muestras, 1\n",
        "    '''\n",
        "    assert x.shape[0] == y.shape[0], 'Error en cantidad de muestras'\n",
        "    total_data = x.shape[0]\n",
        "    if shuffle: \n",
        "        idxs = np.arange(total_data, dtype=float)\n",
        "        np.random.shuffle(idxs)\n",
        "        x = x[idxs]\n",
        "        y = y[idxs]  \n",
        "    return ((x[i:i+mb_size], y[i:i+mb_size]) for i in range(0, total_data, mb_size))"
      ]
    },
    {
      "cell_type": "markdown",
      "metadata": {
        "id": "K5Ypqe6nTthN"
      },
      "source": [
        "# Pytorch "
      ]
    },
    {
      "cell_type": "code",
      "execution_count": 16,
      "metadata": {
        "id": "6quE_eQ9TthO"
      },
      "outputs": [],
      "source": [
        "x_train_tensor = torch.Tensor(x_train.copy())\n",
        "y_train_tensor = torch.Tensor(y_train.copy())\n",
        "\n",
        "x_val_tensor = torch.Tensor(x_val.copy())\n",
        "y_val_tensor = torch.Tensor(y_val.copy())\n",
        "\n",
        "x_test_tensor = torch.Tensor(x_test.copy())\n",
        "y_test_tensor = torch.Tensor(y_test.copy())"
      ]
    },
    {
      "cell_type": "markdown",
      "metadata": {
        "id": "YqPgXB1DTthP"
      },
      "source": [
        "## Use GPU when available"
      ]
    },
    {
      "cell_type": "code",
      "execution_count": 17,
      "metadata": {
        "colab": {
          "base_uri": "https://localhost:8080/"
        },
        "id": "e1oc0PTWTthQ",
        "outputId": "921c30ca-b8b2-4d46-c976-64cdd1dfbbc0"
      },
      "outputs": [
        {
          "data": {
            "text/plain": [
              "True"
            ]
          },
          "execution_count": 17,
          "metadata": {},
          "output_type": "execute_result"
        }
      ],
      "source": [
        "torch.cuda.is_available()"
      ]
    },
    {
      "cell_type": "code",
      "execution_count": 18,
      "metadata": {
        "colab": {
          "base_uri": "https://localhost:8080/"
        },
        "id": "ZebY-iBHTthQ",
        "outputId": "463fc827-06ba-4eca-f61d-46b562b3edf3"
      },
      "outputs": [
        {
          "name": "stdout",
          "output_type": "stream",
          "text": [
            "Estamos usando: cuda\n"
          ]
        }
      ],
      "source": [
        "if torch.cuda.is_available():\n",
        "    device = torch.device('cuda')\n",
        "else:\n",
        "    device = torch.device('cpu')\n",
        "print(f'Estamos usando: {device}')"
      ]
    },
    {
      "cell_type": "markdown",
      "metadata": {
        "id": "L66abJ9WTthR"
      },
      "source": [
        "# Accuracy"
      ]
    },
    {
      "cell_type": "code",
      "execution_count": 19,
      "metadata": {
        "id": "Zt6iiZyuTthR"
      },
      "outputs": [],
      "source": [
        "def accuracy(model: nn.Sequential, x: torch.tensor, y: torch.tensor, mb_size: int):\n",
        "    num_correct = 0\n",
        "    num_total = 0\n",
        "    model.eval()\n",
        "    model = model.to(device=device)\n",
        "    with torch.no_grad():\n",
        "        for (xi, yi) in create_minibatches(x, y, mb_size):\n",
        "            xi = xi.to(device=device, dtype = torch.float32)\n",
        "            yi = yi.to(device=device, dtype = torch.long)\n",
        "            scores = model(xi) # mb_size, 10\n",
        "            _, pred = scores.max(dim=1) #pred shape (mb_size )\n",
        "            num_correct += (pred == yi.squeeze()).sum() # pred shape (mb_size), yi shape (mb_size, 1)\n",
        "            num_total += pred.size(0)\n",
        "\n",
        "            return float(num_correct)/num_total  "
      ]
    },
    {
      "cell_type": "markdown",
      "metadata": {
        "id": "LR4DuKf3TthR"
      },
      "source": [
        "# Train"
      ]
    },
    {
      "cell_type": "code",
      "execution_count": 20,
      "metadata": {
        "id": "4W7Pja5LTthS"
      },
      "outputs": [],
      "source": [
        "def train(model: nn.Sequential, optimizer: torch.optim.SGD, scheduler, mb_size: int, epochs=100):\n",
        "    model = model.to(device=device)\n",
        "    for epoch in range(epochs):\n",
        "      for (xi, yi) in create_minibatches(x_train_tensor, y_train_tensor, mb_size):\n",
        "            model.train()\n",
        "            xi = xi.to(device=device, dtype=torch.float32)\n",
        "            yi = yi.to(device=device, dtype=torch.long)\n",
        "            scores = model(xi)\n",
        "            # cost function\n",
        "            cost = F.cross_entropy(input= scores, target=yi.squeeze())\n",
        "            optimizer.zero_grad()\n",
        "            cost.backward()\n",
        "            optimizer.step()\n",
        "      scheduler.step()\n",
        "            \n",
        "      print(f'Epoch: {epoch}, lr:{scheduler.get_last_lr()}, costo: {cost.item()}, accuracy: {accuracy(model, x_val_tensor, y_val_tensor, mb_size)}')"
      ]
    },
    {
      "cell_type": "code",
      "execution_count": 22,
      "metadata": {
        "id": "HtRDD6Nu0507"
      },
      "outputs": [],
      "source": [
        "def train(model, optimiser, mb_size):\n",
        "    model = model.to(device=device)\n",
        "    epoch_acc = 0.0\n",
        "    #plot lists\n",
        "    acc_list = [0.0]\n",
        "    cost_list = [0.0]\n",
        "    #training while\n",
        "    while epoch_acc < 0.95:\n",
        "        for (xi, yi) in create_minibatches(x_train_tensor, y_train_tensor, mb_size):\n",
        "            model.train()\n",
        "            xi = xi.to(device=device, dtype=torch.float32)\n",
        "            yi = yi.to(device=device, dtype=torch.long)\n",
        "            scores = model(xi)\n",
        "            # cost function\n",
        "            cost = F.cross_entropy(input= scores, target=yi.squeeze())\n",
        "            optimiser.zero_grad()\n",
        "            cost.backward()\n",
        "            optimiser.step()\n",
        "        epoch_acc = accuracy(model, x_val_tensor, y_val_tensor, mb_size)\n",
        "        epoch_cost = cost.item()\n",
        "        #append\n",
        "        acc_list.append(epoch_acc)\n",
        "        #append cost\n",
        "        cost_list.append(epoch_cost)\n",
        "        print(f'Epoch: {len(acc_list)}, costo: {epoch_cost}, accuracy: {epoch_acc}')\n",
        "    return acc_list, cost_list\n",
        "      "
      ]
    },
    {
      "cell_type": "markdown",
      "metadata": {
        "id": "015SGTIaTthS"
      },
      "source": [
        "# Def Model"
      ]
    },
    {
      "cell_type": "code",
      "execution_count": 23,
      "metadata": {
        "id": "eU7rP_YlPmnI"
      },
      "outputs": [],
      "source": [
        "#Parametros del modelo\n",
        "hidden1 = 1000 \n",
        "hidden = 1000\n",
        "lr = 1e-2\n",
        "epochs = 100\n",
        "mb_size = 4096"
      ]
    },
    {
      "cell_type": "markdown",
      "metadata": {
        "id": "VKKLswGF1fN2"
      },
      "source": [
        "## SGD"
      ]
    },
    {
      "cell_type": "code",
      "execution_count": 24,
      "metadata": {
        "colab": {
          "base_uri": "https://localhost:8080/"
        },
        "id": "ipwfv9PgTthT",
        "outputId": "30d4c040-e4da-4980-9b6e-89486c28a1c9"
      },
      "outputs": [
        {
          "name": "stdout",
          "output_type": "stream",
          "text": [
            "Epoch: 2, costo: 2.2315869331359863, accuracy: 0.373291015625\n",
            "Epoch: 3, costo: 2.1472856998443604, accuracy: 0.609130859375\n",
            "Epoch: 4, costo: 2.0639820098876953, accuracy: 0.705078125\n",
            "Epoch: 5, costo: 1.9610345363616943, accuracy: 0.724853515625\n",
            "Epoch: 6, costo: 1.8614274263381958, accuracy: 0.74072265625\n",
            "Epoch: 7, costo: 1.7436028718948364, accuracy: 0.748046875\n",
            "Epoch: 8, costo: 1.6242737770080566, accuracy: 0.769287109375\n",
            "Epoch: 9, costo: 1.477858066558838, accuracy: 0.77734375\n",
            "Epoch: 10, costo: 1.3460428714752197, accuracy: 0.79296875\n",
            "Epoch: 11, costo: 1.2056536674499512, accuracy: 0.809814453125\n",
            "Epoch: 12, costo: 1.1218503713607788, accuracy: 0.807373046875\n",
            "Epoch: 13, costo: 1.009346604347229, accuracy: 0.8330078125\n",
            "Epoch: 14, costo: 0.9368172883987427, accuracy: 0.83984375\n",
            "Epoch: 15, costo: 0.8673577308654785, accuracy: 0.847412109375\n",
            "Epoch: 16, costo: 0.8383375406265259, accuracy: 0.84765625\n",
            "Epoch: 17, costo: 0.755142331123352, accuracy: 0.85546875\n",
            "Epoch: 18, costo: 0.7033489346504211, accuracy: 0.859619140625\n",
            "Epoch: 19, costo: 0.6772351264953613, accuracy: 0.87109375\n",
            "Epoch: 20, costo: 0.6844686269760132, accuracy: 0.875244140625\n",
            "Epoch: 21, costo: 0.6885796785354614, accuracy: 0.87646484375\n",
            "Epoch: 22, costo: 0.5895542502403259, accuracy: 0.87451171875\n",
            "Epoch: 23, costo: 0.5766651630401611, accuracy: 0.87451171875\n",
            "Epoch: 24, costo: 0.5333985090255737, accuracy: 0.878173828125\n",
            "Epoch: 25, costo: 0.5668759942054749, accuracy: 0.881103515625\n",
            "Epoch: 26, costo: 0.49091973900794983, accuracy: 0.88427734375\n",
            "Epoch: 27, costo: 0.522660493850708, accuracy: 0.8876953125\n",
            "Epoch: 28, costo: 0.5023178458213806, accuracy: 0.8837890625\n",
            "Epoch: 29, costo: 0.514267086982727, accuracy: 0.88818359375\n",
            "Epoch: 30, costo: 0.48109957575798035, accuracy: 0.888916015625\n",
            "Epoch: 31, costo: 0.4593897759914398, accuracy: 0.89892578125\n",
            "Epoch: 32, costo: 0.46103593707084656, accuracy: 0.892822265625\n",
            "Epoch: 33, costo: 0.4974292516708374, accuracy: 0.891357421875\n",
            "Epoch: 34, costo: 0.4509168267250061, accuracy: 0.89599609375\n",
            "Epoch: 35, costo: 0.4685281813144684, accuracy: 0.899658203125\n",
            "Epoch: 36, costo: 0.4504340589046478, accuracy: 0.903076171875\n",
            "Epoch: 37, costo: 0.4140479862689972, accuracy: 0.8935546875\n",
            "Epoch: 38, costo: 0.4368092119693756, accuracy: 0.896728515625\n",
            "Epoch: 39, costo: 0.39707130193710327, accuracy: 0.90380859375\n",
            "Epoch: 40, costo: 0.39685842394828796, accuracy: 0.901611328125\n",
            "Epoch: 41, costo: 0.4228033721446991, accuracy: 0.906982421875\n",
            "Epoch: 42, costo: 0.3890689015388489, accuracy: 0.9072265625\n",
            "Epoch: 43, costo: 0.37363046407699585, accuracy: 0.907958984375\n",
            "Epoch: 44, costo: 0.3830522894859314, accuracy: 0.9130859375\n",
            "Epoch: 45, costo: 0.39570116996765137, accuracy: 0.90576171875\n",
            "Epoch: 46, costo: 0.4397358298301697, accuracy: 0.91064453125\n",
            "Epoch: 47, costo: 0.35347551107406616, accuracy: 0.9052734375\n",
            "Epoch: 48, costo: 0.37838461995124817, accuracy: 0.903076171875\n",
            "Epoch: 49, costo: 0.4089391231536865, accuracy: 0.907470703125\n",
            "Epoch: 50, costo: 0.33223167061805725, accuracy: 0.90771484375\n",
            "Epoch: 51, costo: 0.3838500678539276, accuracy: 0.90380859375\n",
            "Epoch: 52, costo: 0.34295132756233215, accuracy: 0.907958984375\n",
            "Epoch: 53, costo: 0.3329674005508423, accuracy: 0.9111328125\n",
            "Epoch: 54, costo: 0.36681047081947327, accuracy: 0.9091796875\n",
            "Epoch: 55, costo: 0.32874906063079834, accuracy: 0.906494140625\n",
            "Epoch: 56, costo: 0.3520582914352417, accuracy: 0.902587890625\n",
            "Epoch: 57, costo: 0.3546960949897766, accuracy: 0.906005859375\n",
            "Epoch: 58, costo: 0.3731614351272583, accuracy: 0.909423828125\n",
            "Epoch: 59, costo: 0.36725205183029175, accuracy: 0.912841796875\n",
            "Epoch: 60, costo: 0.3307527005672455, accuracy: 0.90380859375\n",
            "Epoch: 61, costo: 0.34380602836608887, accuracy: 0.9130859375\n",
            "Epoch: 62, costo: 0.33419370651245117, accuracy: 0.910400390625\n",
            "Epoch: 63, costo: 0.3394707143306732, accuracy: 0.922607421875\n",
            "Epoch: 64, costo: 0.3110717236995697, accuracy: 0.91162109375\n",
            "Epoch: 65, costo: 0.32115742564201355, accuracy: 0.9111328125\n",
            "Epoch: 66, costo: 0.29481470584869385, accuracy: 0.91455078125\n",
            "Epoch: 67, costo: 0.366058349609375, accuracy: 0.91015625\n",
            "Epoch: 68, costo: 0.33780619502067566, accuracy: 0.917724609375\n",
            "Epoch: 69, costo: 0.3234051764011383, accuracy: 0.9072265625\n",
            "Epoch: 70, costo: 0.2952383756637573, accuracy: 0.913330078125\n",
            "Epoch: 71, costo: 0.3311484456062317, accuracy: 0.911376953125\n",
            "Epoch: 72, costo: 0.3404095768928528, accuracy: 0.911376953125\n",
            "Epoch: 73, costo: 0.3656843900680542, accuracy: 0.92041015625\n",
            "Epoch: 74, costo: 0.2839565873146057, accuracy: 0.91064453125\n",
            "Epoch: 75, costo: 0.31848374009132385, accuracy: 0.91796875\n",
            "Epoch: 76, costo: 0.26617133617401123, accuracy: 0.920654296875\n",
            "Epoch: 77, costo: 0.30403292179107666, accuracy: 0.909912109375\n",
            "Epoch: 78, costo: 0.3214401602745056, accuracy: 0.91943359375\n",
            "Epoch: 79, costo: 0.3624080717563629, accuracy: 0.917236328125\n",
            "Epoch: 80, costo: 0.30354708433151245, accuracy: 0.92236328125\n",
            "Epoch: 81, costo: 0.30617159605026245, accuracy: 0.9189453125\n",
            "Epoch: 82, costo: 0.3146880865097046, accuracy: 0.921142578125\n",
            "Epoch: 83, costo: 0.32613691687583923, accuracy: 0.919189453125\n",
            "Epoch: 84, costo: 0.3059464991092682, accuracy: 0.91845703125\n",
            "Epoch: 85, costo: 0.3494938910007477, accuracy: 0.919677734375\n",
            "Epoch: 86, costo: 0.22501055896282196, accuracy: 0.922607421875\n",
            "Epoch: 87, costo: 0.26195159554481506, accuracy: 0.916748046875\n",
            "Epoch: 88, costo: 0.27777034044265747, accuracy: 0.9189453125\n",
            "Epoch: 89, costo: 0.2742590010166168, accuracy: 0.91796875\n",
            "Epoch: 90, costo: 0.329706072807312, accuracy: 0.92626953125\n",
            "Epoch: 91, costo: 0.2637495994567871, accuracy: 0.921630859375\n",
            "Epoch: 92, costo: 0.3074799180030823, accuracy: 0.927734375\n",
            "Epoch: 93, costo: 0.26308465003967285, accuracy: 0.922607421875\n",
            "Epoch: 94, costo: 0.30855339765548706, accuracy: 0.928466796875\n",
            "Epoch: 95, costo: 0.2500620484352112, accuracy: 0.91845703125\n",
            "Epoch: 96, costo: 0.24824227392673492, accuracy: 0.922119140625\n",
            "Epoch: 97, costo: 0.27821990847587585, accuracy: 0.92578125\n",
            "Epoch: 98, costo: 0.2954410910606384, accuracy: 0.921630859375\n",
            "Epoch: 99, costo: 0.2800719738006592, accuracy: 0.9189453125\n",
            "Epoch: 100, costo: 0.30108407139778137, accuracy: 0.923828125\n",
            "Epoch: 101, costo: 0.2688358724117279, accuracy: 0.926513671875\n",
            "Epoch: 102, costo: 0.31537389755249023, accuracy: 0.91796875\n",
            "Epoch: 103, costo: 0.2653234302997589, accuracy: 0.9150390625\n",
            "Epoch: 104, costo: 0.2830303907394409, accuracy: 0.930908203125\n",
            "Epoch: 105, costo: 0.325113981962204, accuracy: 0.923828125\n",
            "Epoch: 106, costo: 0.3149009346961975, accuracy: 0.9267578125\n",
            "Epoch: 107, costo: 0.27116501331329346, accuracy: 0.92138671875\n",
            "Epoch: 108, costo: 0.2811415195465088, accuracy: 0.925537109375\n",
            "Epoch: 109, costo: 0.2632770240306854, accuracy: 0.922119140625\n",
            "Epoch: 110, costo: 0.29008617997169495, accuracy: 0.927001953125\n",
            "Epoch: 111, costo: 0.2331659495830536, accuracy: 0.9287109375\n",
            "Epoch: 112, costo: 0.2805047035217285, accuracy: 0.9296875\n",
            "Epoch: 113, costo: 0.3020285367965698, accuracy: 0.92431640625\n",
            "Epoch: 114, costo: 0.28986284136772156, accuracy: 0.9267578125\n",
            "Epoch: 115, costo: 0.3211442530155182, accuracy: 0.934326171875\n",
            "Epoch: 116, costo: 0.2873800992965698, accuracy: 0.9267578125\n",
            "Epoch: 117, costo: 0.2539519965648651, accuracy: 0.931640625\n",
            "Epoch: 118, costo: 0.22226960957050323, accuracy: 0.926513671875\n",
            "Epoch: 119, costo: 0.2554174065589905, accuracy: 0.927001953125\n",
            "Epoch: 120, costo: 0.2763765752315521, accuracy: 0.921875\n",
            "Epoch: 121, costo: 0.23977062106132507, accuracy: 0.92626953125\n",
            "Epoch: 122, costo: 0.25748732686042786, accuracy: 0.92431640625\n",
            "Epoch: 123, costo: 0.2542046904563904, accuracy: 0.92822265625\n",
            "Epoch: 124, costo: 0.24787302315235138, accuracy: 0.93408203125\n",
            "Epoch: 125, costo: 0.2894209325313568, accuracy: 0.934326171875\n",
            "Epoch: 126, costo: 0.26089218258857727, accuracy: 0.9306640625\n",
            "Epoch: 127, costo: 0.21576598286628723, accuracy: 0.927734375\n",
            "Epoch: 128, costo: 0.2547987103462219, accuracy: 0.92919921875\n",
            "Epoch: 129, costo: 0.2738594114780426, accuracy: 0.935546875\n",
            "Epoch: 130, costo: 0.2157430797815323, accuracy: 0.932861328125\n",
            "Epoch: 131, costo: 0.26551613211631775, accuracy: 0.929443359375\n",
            "Epoch: 132, costo: 0.2648114562034607, accuracy: 0.93408203125\n",
            "Epoch: 133, costo: 0.27448543906211853, accuracy: 0.929931640625\n",
            "Epoch: 134, costo: 0.2198597937822342, accuracy: 0.936767578125\n",
            "Epoch: 135, costo: 0.27478450536727905, accuracy: 0.93310546875\n",
            "Epoch: 136, costo: 0.27202290296554565, accuracy: 0.93701171875\n",
            "Epoch: 137, costo: 0.2791028618812561, accuracy: 0.932861328125\n",
            "Epoch: 138, costo: 0.22119303047657013, accuracy: 0.933349609375\n",
            "Epoch: 139, costo: 0.28703874349594116, accuracy: 0.9267578125\n",
            "Epoch: 140, costo: 0.20124131441116333, accuracy: 0.935302734375\n",
            "Epoch: 141, costo: 0.28217482566833496, accuracy: 0.93017578125\n",
            "Epoch: 142, costo: 0.24790526926517487, accuracy: 0.93310546875\n",
            "Epoch: 143, costo: 0.25412771105766296, accuracy: 0.93359375\n",
            "Epoch: 144, costo: 0.2648140490055084, accuracy: 0.9345703125\n",
            "Epoch: 145, costo: 0.26398661732673645, accuracy: 0.92333984375\n",
            "Epoch: 146, costo: 0.22722789645195007, accuracy: 0.935791015625\n",
            "Epoch: 147, costo: 0.31352460384368896, accuracy: 0.934814453125\n",
            "Epoch: 148, costo: 0.20745614171028137, accuracy: 0.937744140625\n",
            "Epoch: 149, costo: 0.24453264474868774, accuracy: 0.931640625\n",
            "Epoch: 150, costo: 0.2215498983860016, accuracy: 0.934326171875\n",
            "Epoch: 151, costo: 0.25327879190444946, accuracy: 0.942138671875\n",
            "Epoch: 152, costo: 0.23251605033874512, accuracy: 0.932373046875\n",
            "Epoch: 153, costo: 0.21245282888412476, accuracy: 0.933349609375\n",
            "Epoch: 154, costo: 0.18994444608688354, accuracy: 0.93408203125\n",
            "Epoch: 155, costo: 0.3073563873767853, accuracy: 0.932861328125\n",
            "Epoch: 156, costo: 0.24569353461265564, accuracy: 0.935546875\n",
            "Epoch: 157, costo: 0.24285627901554108, accuracy: 0.933349609375\n",
            "Epoch: 158, costo: 0.23526518046855927, accuracy: 0.933837890625\n",
            "Epoch: 159, costo: 0.24741779267787933, accuracy: 0.935546875\n",
            "Epoch: 160, costo: 0.2364988923072815, accuracy: 0.9375\n",
            "Epoch: 161, costo: 0.20996122062206268, accuracy: 0.93701171875\n",
            "Epoch: 162, costo: 0.24701343476772308, accuracy: 0.93408203125\n",
            "Epoch: 163, costo: 0.2409488707780838, accuracy: 0.9365234375\n",
            "Epoch: 164, costo: 0.21202662587165833, accuracy: 0.93017578125\n",
            "Epoch: 165, costo: 0.19990494847297668, accuracy: 0.940673828125\n",
            "Epoch: 166, costo: 0.18882977962493896, accuracy: 0.93798828125\n",
            "Epoch: 167, costo: 0.23280398547649384, accuracy: 0.939453125\n",
            "Epoch: 168, costo: 0.22078703343868256, accuracy: 0.936279296875\n",
            "Epoch: 169, costo: 0.21504001319408417, accuracy: 0.93798828125\n",
            "Epoch: 170, costo: 0.26670175790786743, accuracy: 0.939208984375\n",
            "Epoch: 171, costo: 0.26863452792167664, accuracy: 0.942138671875\n",
            "Epoch: 172, costo: 0.22337618470191956, accuracy: 0.93359375\n",
            "Epoch: 173, costo: 0.22517366707324982, accuracy: 0.942626953125\n",
            "Epoch: 174, costo: 0.24776600301265717, accuracy: 0.9443359375\n",
            "Epoch: 175, costo: 0.2010589987039566, accuracy: 0.939453125\n",
            "Epoch: 176, costo: 0.20667065680027008, accuracy: 0.939208984375\n",
            "Epoch: 177, costo: 0.22759167850017548, accuracy: 0.945068359375\n",
            "Epoch: 178, costo: 0.20356084406375885, accuracy: 0.939453125\n",
            "Epoch: 179, costo: 0.2573023736476898, accuracy: 0.9443359375\n",
            "Epoch: 180, costo: 0.20943881571292877, accuracy: 0.94384765625\n",
            "Epoch: 181, costo: 0.21916314959526062, accuracy: 0.9375\n",
            "Epoch: 182, costo: 0.23774656653404236, accuracy: 0.943115234375\n",
            "Epoch: 183, costo: 0.2634326219558716, accuracy: 0.9375\n",
            "Epoch: 184, costo: 0.17601002752780914, accuracy: 0.939208984375\n",
            "Epoch: 185, costo: 0.22769016027450562, accuracy: 0.937744140625\n",
            "Epoch: 186, costo: 0.20491646230220795, accuracy: 0.9443359375\n",
            "Epoch: 187, costo: 0.20157328248023987, accuracy: 0.93701171875\n",
            "Epoch: 188, costo: 0.1669229418039322, accuracy: 0.940673828125\n",
            "Epoch: 189, costo: 0.2376207858324051, accuracy: 0.948974609375\n",
            "Epoch: 190, costo: 0.24445413053035736, accuracy: 0.936767578125\n",
            "Epoch: 191, costo: 0.23465096950531006, accuracy: 0.941650390625\n",
            "Epoch: 192, costo: 0.20727264881134033, accuracy: 0.942138671875\n",
            "Epoch: 193, costo: 0.18407562375068665, accuracy: 0.94287109375\n",
            "Epoch: 194, costo: 0.182521790266037, accuracy: 0.9365234375\n",
            "Epoch: 195, costo: 0.22766761481761932, accuracy: 0.94384765625\n",
            "Epoch: 196, costo: 0.2025013566017151, accuracy: 0.947021484375\n",
            "Epoch: 197, costo: 0.20882204174995422, accuracy: 0.9462890625\n",
            "Epoch: 198, costo: 0.22949056327342987, accuracy: 0.94580078125\n",
            "Epoch: 199, costo: 0.18828937411308289, accuracy: 0.9462890625\n",
            "Epoch: 200, costo: 0.234100341796875, accuracy: 0.945556640625\n",
            "Epoch: 201, costo: 0.21001815795898438, accuracy: 0.94189453125\n",
            "Epoch: 202, costo: 0.21945728361606598, accuracy: 0.945556640625\n",
            "Epoch: 203, costo: 0.2144114226102829, accuracy: 0.943359375\n",
            "Epoch: 204, costo: 0.19969376921653748, accuracy: 0.9423828125\n",
            "Epoch: 205, costo: 0.20323912799358368, accuracy: 0.940185546875\n",
            "Epoch: 206, costo: 0.19482840597629547, accuracy: 0.94189453125\n",
            "Epoch: 207, costo: 0.19911690056324005, accuracy: 0.949951171875\n",
            "Epoch: 208, costo: 0.2008395940065384, accuracy: 0.94580078125\n",
            "Epoch: 209, costo: 0.22449837625026703, accuracy: 0.947998046875\n",
            "Epoch: 210, costo: 0.18364989757537842, accuracy: 0.94873046875\n",
            "Epoch: 211, costo: 0.2740885317325592, accuracy: 0.949951171875\n",
            "Epoch: 212, costo: 0.19700278341770172, accuracy: 0.94873046875\n",
            "Epoch: 213, costo: 0.17617622017860413, accuracy: 0.9443359375\n",
            "Epoch: 214, costo: 0.19416946172714233, accuracy: 0.9482421875\n",
            "Epoch: 215, costo: 0.21128401160240173, accuracy: 0.94677734375\n",
            "Epoch: 216, costo: 0.17088378965854645, accuracy: 0.944091796875\n",
            "Epoch: 217, costo: 0.17186948657035828, accuracy: 0.94970703125\n",
            "Epoch: 218, costo: 0.2123534381389618, accuracy: 0.946533203125\n",
            "Epoch: 219, costo: 0.1662241667509079, accuracy: 0.952392578125\n"
          ]
        }
      ],
      "source": [
        "modelSGD = nn.Sequential(nn.Linear(in_features=784, out_features=hidden1), nn.ReLU(),\n",
        "                       nn.Linear(in_features=hidden1, out_features=hidden), nn.ReLU(),\n",
        "                       nn.Linear(in_features=hidden, out_features=10))\n",
        "optimiserSGD = torch.optim.SGD(modelSGD.parameters(), lr=lr)\n",
        "\n",
        "SGD_acc_list, SGD_cost_list = train(modelSGD, optimiserSGD, mb_size)"
      ]
    },
    {
      "cell_type": "code",
      "execution_count": 25,
      "metadata": {
        "id": "CuVDT7y3TthT"
      },
      "outputs": [],
      "source": [
        "SGD_acc = accuracy(modelSGD, x_test_tensor,  y_test_tensor, mb_size)"
      ]
    },
    {
      "cell_type": "markdown",
      "metadata": {
        "id": "5kYmaTIu1kqZ"
      },
      "source": [
        "## SGD con Momentum"
      ]
    },
    {
      "cell_type": "code",
      "execution_count": 26,
      "metadata": {
        "colab": {
          "base_uri": "https://localhost:8080/"
        },
        "id": "D4C46aYfTthU",
        "outputId": "5f62e637-1ea0-4a52-d767-f4419f8d38dd"
      },
      "outputs": [
        {
          "name": "stdout",
          "output_type": "stream",
          "text": [
            "Epoch: 2, costo: 1.9953302145004272, accuracy: 0.7216796875\n",
            "Epoch: 3, costo: 1.1957496404647827, accuracy: 0.79541015625\n",
            "Epoch: 4, costo: 0.6280062198638916, accuracy: 0.852783203125\n",
            "Epoch: 5, costo: 0.4599311053752899, accuracy: 0.884521484375\n",
            "Epoch: 6, costo: 0.3977142572402954, accuracy: 0.90185546875\n",
            "Epoch: 7, costo: 0.3932632803916931, accuracy: 0.908447265625\n",
            "Epoch: 8, costo: 0.3099234104156494, accuracy: 0.908447265625\n",
            "Epoch: 9, costo: 0.28180885314941406, accuracy: 0.91552734375\n",
            "Epoch: 10, costo: 0.27127695083618164, accuracy: 0.916748046875\n",
            "Epoch: 11, costo: 0.30810078978538513, accuracy: 0.9150390625\n",
            "Epoch: 12, costo: 0.2856054902076721, accuracy: 0.923583984375\n",
            "Epoch: 13, costo: 0.3363826274871826, accuracy: 0.927001953125\n",
            "Epoch: 14, costo: 0.26281821727752686, accuracy: 0.9287109375\n",
            "Epoch: 15, costo: 0.2778403162956238, accuracy: 0.927001953125\n",
            "Epoch: 16, costo: 0.2608916759490967, accuracy: 0.931884765625\n",
            "Epoch: 17, costo: 0.2270253598690033, accuracy: 0.934326171875\n",
            "Epoch: 18, costo: 0.2576783299446106, accuracy: 0.930419921875\n",
            "Epoch: 19, costo: 0.2439461648464203, accuracy: 0.933349609375\n",
            "Epoch: 20, costo: 0.2652382552623749, accuracy: 0.93603515625\n",
            "Epoch: 21, costo: 0.18189392983913422, accuracy: 0.936767578125\n",
            "Epoch: 22, costo: 0.21727673709392548, accuracy: 0.93994140625\n",
            "Epoch: 23, costo: 0.17894530296325684, accuracy: 0.94677734375\n",
            "Epoch: 24, costo: 0.20923909544944763, accuracy: 0.948974609375\n",
            "Epoch: 25, costo: 0.21588610112667084, accuracy: 0.94921875\n",
            "Epoch: 26, costo: 0.2093057632446289, accuracy: 0.94921875\n",
            "Epoch: 27, costo: 0.15711186826229095, accuracy: 0.950927734375\n"
          ]
        }
      ],
      "source": [
        "modelSGDM = nn.Sequential(nn.Linear(in_features=784, out_features=hidden1), nn.ReLU(),\n",
        "                       nn.Linear(in_features=hidden1, out_features=hidden), nn.ReLU(),\n",
        "                       nn.Linear(in_features=hidden, out_features=10))\n",
        "optimiserSGDM = torch.optim.SGD(modelSGDM.parameters(), lr=lr, momentum=0.9)\n",
        "\n",
        "SGDM_acc_list, SGDM_cost_list = train(modelSGDM, optimiserSGDM, mb_size)"
      ]
    },
    {
      "cell_type": "code",
      "execution_count": 27,
      "metadata": {
        "id": "u6XB2OyJ13vp"
      },
      "outputs": [],
      "source": [
        "SGDM_acc = accuracy(modelSGDM, x_test_tensor,  y_test_tensor, mb_size)"
      ]
    },
    {
      "cell_type": "markdown",
      "metadata": {
        "id": "8lsY6z-z15AH"
      },
      "source": [
        "## RMSProp"
      ]
    },
    {
      "cell_type": "code",
      "execution_count": 28,
      "metadata": {
        "colab": {
          "base_uri": "https://localhost:8080/"
        },
        "id": "EhBGCMEY16tk",
        "outputId": "3ea247ef-48a2-4b84-ccbf-4e6da8672dfd"
      },
      "outputs": [
        {
          "name": "stdout",
          "output_type": "stream",
          "text": [
            "Epoch: 2, costo: 0.8925046324729919, accuracy: 0.789794921875\n",
            "Epoch: 3, costo: 0.6289525032043457, accuracy: 0.892578125\n",
            "Epoch: 4, costo: 0.454149454832077, accuracy: 0.9013671875\n",
            "Epoch: 5, costo: 0.47904181480407715, accuracy: 0.81494140625\n",
            "Epoch: 6, costo: 0.30368903279304504, accuracy: 0.9052734375\n",
            "Epoch: 7, costo: 0.23051077127456665, accuracy: 0.944091796875\n",
            "Epoch: 8, costo: 0.2284485101699829, accuracy: 0.945556640625\n",
            "Epoch: 9, costo: 0.1767520308494568, accuracy: 0.912353515625\n",
            "Epoch: 10, costo: 0.7415668368339539, accuracy: 0.94140625\n",
            "Epoch: 11, costo: 0.16778111457824707, accuracy: 0.91455078125\n",
            "Epoch: 12, costo: 0.6962103247642517, accuracy: 0.783203125\n",
            "Epoch: 13, costo: 0.14944790303707123, accuracy: 0.95654296875\n"
          ]
        }
      ],
      "source": [
        "modelRMSP = nn.Sequential(nn.Linear(in_features=784, out_features=hidden1), nn.ReLU(),\n",
        "                       nn.Linear(in_features=hidden1, out_features=hidden), nn.ReLU(),\n",
        "                       nn.Linear(in_features=hidden, out_features=10))\n",
        "optimiserRMSP = torch.optim.RMSprop(modelRMSP.parameters(), lr=lr, alpha=0.9)\n",
        "\n",
        "RMSP_acc_list, RMSP_cost_list = train(modelRMSP, optimiserRMSP, mb_size)"
      ]
    },
    {
      "cell_type": "code",
      "execution_count": 29,
      "metadata": {
        "id": "pXnrrj222CzA"
      },
      "outputs": [],
      "source": [
        "RMSP_acc = accuracy(modelRMSP, x_test_tensor,  y_test_tensor, mb_size)"
      ]
    },
    {
      "cell_type": "markdown",
      "metadata": {
        "id": "1VzPf4fU2GAh"
      },
      "source": [
        "## Adam"
      ]
    },
    {
      "cell_type": "code",
      "execution_count": 30,
      "metadata": {
        "colab": {
          "base_uri": "https://localhost:8080/"
        },
        "id": "acbFK71A2HYl",
        "outputId": "ca81c4c4-18a1-44ac-9b38-661f6c7c2591"
      },
      "outputs": [
        {
          "name": "stdout",
          "output_type": "stream",
          "text": [
            "Epoch: 2, costo: 0.6039091348648071, accuracy: 0.85205078125\n",
            "Epoch: 3, costo: 0.2820046842098236, accuracy: 0.935546875\n",
            "Epoch: 4, costo: 0.17356421053409576, accuracy: 0.94189453125\n",
            "Epoch: 5, costo: 0.13712270557880402, accuracy: 0.96533203125\n"
          ]
        }
      ],
      "source": [
        "modelAdam = nn.Sequential(nn.Linear(in_features=784, out_features=hidden1), nn.ReLU(),\n",
        "                       nn.Linear(in_features=hidden1, out_features=hidden), nn.ReLU(),\n",
        "                       nn.Linear(in_features=hidden, out_features=10))\n",
        "optimiserAdam = torch.optim.Adam(modelAdam.parameters(), lr=lr, betas=(0.9, 0.999))\n",
        "\n",
        "Adam_acc_list, Adam_cost_list = train(modelAdam, optimiserAdam, mb_size)"
      ]
    },
    {
      "cell_type": "code",
      "execution_count": 31,
      "metadata": {
        "id": "rzuWYZUP2MMf"
      },
      "outputs": [],
      "source": [
        "Adam_acc = accuracy(modelAdam, x_test_tensor,  y_test_tensor, mb_size)"
      ]
    },
    {
      "cell_type": "code",
      "execution_count": 32,
      "metadata": {
        "colab": {
          "base_uri": "https://localhost:8080/"
        },
        "id": "uNcDFaUd_ZtU",
        "outputId": "16d5e270-8c99-4cad-9b8d-f99b0d435312"
      },
      "outputs": [
        {
          "data": {
            "text/plain": [
              "(0.9462890625, 0.943115234375, 0.95556640625, 0.958984375)"
            ]
          },
          "execution_count": 32,
          "metadata": {},
          "output_type": "execute_result"
        }
      ],
      "source": [
        "SGD_acc, SGDM_acc, RMSP_acc, Adam_acc"
      ]
    },
    {
      "cell_type": "markdown",
      "metadata": {
        "id": "g6fWg5anV58k"
      },
      "source": [
        "# Plot Section"
      ]
    },
    {
      "cell_type": "code",
      "execution_count": 33,
      "metadata": {
        "colab": {
          "base_uri": "https://localhost:8080/",
          "height": 295
        },
        "id": "FeqPp0ZBV_PE",
        "outputId": "262d7493-3c0f-40ed-a6f3-cc2a9e845f56"
      },
      "outputs": [
        {
          "data": {
            "image/png": "[encoded data removed]",
            "text/plain": [
              "<Figure size 432x288 with 1 Axes>"
            ]
          },
          "metadata": {
            "needs_background": "light"
          },
          "output_type": "display_data"
        }
      ],
      "source": [
        "x_axis = range(len(SGDM_acc_list))\n",
        "y_axis = np.linspace(0,5,10)\n",
        "\n",
        "#Modificar grafica\n",
        "#Tratar de buscar algunos papers para ver como grafican\n",
        "\n",
        "plt.plot(range(len(SGD_acc_list)), SGD_acc_list, 'y', label='SGD = {acc}%'.format(acc = round(SGD_acc_list[-1] * 100 , 2)))\n",
        "plt.plot(range(len(SGDM_acc_list)), SGDM_acc_list, 'g', label='SGDM = {acc}%'.format(acc = round(SGDM_acc_list[-1] * 100, 2)))\n",
        "plt.plot(range(len(RMSP_acc_list)), RMSP_acc_list, 'b', label='RMSP = {acc}%'.format(acc = round(RMSP_acc_list[-1] * 100, 2)))\n",
        "plt.plot(range(len(Adam_acc_list)), Adam_acc_list, 'r', label='Adam = {acc}%'.format(acc = round(Adam_acc_list[-1] * 100, 2)))\n",
        "\n",
        "plt.title('Epochs vs Accuracy')\n",
        "plt.xlabel('Nbr. Epochs')\n",
        "plt.ylabel('Accuracy')\n",
        "plt.legend()\n",
        "plt.show()"
      ]
    },
    {
      "cell_type": "code",
      "execution_count": 34,
      "metadata": {
        "id": "K6YD6H9HXZnj"
      },
      "outputs": [
        {
          "name": "stdout",
          "output_type": "stream",
          "text": [
            "1.13.1+cu117\n"
          ]
        }
      ],
      "source": [
        "print(torch.__version__)"
      ]
    },
    {
      "cell_type": "code",
      "execution_count": null,
      "metadata": {},
      "outputs": [],
      "source": []
    }
  ],
  "metadata": {
    "accelerator": "GPU",
    "colab": {
      "collapsed_sections": [
        "5-mULGvWTthB",
        "K5Ypqe6nTthN",
        "L66abJ9WTthR",
        "LR4DuKf3TthR",
        "5kYmaTIu1kqZ",
        "8lsY6z-z15AH",
        "1VzPf4fU2GAh"
      ],
      "provenance": []
    },
    "gpuClass": "standard",
    "kernelspec": {
      "display_name": "Python 3",
      "language": "python",
      "name": "python3"
    },
    "language_info": {
      "codemirror_mode": {
        "name": "ipython",
        "version": 3
      },
      "file_extension": ".py",
      "mimetype": "text/x-python",
      "name": "python",
      "nbconvert_exporter": "python",
      "pygments_lexer": "ipython3",
      "version": "3.10.2"
    },
    "vscode": {
      "interpreter": {
        "hash": "ccfea65839ea7b4cb7611917847ae955f8a5d3f7496a05c88f3bf628abe673bf"
      }
    }
  },
  "nbformat": 4,
  "nbformat_minor": 0
}
